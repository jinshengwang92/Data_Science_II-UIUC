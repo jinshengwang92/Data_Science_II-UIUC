{
 "cells": [
  {
   "cell_type": "markdown",
   "metadata": {
    "deletable": false,
    "nbgrader": {
     "checksum": "1891bdcd87c6c960df75b6e90b02b234",
     "grade": false,
     "grade_id": "header",
     "locked": true,
     "solution": false
    }
   },
   "source": [
    "If you are not using the `Assignments` tab on the course JupyterHub server to read this notebook, read [Activating the assignments tab](https://github.com/lcdm-uiuc/info490-sp17/blob/master/help/act_assign_tab.md).\n",
    "\n",
    "A few things you should keep in mind when working on assignments:\n",
    "\n",
    "1. Make sure you fill in any place that says `YOUR CODE HERE`. Do **not** write your answer in anywhere else other than where it says `YOUR CODE HERE`. Anything you write anywhere else will be removed or overwritten by the autograder.\n",
    "\n",
    "2. Before you submit your assignment, make sure everything runs as expected. Go to menubar, select _Kernel_, and restart the kernel and run all cells (_Restart & Run all_).\n",
    "\n",
    "3. Do not change the title (i.e. file name) of this notebook.\n",
    "\n",
    "4. Make sure that you save your work (in the menubar, select _File_ → _Save and CheckPoint_)\n",
    "\n",
    "5. You are allowed to submit an assignment multiple times, but only the most recent submission will be graded."
   ]
  },
  {
   "cell_type": "markdown",
   "metadata": {
    "deletable": false,
    "nbgrader": {
     "checksum": "b5065982ff7cde7dc33505fc001d4ca8",
     "grade": false,
     "grade_id": "title",
     "locked": true,
     "solution": false
    }
   },
   "source": [
    "# Problem 10.2. Graph Analysis."
   ]
  },
  {
   "cell_type": "code",
   "execution_count": null,
   "metadata": {
    "collapsed": true,
    "deletable": false,
    "nbgrader": {
     "checksum": "cb480c2cee6b685bcb78f263c28a328b",
     "grade": false,
     "grade_id": "import",
     "locked": true,
     "solution": false
    }
   },
   "outputs": [],
   "source": [
    "%matplotlib inline\n",
    "import networkx as nx\n",
    "import numpy as np\n",
    "import matplotlib as mpl\n",
    "import matplotlib.pyplot as plt\n",
    "import seaborn as sns\n",
    "\n",
    "from nose.tools import assert_equal, assert_almost_equal, assert_is_instance, assert_true, assert_false\n",
    "from numpy.testing import assert_array_equal, assert_array_almost_equal"
   ]
  },
  {
   "cell_type": "markdown",
   "metadata": {
    "deletable": false,
    "nbgrader": {
     "checksum": "7d91e11a8bcca38481455d8a5fcf4440",
     "grade": false,
     "locked": false,
     "solution": false
    }
   },
   "source": [
    "## Florentine Families Social Network\n",
    "\n",
    "In this assignment, we'll be looking at the social network of the [Florentine Families](https://en.wikipedia.org/wiki/Category:Families_of_Florence)."
   ]
  },
  {
   "cell_type": "code",
   "execution_count": null,
   "metadata": {
    "collapsed": false,
    "deletable": false,
    "nbgrader": {
     "checksum": "df937ac8a81c654ab5b279b0053d47fc",
     "grade": false,
     "grade_id": "KS_graph_run",
     "locked": true,
     "solution": false
    }
   },
   "outputs": [],
   "source": [
    "g=nx.florentine_families_graph()"
   ]
  },
  {
   "cell_type": "markdown",
   "metadata": {
    "deletable": false,
    "nbgrader": {
     "checksum": "a0558af895c79e82b56679ebd01945d8",
     "grade": false,
     "grade_id": "markdown_2",
     "locked": true,
     "solution": false
    }
   },
   "source": [
    "- Use `networkx.draw()` to draw the social network of the Florentine families.\n",
    "\n",
    "    ![](./images/FF_graph.png)"
   ]
  },
  {
   "cell_type": "code",
   "execution_count": null,
   "metadata": {
    "collapsed": false,
    "deletable": false,
    "nbgrader": {
     "checksum": "376bcfdee6441b243301658fd73ab6f3",
     "grade": false,
     "grade_id": "draw_graph_answer",
     "locked": false,
     "solution": true
    }
   },
   "outputs": [],
   "source": [
    "def draw_graph(graph):\n",
    "    '''\n",
    "    Draws the social network of the Florentine families.\n",
    "    \n",
    "    Paramters\n",
    "    ---------\n",
    "    graph: A networkx.Graph instance.\n",
    "    \n",
    "    Returns\n",
    "    -------\n",
    "    A matplotlib.Axes instance.\n",
    "    '''\n",
    "    \n",
    "    # YOUR CODE HERE\n",
    "    return ax"
   ]
  },
  {
   "cell_type": "code",
   "execution_count": null,
   "metadata": {
    "collapsed": false,
    "deletable": false,
    "nbgrader": {
     "checksum": "531028c03204c5034544b87928e7e2c6",
     "grade": false,
     "grade_id": "draw_graph_run",
     "locked": true,
     "solution": false
    }
   },
   "outputs": [],
   "source": [
    "ax1 = draw_graph(g)\n",
    "plt.show()"
   ]
  },
  {
   "cell_type": "code",
   "execution_count": null,
   "metadata": {
    "collapsed": false,
    "deletable": false,
    "nbgrader": {
     "checksum": "2d86c9a64c9176ba31b18e2e4bbb50e1",
     "grade": true,
     "grade_id": "draw_graph_tests",
     "locked": true,
     "points": 10,
     "solution": false
    }
   },
   "outputs": [],
   "source": [
    "assert_is_instance(ax1, mpl.axes.Axes)\n",
    "assert_equal(ax1.collections[0].get_offsets().shape[0], len(g.nodes()))\n",
    "assert_equal(len(ax1.collections[1].get_segments()), len(g.edges()))"
   ]
  },
  {
   "cell_type": "markdown",
   "metadata": {
    "deletable": false,
    "nbgrader": {
     "checksum": "88ab0d92d44275fc25ad0cffc11ec215",
     "grade": false,
     "grade_id": "markdown_3",
     "locked": true,
     "solution": false
    }
   },
   "source": [
    "## Measures of centrality\n",
    "\n",
    "- Compute the degree centrality of each node (using [`degree_centrality()`](https://networkx.github.io/documentation/networkx-1.10/reference/generated/networkx.algorithms.centrality.degree_centrality.html#networkx.algorithms.centrality.degree_centrality) ) , the [betweenness centrality](https://networkx.github.io/documentation/networkx-1.10/reference/generated/networkx.algorithms.centrality.betweenness_centrality.html) and [closeness centrality](https://networkx.github.io/documentation/networkx-1.10/reference/generated/networkx.algorithms.centrality.closeness_centrality.html#networkx.algorithms.centrality.closeness_centrality)."
   ]
  },
  {
   "cell_type": "code",
   "execution_count": null,
   "metadata": {
    "collapsed": false,
    "deletable": false,
    "nbgrader": {
     "checksum": "3882c7f29aa4558af8e0a5610b5e4737",
     "grade": false,
     "grade_id": "get_degree_answer",
     "locked": false,
     "solution": true
    }
   },
   "outputs": [],
   "source": [
    "def get_centrality(graph):\n",
    "    '''\n",
    "    Computes the degree of each node.\n",
    "    \n",
    "    Paramters\n",
    "    ---------\n",
    "    graph: A networkx.Graph instance.\n",
    "\n",
    "    Returns\n",
    "    -------\n",
    "    A tuple of dicts\n",
    "    '''\n",
    "    \n",
    "    # YOUR CODE HERE\n",
    "    return degree, betweenness, closeness"
   ]
  },
  {
   "cell_type": "code",
   "execution_count": null,
   "metadata": {
    "collapsed": false,
    "deletable": false,
    "nbgrader": {
     "checksum": "d3c6fc1b37f83fa2f95a0b613c1e472b",
     "grade": false,
     "grade_id": "get_degree_run",
     "locked": true,
     "solution": false
    }
   },
   "outputs": [],
   "source": [
    "degree, betweenness, closeness = get_centrality(g)\n",
    "print('Node \\t Degree \\t Betweenness \\t Closeness')\n",
    "for node in degree:\n",
    "    print('{0:} \\t {1:7f} \\t {2:7f} \\t {3:7f}'.format(node, degree[node], betweenness[node], closeness[node]))"
   ]
  },
  {
   "cell_type": "code",
   "execution_count": null,
   "metadata": {
    "collapsed": false,
    "deletable": false,
    "nbgrader": {
     "checksum": "fa796cc7e70a32eacc5c89d9328756e2",
     "grade": true,
     "grade_id": "get_degree_test",
     "locked": true,
     "points": 10,
     "solution": false
    }
   },
   "outputs": [],
   "source": [
    "assert_is_instance(degree, dict)\n",
    "assert_equal(sorted(list(degree.keys())), ['Acciaiuoli', 'Albizzi', 'Barbadori', 'Bischeri', 'Castellani', \n",
    "                                           'Ginori', 'Guadagni', 'Lamberteschi', 'Medici', 'Pazzi', 'Peruzzi', \n",
    "                                           'Ridolfi', 'Salviati', 'Strozzi', 'Tornabuoni'])\n",
    "assert_almost_equal(degree['Ginori'], 0.071429,3)\n",
    "assert_almost_equal(betweenness['Ridolfi'], 0.113553,3)\n",
    "assert_almost_equal(closeness['Albizzi'], 0.482759,3)"
   ]
  },
  {
   "cell_type": "markdown",
   "metadata": {
    "deletable": false,
    "nbgrader": {
     "checksum": "0190a4db493d857d497a98982139be30",
     "grade": false,
     "grade_id": "markdown_4",
     "locked": true,
     "solution": false
    }
   },
   "source": [
    "We see that two families ('Medici' and 'Guadagni') have the highest betweennness values. High betweenness values signify \"brokerage\" roles in the network. To visualize this,\n",
    "\n",
    "- Color each node according to whether it is a friend of the 'Medici' family node or the 'Guadagni' family node. \n",
    "\n",
    "If someone is a friend of both families, classify the node as a friend of the 'Guadagni' family.\n",
    "\n",
    "![](./images/friends_graph.png)\n",
    "\n",
    "We could draw the nodes, edges, and labels individually using `draw_networkx_nodes()`, `draw_networkx_edges()`, and `draw_networkx_labels()`. But I think it's simpler to draw all nodes, edges, and labels by using `draw()`, and then overwrite the nodes with different colors by using `draw_networkx_nodes()`.\n",
    "\n",
    "In the following code cell,\n",
    "\n",
    "- Use `networkx.draw()` to draw a graph,\n",
    "- Use `networkx.draw_networkx_nodes()` to make the friends of node 'Medici' different colors, and\n",
    "- Use `networkx.draw_networkx_nodes()` to make the friends of node 'Guadagni' different colors.\n",
    "\n",
    "It is important to draw the graph in this specific order to pass the unit tests."
   ]
  },
  {
   "cell_type": "code",
   "execution_count": null,
   "metadata": {
    "collapsed": false,
    "deletable": false,
    "nbgrader": {
     "checksum": "f2392921a9095e5ed2b8a9ed9f9911ac",
     "grade": false,
     "grade_id": "draw_graph_friends_answer",
     "locked": false,
     "solution": true
    }
   },
   "outputs": [],
   "source": [
    "def draw_graph_friends(graph):\n",
    "    '''\n",
    "    Draws the social network of the Florentine families,\n",
    "    but uses different colors for friends of node 'Medici' and node 'Guadagni'.\n",
    "    \n",
    "    Paramters\n",
    "    ---------\n",
    "    graph: A networkx.Graph instance.\n",
    "    \n",
    "    Returns\n",
    "    -------\n",
    "    A matplotlib.Axes instance.\n",
    "    '''\n",
    "    \n",
    "    # YOUR CODE HERE\n",
    "    return ax"
   ]
  },
  {
   "cell_type": "code",
   "execution_count": null,
   "metadata": {
    "collapsed": false,
    "deletable": false,
    "nbgrader": {
     "checksum": "50595d36ff7b8377848c5a1bcde12503",
     "grade": false,
     "grade_id": "draw_graph_friends_run",
     "locked": true,
     "solution": false
    }
   },
   "outputs": [],
   "source": [
    "ax2 = draw_graph_friends(g)\n",
    "plt.show()"
   ]
  },
  {
   "cell_type": "code",
   "execution_count": null,
   "metadata": {
    "collapsed": false,
    "deletable": false,
    "nbgrader": {
     "checksum": "b0d5773abdd59d9938aa08850d494b19",
     "grade": true,
     "grade_id": "draw_graph_friends_test",
     "locked": true,
     "points": 10,
     "solution": false
    }
   },
   "outputs": [],
   "source": [
    "assert_is_instance(ax2, mpl.axes.Axes)\n",
    "assert_equal(ax2.collections[0].get_offsets().shape[0], len(g.nodes()))\n",
    "assert_equal(len(ax2.collections[1].get_segments()), len(g.edges()))\n",
    "assert_equal(len(ax2.collections[2].get_offsets()), 7)\n",
    "assert_equal(len(ax2.collections[3].get_offsets()), 5)\n",
    "assert_false(np.all(ax2.collections[2].get_facecolor() == ax2.collections[3].get_facecolor()))"
   ]
  },
  {
   "cell_type": "markdown",
   "metadata": {
    "deletable": false,
    "nbgrader": {
     "checksum": "68bc32a3220c9f6e592c809dc55fbb1d",
     "grade": false,
     "grade_id": "markdown_5",
     "locked": true,
     "solution": false
    }
   },
   "source": [
    "## Cliques\n",
    "Identify the cliques in which a given node is participating."
   ]
  },
  {
   "cell_type": "code",
   "execution_count": null,
   "metadata": {
    "collapsed": false,
    "deletable": false,
    "nbgrader": {
     "checksum": "8a98d49b7dda8fb8a986ed87f24ad57f",
     "grade": false,
     "grade_id": "find_node_cliques",
     "locked": false,
     "solution": true
    }
   },
   "outputs": [],
   "source": [
    "def find_node_cliques(graph,node):\n",
    "    '''\n",
    "    Returns the cliques from the graph in which `node` is participating.\n",
    "    \n",
    "    Paramters\n",
    "    ---------\n",
    "    graph: A networkx.Graph instance.\n",
    "    \n",
    "    Returns\n",
    "    -------\n",
    "    List of cliques containing `node`.\n",
    "    '''\n",
    "    \n",
    "    # YOUR CODE HERE\n",
    "    return cliques"
   ]
  },
  {
   "cell_type": "code",
   "execution_count": null,
   "metadata": {
    "collapsed": false,
    "deletable": false,
    "nbgrader": {
     "checksum": "bbbfea7cdd1cc455dc94e8e98f8c4a79",
     "grade": false,
     "grade_id": "find_nodes_cliques_run",
     "locked": true,
     "solution": false
    }
   },
   "outputs": [],
   "source": [
    "cliques1 = find_node_cliques(g,'Medici')\n",
    "\n",
    "print(\"Cliques of which the Medici family node is a part of:\")\n",
    "print(60*\"-\")\n",
    "for clique in cliques1:\n",
    "    print(clique)\n",
    "\n",
    "cliques2 = find_node_cliques(g,'Guadagni')\n",
    "\n",
    "print(\"\\nCliques of which the Guadagni family node is a part of:\")\n",
    "print(60*\"-\")\n",
    "for clique in cliques2:\n",
    "    print(clique)"
   ]
  },
  {
   "cell_type": "code",
   "execution_count": null,
   "metadata": {
    "collapsed": false,
    "deletable": false,
    "nbgrader": {
     "checksum": "eabb16343c3319f697ba5d2e79d96a90",
     "grade": true,
     "grade_id": "find_nodes_cliques_ans",
     "locked": true,
     "points": 10,
     "solution": false
    }
   },
   "outputs": [],
   "source": [
    "assert_is_instance(cliques1, list)\n",
    "assert_equal(len(cliques1),5)\n",
    "assert_true((['Medici', 'Acciaiuoli'] in cliques1) or (['Acciaiuoli', 'Medici'] in cliques1))\n",
    "assert_true((['Medici', 'Salviati'] in cliques1) or (['Salviati', 'Medici'] in cliques1))\n",
    "assert_is_instance(cliques2, list)\n",
    "assert_equal(len(cliques2),4)\n",
    "assert_true((['Guadagni', 'Albizzi'] in cliques2) or (['Albizzi', 'Guadagni'] in cliques2))\n",
    "assert_true((['Guadagni', 'Bischeri'] in cliques2) or (['Bischeri', 'Guadagni'] in cliques2))"
   ]
  }
 ],
 "metadata": {
  "kernelspec": {
   "display_name": "Python 3",
   "language": "python",
   "name": "python3"
  },
  "language_info": {
   "codemirror_mode": {
    "name": "ipython",
    "version": 3
   },
   "file_extension": ".py",
   "mimetype": "text/x-python",
   "name": "python",
   "nbconvert_exporter": "python",
   "pygments_lexer": "ipython3",
   "version": "3.5.2"
  }
 },
 "nbformat": 4,
 "nbformat_minor": 0
}
