{
 "cells": [
  {
   "cell_type": "markdown",
   "metadata": {},
   "source": [
    "# Week 10 Problem 3\n",
    "\n",
    "If you are not using the `Assignments` tab on the course JupyterHub server to read this notebook, read [Activating the assignments tab](https://github.com/lcdm-uiuc/info490-sp17/blob/master/help/act_assign_tab.md).\n",
    "\n",
    "A few things you should keep in mind when working on assignments:\n",
    "\n",
    "1. Make sure you fill in any place that says `YOUR CODE HERE`. Do **not** write your answer in anywhere else other than where it says `YOUR CODE HERE`. Anything you write anywhere else will be removed or overwritten by the autograder.\n",
    "\n",
    "2. Before you submit your assignment, make sure everything runs as expected. Go to menubar, select _Kernel_, and restart the kernel and run all cells (_Restart & Run all_).\n",
    "\n",
    "3. Do not change the title (i.e. file name) of this notebook.\n",
    "\n",
    "4. Make sure that you save your work (in the menubar, select _File_  → _Save and CheckPoint_)\n",
    "\n",
    "5. You are allowed to submit an assignment multiple times, but only the most recent submission will be graded.\n",
    "-----\n",
    "# Problem 10.3. Network Analysis"
   ]
  },
  {
   "cell_type": "code",
   "execution_count": null,
   "metadata": {
    "collapsed": true,
    "deletable": false,
    "nbgrader": {
     "checksum": "66588b2869bbc7d1ed506f5effb60b93",
     "grade": false,
     "grade_id": "imports",
     "locked": true,
     "solution": false
    }
   },
   "outputs": [],
   "source": [
    "%matplotlib inline\n",
    "\n",
    "import numpy as np\n",
    "import pandas as pd\n",
    "from collections import Counter\n",
    "from itertools import combinations\n",
    "import networkx as nx\n",
    "import matplotlib as mpl\n",
    "import matplotlib.pyplot as plt\n",
    "import seaborn as sns\n",
    "sns.set(style='white', font_scale=1)\n",
    "\n",
    "from nose.tools import assert_equal, assert_is_instance, assert_true, assert_is_not\n",
    "from numpy.testing import assert_array_equal"
   ]
  },
  {
   "cell_type": "markdown",
   "metadata": {},
   "source": [
    "------\n",
    "## Number of Flights from ORD\n",
    "In this problem, we are going to make a graph showing the number of flights from the `ORD` airport to all other airports using `~/data/2001/2001-1.csv`, which includes top 500,000 lines of our familiar `~/data/2001.csv` file. For this problem, only the two columns, `Origin` and `Dest`, are needed. Since we only care about flights departed from `ORD`, we could remove irrelavant rows from the dataframe. (In principle, we could make a graph of airline connections between all airports in the data; here we choose origin to be `ORD` just for simplicity.)"
   ]
  },
  {
   "cell_type": "code",
   "execution_count": null,
   "metadata": {
    "collapsed": false,
    "deletable": false,
    "nbgrader": {
     "checksum": "fddfae5c4afbf2fb19fd741a2b5a66cf",
     "grade": false,
     "grade_id": "file",
     "locked": true,
     "solution": false
    }
   },
   "outputs": [],
   "source": [
    "filename = '/home/data_scientist/data/2001/2001-1.csv'\n",
    "flights = pd.read_csv(filename, header=0, na_values=['NA'], usecols=(16, 17)).dropna()\n",
    "\n",
    "# remove all rows whose origin is not ORD\n",
    "from_ord = flights.loc[flights['Origin']=='ORD'].dropna()\n",
    "print(from_ord.tail(20))"
   ]
  },
  {
   "cell_type": "markdown",
   "metadata": {},
   "source": [
    "### get_top_dests\n",
    "- Write a function named `get_top_dests` that counts the number of flights from `ORD` to each destination in the input dataframe and returns top `n` destinations together with the count of each destination. \n",
    "- Each row of the input dataframe corresponds to one flight (one count). For example, \n",
    "```\n",
    "497123    ORD  IAH\n",
    "497124    ORD  IAH\n",
    "497125    ORD  IAH\n",
    "```\n",
    "should add 3 counts for `IAH`.\n",
    "- While there might be various ways to do the counting and selection, the most straight forward method that gives you the desired output form is to use `Counter`."
   ]
  },
  {
   "cell_type": "code",
   "execution_count": null,
   "metadata": {
    "collapsed": true,
    "deletable": false,
    "nbgrader": {
     "checksum": "6ae73118b7632247771363fcaf960d67",
     "grade": false,
     "grade_id": "top_dests",
     "locked": false,
     "solution": true
    }
   },
   "outputs": [],
   "source": [
    "def get_top_dests(df=from_ord, n=50):\n",
    "    '''\n",
    "    Counts the number of flights from ORD to each destination in df,\n",
    "    and returns top n destinations.\n",
    "    \n",
    "    Paramters\n",
    "    ---------\n",
    "    df: A pandas.DataFrame instance with two columns: \n",
    "        'Origin' and 'Dest'. Default: from_ord.\n",
    "    n: Number of destinations selected. Default: 50.\n",
    "    \n",
    "    Returns\n",
    "    -------\n",
    "    A list of tuples ('Dest', count/number of occurrence) \n",
    "    in the form of (str, int).\n",
    "    '''\n",
    "    \n",
    "    # YOUR CODE HERE\n",
    "\n",
    "    return top_dests"
   ]
  },
  {
   "cell_type": "code",
   "execution_count": null,
   "metadata": {
    "collapsed": false,
    "deletable": false,
    "nbgrader": {
     "checksum": "1b5802dd0f3686f76f9871d40e6ae079",
     "grade": false,
     "grade_id": "print_top_dests",
     "locked": true,
     "solution": false
    }
   },
   "outputs": [],
   "source": [
    "# print out the result\n",
    "top_10_dests = get_top_dests(n=10)\n",
    "print('{0:10} {1:}'.format('Dest', 'Count'))\n",
    "print('-'*20)\n",
    "for dest, count in top_10_dests:\n",
    "    print('{0:10} {1:}'.format(dest, count))"
   ]
  },
  {
   "cell_type": "code",
   "execution_count": null,
   "metadata": {
    "collapsed": true,
    "deletable": false,
    "nbgrader": {
     "checksum": "89c1c0255e1bb8c82594104ed5915645",
     "grade": true,
     "grade_id": "assert_top_dests",
     "locked": true,
     "points": 7,
     "solution": false
    }
   },
   "outputs": [],
   "source": [
    "# assertions\n",
    "t10_d = [d for d, c in top_10_dests]\n",
    "t10_c = [c for d, c in top_10_dests]\n",
    "assert_array_equal(t10_d, ['MSP', 'LGA', 'EWR', 'DFW', 'LAX', 'PHL', 'BOS', 'DCA', 'ATL', 'DTW'])\n",
    "assert_array_equal(t10_c, [1086, 951, 944, 942, 874, 855, 780, 713, 687, 662])"
   ]
  },
  {
   "cell_type": "markdown",
   "metadata": {},
   "source": [
    "### create_flights_graph\n",
    "- Write a function named `create_flights_graph` that takes the top destinations (result from previous function in the form of a list of (`Dest`, count)) and creates a networkx Graph.\n",
    "- Step through each destination airport to add egdes to the Graph. Note that nodes will be automatically added when you add edges. The edges connect destinations to `ORD`.\n",
    "- For each edge, you should add a normalized weight (use `'weight'` as the key) which equals to the int value of count devided by the minimum count. We'll use weights of edges later when we draw the Graph."
   ]
  },
  {
   "cell_type": "code",
   "execution_count": null,
   "metadata": {
    "collapsed": false,
    "deletable": false,
    "nbgrader": {
     "checksum": "8fae418419b5cd54daa111e1af549028",
     "grade": false,
     "grade_id": "flights_graph",
     "locked": false,
     "solution": true
    }
   },
   "outputs": [],
   "source": [
    "def create_flights_graph(top_dests, start_node='ORD'):\n",
    "    '''\n",
    "    Creates a graph of number of flights originated from ORD to top destinations.\n",
    "    \n",
    "    Paramters\n",
    "    ---------\n",
    "    top_dests: A list of tuples ('Dest', count/number of occurrence) \n",
    "               in the form of (str, int).\n",
    "    start_node: Default: 'ORD'.\n",
    "    \n",
    "    Returns\n",
    "    -------\n",
    "    A networkx.Graph instance.\n",
    "    '''\n",
    "    \n",
    "    # YOUR CODE HERE\n",
    "\n",
    "    return dg"
   ]
  },
  {
   "cell_type": "code",
   "execution_count": null,
   "metadata": {
    "collapsed": false,
    "deletable": false,
    "nbgrader": {
     "checksum": "b053e0a611a4448898539f11d9087ff6",
     "grade": false,
     "grade_id": "constr_flights_graph",
     "locked": true,
     "solution": false
    }
   },
   "outputs": [],
   "source": [
    "# construct the graph for top 50 destinations\n",
    "top_50_dests = get_top_dests(n=50)\n",
    "t_dg = create_flights_graph(top_50_dests)"
   ]
  },
  {
   "cell_type": "code",
   "execution_count": null,
   "metadata": {
    "collapsed": false,
    "deletable": false,
    "nbgrader": {
     "checksum": "b0e79c1c9ea125abb7e751088188aee1",
     "grade": true,
     "grade_id": "assert_flights_graph",
     "locked": true,
     "points": 8,
     "solution": false
    }
   },
   "outputs": [],
   "source": [
    "# assertions\n",
    "assert_is_instance(t_dg, nx.Graph)\n",
    "assert_equal(len(t_dg.nodes()), len(top_50_dests)+1) # number of nodes = 50 dests plus ORD\n",
    "assert_equal(len(t_dg.edges()), len(top_50_dests))\n",
    "\n",
    "t50_d = [d for d, c in top_50_dests]\n",
    "t50_d.append('ORD')\n",
    "t50_c = [d for d, c in top_50_dests]\n",
    "assert_equal(set(t_dg.nodes()), set(t50_d))\n",
    "\n",
    "for start, end in t_dg.edges():\n",
    "    assert_true(start in t50_d)\n",
    "    assert_true(end in t50_d)\n",
    "    \n",
    "t50_w = []\n",
    "for n1, n2, dct in t_dg.edges(data=True):\n",
    "    if set([n1, n2])==set(['MSP', 'ORD']):\n",
    "        assert_equal(dct['weight'], 5)\n",
    "    if set([n1, n2])==set(['STL', 'ORD']):\n",
    "        assert_equal(dct['weight'], 2)\n",
    "    if set([n1, n2])==set(['RDU', 'ORD']):\n",
    "        assert_equal(dct['weight'], 1)\n",
    "    t50_w.append(dct['weight'])\n",
    "assert_array_equal(np.sort(t50_w), [1]*31+[2]*9+[3]*5+[4]*4+[5])"
   ]
  },
  {
   "cell_type": "markdown",
   "metadata": {},
   "source": [
    "### draw_flights_graph\n",
    "\n",
    "- First, use networkx.draw_networkx_nodes() to draw the nodes.\n",
    "- Next, use networkx.draw_networkx_edges() to draw the edges. The width of the line for each node corresponds to the normalized weight, which is contained in the edges data.\n",
    "- Finally, use networkx.draw_networkx_labels() to draw the labels. \n",
    "- Use a spring layout.\n",
    "- Several lines to improve the appearance of the image (for example, a white background is set and axes are removed) are provided. \n",
    "\n",
    "![](./images/from_ord.png)"
   ]
  },
  {
   "cell_type": "code",
   "execution_count": null,
   "metadata": {
    "collapsed": false,
    "deletable": false,
    "nbgrader": {
     "checksum": "8a0df6346469789eb4a2021817ed39d3",
     "grade": false,
     "grade_id": "flights_draw",
     "locked": false,
     "solution": true
    }
   },
   "outputs": [],
   "source": [
    "def draw_flights_graph(dg):\n",
    "    '''\n",
    "    Draws the Graph 'dg' with a spring layout.\n",
    "    \n",
    "    Paramters\n",
    "    ---------\n",
    "    dg: A networkx.Graph instance.\n",
    "    \n",
    "    Returns\n",
    "    -------\n",
    "    A matplotlib.Axes instance.\n",
    "    '''\n",
    "    \n",
    "    # some image formatting\n",
    "    fig, ax = plt.subplots(figsize=(12, 12))\n",
    "    sns.despine(ax=ax, top = True, bottom = True, left = True, right = True)\n",
    "    ax.set_xticklabels([])\n",
    "    ax.set_yticklabels([])\n",
    "    \n",
    "    # YOUR CODE HERE\n",
    "    \n",
    "    return ax"
   ]
  },
  {
   "cell_type": "code",
   "execution_count": null,
   "metadata": {
    "collapsed": false,
    "deletable": false,
    "nbgrader": {
     "checksum": "7f33c33a58314c364500961b954e3b59",
     "grade": false,
     "grade_id": "exe_flights_draw",
     "locked": true,
     "solution": false
    }
   },
   "outputs": [],
   "source": [
    "# draw the graph\n",
    "t_ax = draw_flights_graph(t_dg)"
   ]
  },
  {
   "cell_type": "code",
   "execution_count": null,
   "metadata": {
    "collapsed": false,
    "deletable": false,
    "nbgrader": {
     "checksum": "3488a78a7723774c5e41accd26a42437",
     "grade": true,
     "grade_id": "assert_flights_draw",
     "locked": true,
     "points": 8,
     "solution": false
    }
   },
   "outputs": [],
   "source": [
    "# assertions\n",
    "assert_is_instance(t_ax, mpl.axes.Axes)\n",
    "assert_is_not(len(t_ax.title.get_text()), 0, msg=\"Your plot should have a title.\")\n",
    "assert_equal(t_ax.collections[0].get_offsets().shape[0], len(t_dg.nodes()))\n",
    "assert_equal(len(t_ax.collections[1].get_segments()), len(t_dg.edges()))\n",
    "assert_array_equal(np.sort(t_ax.collections[1].get_linewidth()), [1]*31+[2]*9+[3]*5+[4]*4+[5])"
   ]
  },
  {
   "cell_type": "markdown",
   "metadata": {},
   "source": [
    "-----\n",
    "## Common Movie Interests between 30 Users\n",
    "In this problem, we are going to examine the common movie interests between first 30 users in `~/data/ml-latest-samll/ratings.csv` with `userId` from 1 to 30. If a user has given a rating equal to or above 4.0 points for a movie, we say that the user is interested in the movie. The following cell reads the csv file into a dataframe, and then do a selection based on these conditions (`rating`>=40 and `userId` from 1 to 30). "
   ]
  },
  {
   "cell_type": "code",
   "execution_count": null,
   "metadata": {
    "collapsed": false,
    "deletable": false,
    "nbgrader": {
     "checksum": "9739b49952dbee58bf2e6f58d493d87b",
     "grade": false,
     "grade_id": "file2",
     "locked": true,
     "solution": false
    }
   },
   "outputs": [],
   "source": [
    "filename2 = '/home/data_scientist/data/ml-latest-small/ratings.csv'\n",
    "movies = pd.read_csv(filename2, header=0, usecols=(0, 1, 2)).dropna()\n",
    "\n",
    "# name the selected dataframe as 'good_movies'\n",
    "good_movies = movies[(movies['rating']>=4.0)&(movies['userId'].isin(np.arange(1, 31)))][['userId', 'movieId']]\n",
    "print(good_movies.head(10))"
   ]
  },
  {
   "cell_type": "markdown",
   "metadata": {},
   "source": [
    "In the selected dataframe `good_movies`, we say there's one common movie interest between two users if they both have rating records for the same movie in `good_movies`. For example, if `userId` 1 and `userId` 2 have both rated `movieId` 16, then we add one count to the common movie interests between user 1 and user 2. We'll make make a plot of common movie interests based on this definition.\n",
    "\n",
    "### get_top_pairs\n",
    "- Write a function named `get_top_pairs` that counts the number of common movie interests between any combination of two users in the input dataframe and returns top n paired users together with the count of numbers of common movies.\n",
    "- As mentioned above, we add one count of common movies to a user pair if the two users in the pair have rated the same movie. For example, suppose we have these lines in `good_movies`,\n",
    "```\n",
    "    userId  movieId\n",
    "0        1       16\n",
    "2        1       32\n",
    "3        2       16\n",
    "4        2       32\n",
    "```\n",
    "then row 0 and 3 should contribute to one count for user pair (`userId` 1, `userId` 2), and row 2 and 4 add another count for user pair (`userId` 1, `userId` 2); thus, the total counts for user pair (`userId` 1, `userId` 2) is 2 from these four lines.\n",
    "- Use `combinations` as iterators to make pairs, so that user pair (`userId` 1, `userId` 2) is considered identical as user pair (`userId` 2, `userId` 1), and only (`userId` 1, `userId` 2) is included in the result.\n",
    "- While there might be various ways to do the counting and selection, the most straight forward method that gives you the desired output form is to use Counter.\n",
    "- Note that this time, the output is a list of tuples (paired_users, count/number of occurrence) \n",
    "    in the form of (tuple, int), \n",
    "    i.e. a list of tuples(user1, user2, count/number of occurrence)\n",
    "    in the form of (int, int, int). In the given example of the four lines, the output is `[(1, 2), 2]`. You'll automatically get this form using Counter. "
   ]
  },
  {
   "cell_type": "code",
   "execution_count": null,
   "metadata": {
    "collapsed": true,
    "deletable": false,
    "nbgrader": {
     "checksum": "66fe4bdef2aeb02f801e0070abf60137",
     "grade": false,
     "grade_id": "top_pairs",
     "locked": false,
     "solution": true
    }
   },
   "outputs": [],
   "source": [
    "def get_top_pairs(df=good_movies, n=100):\n",
    "    '''\n",
    "    Counts the number of common movie interests for any combination\n",
    "    of two users in df, and returns top n paired users.\n",
    "    \n",
    "    Paramters\n",
    "    ---------\n",
    "    df: A pandas.DataFrame instance with two columns: \n",
    "        'userId' and 'movieId'. Default: good_movies.\n",
    "    n: Number of destinations selected. Default: 100.\n",
    "    \n",
    "    Returns\n",
    "    -------\n",
    "    A list of tuples (paired users, count/number of occurrence) \n",
    "    in the form of (tuple, int), \n",
    "    i.e. a list of tuples((user1, user2), count/number of occurrence)\n",
    "    in the form of ((int, int), int).\n",
    "    '''\n",
    "    \n",
    "    # YOUR CODE HERE\n",
    "    \n",
    "    return top_pairs"
   ]
  },
  {
   "cell_type": "code",
   "execution_count": null,
   "metadata": {
    "collapsed": false,
    "deletable": false,
    "nbgrader": {
     "checksum": "b40c697ddb075988d2debb5bf9366025",
     "grade": false,
     "grade_id": "print_top_pairs",
     "locked": true,
     "solution": false
    }
   },
   "outputs": [],
   "source": [
    "# print out the result\n",
    "top_10_pairs = get_top_pairs(n=10)\n",
    "print('{0:20} {1:}'.format('Paired Users', 'Count'))\n",
    "print('--'*15)\n",
    "for paired_users, count in top_10_pairs:\n",
    "    print('{0:3},{1:3} {2:16}'.format(paired_users[0], paired_users[1], count))"
   ]
  },
  {
   "cell_type": "code",
   "execution_count": null,
   "metadata": {
    "collapsed": false,
    "deletable": false,
    "nbgrader": {
     "checksum": "7f616f07cc64aa77a4837b6483b2d3cb",
     "grade": true,
     "grade_id": "assert_top_pairs",
     "locked": true,
     "points": 9,
     "solution": false
    }
   },
   "outputs": [],
   "source": [
    "# assertions\n",
    "p10_u = [u for u, c in top_10_pairs]\n",
    "p10_c = [c for u, c in top_10_pairs]\n",
    "assert_array_equal(p10_u[:5], [(4, 24), (28, 29), (17, 30), (11, 29), (1, 30)])\n",
    "assert_equal(set(p10_u[5:7]), set([(7, 29), (1, 24)]))\n",
    "assert_equal(set(p10_u[7:]), set([(24, 28), (7, 30), (1, 7)]))\n",
    "assert_array_equal(p10_c, [34, 25, 23, 21, 20, 19, 19, 18, 18, 18])"
   ]
  },
  {
   "cell_type": "markdown",
   "metadata": {},
   "source": [
    "### create_interests_graph\n",
    "\n",
    "- Write a function named create_interests_graph that takes the top paired users (result from previous function in the form of a list of (paired users, count)) and creates a networkx Graph.\n",
    "- Step through each user pair to add egdes to the Graph. Note that nodes will be automatically added when you add edges. The edges connect two paired users.\n",
    "- For each edge, you should add a normalized weight (use 'weight' as the key) which equals to the int value of count devided by the minimum count. We'll use weights of edges later when we draw the Graph."
   ]
  },
  {
   "cell_type": "code",
   "execution_count": null,
   "metadata": {
    "collapsed": true,
    "deletable": false,
    "nbgrader": {
     "checksum": "173742cd7fada81e51525344140cf048",
     "grade": false,
     "grade_id": "interests_graph",
     "locked": false,
     "solution": true
    }
   },
   "outputs": [],
   "source": [
    "def create_interests_graph(top_pairs):\n",
    "    '''\n",
    "    Creates a graph of number of common movie interests count \n",
    "    between each user pair.\n",
    "    \n",
    "    Paramters\n",
    "    ---------\n",
    "    top_dests: A list of tuples (paired users, count/number of occurrence) \n",
    "               in the form of (tuple of (int, int), int).\n",
    "    \n",
    "    Returns\n",
    "    -------\n",
    "    A networkx.Graph instance.\n",
    "    '''\n",
    "    \n",
    "    # YOUR CODE HERE\n",
    "\n",
    "    return dg"
   ]
  },
  {
   "cell_type": "code",
   "execution_count": null,
   "metadata": {
    "collapsed": false,
    "deletable": false,
    "nbgrader": {
     "checksum": "de3f3e7141f086ecae7e7537ecd670f0",
     "grade": false,
     "grade_id": "constr_interests_graph",
     "locked": true,
     "solution": false
    }
   },
   "outputs": [],
   "source": [
    "# construct the graph for top 100 user pairs\n",
    "top_100_pairs = get_top_pairs(n=100)\n",
    "p_dg = create_interests_graph(top_100_pairs)"
   ]
  },
  {
   "cell_type": "code",
   "execution_count": null,
   "metadata": {
    "collapsed": false,
    "deletable": false,
    "nbgrader": {
     "checksum": "3d2a5aba7009ed6df3eda89477d9636f",
     "grade": true,
     "grade_id": "assert_interests_graph",
     "locked": true,
     "points": 7,
     "solution": false
    }
   },
   "outputs": [],
   "source": [
    "# assertions\n",
    "assert_is_instance(p_dg, nx.Graph)\n",
    "assert_equal(len(p_dg.nodes()), 25)\n",
    "assert_equal(len(p_dg.edges()), len(top_100_pairs))\n",
    "\n",
    "p100_u = [u for u, c in top_100_pairs]\n",
    "p100_n = np.unique(np.ravel(p100_u))\n",
    "p100_s = [set(u) for u, c in top_100_pairs]\n",
    "p100_c = [c for u, c in top_100_pairs]\n",
    "assert_equal(set(p_dg.nodes()), set(p100_n))\n",
    "\n",
    "for start, end in p_dg.edges():\n",
    "    assert_true(start in p100_n)\n",
    "    assert_true(end in p100_n)\n",
    "    assert_true(set((start, end)) in p100_s)\n",
    "\n",
    "p100_w = []\n",
    "for n1, n2, dct in p_dg.edges(data=True):\n",
    "    if set([n1, n2])==set((4, 11)):\n",
    "        assert_equal(dct['weight'], 1)\n",
    "    if set([n1, n2])==set((8, 19)):\n",
    "        assert_equal(dct['weight'], 4)\n",
    "    if set([n1, n2])==set((27, 30)):\n",
    "        assert_equal(dct['weight'], 2)\n",
    "    p100_w.append(dct['weight'])\n",
    "assert_array_equal(np.sort(p100_w), [1]*54+[2]*17+[3]*14+[4]*10+[5]*3+[6]+[8])"
   ]
  },
  {
   "cell_type": "markdown",
   "metadata": {},
   "source": [
    "### draw_interests_graph\n",
    "- First, use networkx.draw_networkx_nodes() to draw the nodes.\n",
    "- Next, use networkx.draw_networkx_edges() to draw the edges. The width of the line for each node corresponds to the normalized weight, which is contained in the edges data.\n",
    "- Finally, use networkx.draw_networkx_labels() to draw the labels.\n",
    "- This time, use a circular layout.\n",
    "- Several lines to improve the appearance of the image (for example, a white background is set and axes are removed) are provided.\n",
    "- Note that this function is almost identical to `draw_flights_graph`, but to get a pretty image, we cannot directly apply `draw_flights_graph`.\n",
    "![](./images/common_interests.png)"
   ]
  },
  {
   "cell_type": "code",
   "execution_count": null,
   "metadata": {
    "collapsed": true,
    "deletable": false,
    "nbgrader": {
     "checksum": "d12e038c575c6162c8f2471ef70eefc0",
     "grade": false,
     "grade_id": "interests_draw",
     "locked": false,
     "solution": true
    }
   },
   "outputs": [],
   "source": [
    "def draw_interests_graph(dg):\n",
    "    '''\n",
    "    Draws the Graph 'dg' with a circular layout.\n",
    "    \n",
    "    Paramters\n",
    "    ---------\n",
    "    dg: A networkx.Graph instance.\n",
    "    \n",
    "    Returns\n",
    "    -------\n",
    "    A matplotlib.Axes instance.\n",
    "    '''\n",
    "    \n",
    "    # some image formatting\n",
    "    fig, ax = plt.subplots(figsize=(12, 12))\n",
    "    sns.despine(ax=ax, top = True, bottom = True, left = True, right = True)\n",
    "    ax.set_xticklabels([])\n",
    "    ax.set_yticklabels([])\n",
    "    \n",
    "    # YOUR CODE HERE\n",
    "    \n",
    "    return ax"
   ]
  },
  {
   "cell_type": "code",
   "execution_count": null,
   "metadata": {
    "collapsed": false,
    "deletable": false,
    "nbgrader": {
     "checksum": "4d22e60952476a1aaa11dce0deaa5717",
     "grade": false,
     "grade_id": "exe_interests_draw",
     "locked": true,
     "solution": false
    }
   },
   "outputs": [],
   "source": [
    "# draw the graph\n",
    "p_ax = draw_interests_graph(p_dg)"
   ]
  },
  {
   "cell_type": "code",
   "execution_count": null,
   "metadata": {
    "collapsed": false,
    "deletable": false,
    "nbgrader": {
     "checksum": "7de6fc25fe4b69e581ed2fd6e1896711",
     "grade": true,
     "grade_id": "assert_interests_draw",
     "locked": true,
     "points": 6,
     "solution": false
    }
   },
   "outputs": [],
   "source": [
    "# assertions\n",
    "assert_is_instance(p_ax, mpl.axes.Axes)\n",
    "assert_is_not(len(p_ax.title.get_text()), 0, msg=\"Your plot should have a title.\")\n",
    "assert_equal(p_ax.collections[0].get_offsets().shape[0], len(p_dg.nodes()))\n",
    "assert_equal(len(p_ax.collections[1].get_segments()), len(p_dg.edges()))\n",
    "assert_array_equal(np.sort(p_ax.collections[1].get_linewidth()), [1]*54+[2]*17+[3]*14+[4]*10+[5]*3+[6]+[8])"
   ]
  }
 ],
 "metadata": {
  "kernelspec": {
   "display_name": "Python 3",
   "language": "python",
   "name": "python3"
  },
  "language_info": {
   "codemirror_mode": {
    "name": "ipython",
    "version": 3
   },
   "file_extension": ".py",
   "mimetype": "text/x-python",
   "name": "python",
   "nbconvert_exporter": "python",
   "pygments_lexer": "ipython3",
   "version": "3.5.2"
  }
 },
 "nbformat": 4,
 "nbformat_minor": 2
}
