{
 "cells": [
  {
   "cell_type": "markdown",
   "metadata": {},
   "source": [
    "\n",
    "<DIV ALIGN=CENTER>\n",
    "\n",
    "# Advanced Data Science\n",
    "## University of Illinois\n",
    "### Professor: Robert J. Brunner  \n",
    "### Spring 2017\n",
    "\n",
    "</DIV>  \n",
    "-----\n",
    "-----"
   ]
  },
  {
   "cell_type": "markdown",
   "metadata": {},
   "source": [
    "## Week 10: Introduction to Network Analysis\n",
    "\n",
    "### Lecture 1: [Graph Concepts][l1]\n",
    "\n",
    "Learn how to construct and visualize graphs.\n",
    "\n",
    "### Lecture 2: [Graph Analysis][l2]\n",
    "\n",
    "Learn how to gain insight from graph data.\n",
    "\n",
    "### Lecture 3: [Social Media][l3]\n",
    "\n",
    "Learn how to apply graph concepts and analysis to gain insight from social media data.\n",
    "\n",
    "-----\n",
    "\n",
    "[l1]: ../notebooks/intro2na-gc.ipynb\n",
    "[l2]: ../notebooks/intro2na-ga.ipynb\n",
    "[l3]: ../notebooks/intro2na-sm.ipynb"
   ]
  },
  {
   "cell_type": "code",
   "execution_count": 3,
   "metadata": {
    "collapsed": false
   },
   "outputs": [
    {
     "data": {
      "text/markdown": [
       "# Week 10 Overview #\n",
       "\n",
       "## Network Analysis ##\n",
       "\n",
       "This week we introduce basic network analysis by using the Python NetworkX library. First, we will introduce basic graph concepts such as a node, edge, and the difference between directed and undirected graphs. Next, we will discuss matrix representations of graph data, graph visualizations, and basic graph analysis including quantifying graph distances, diameter, and density. After this, we will discus graph traversal and exploration. Finally, we will learn how to apply these concepts to analyze social media data.\n",
       "\n",
       "### Objectives ###\n",
       "\n",
       "##### By the end of this lesson, you should be able to: ######\n",
       "\n",
       "- Understand the basic concepts and representations of a graph\n",
       "- Understand basic graph analytic techniques\n",
       "- Be able to create and visualize a graph in Python by using the NetworkX library.\n",
       "- Be able to apply network analysis techniques to social media in Python.\n",
       "\n",
       "### Activities and Assignments ###\n",
       "\n",
       "| Activities and Assignments               | Time Estimate | Deadline*                |                  Points |\n",
       "| :--------------------------------------- | ------------- | ------------------------ | ----------------------: |\n",
       "| **[Week 10 Introduction Video][wv]**     | 10 Minutes    | Tuesday                  |                     N/A |\n",
       "| **[Week 10 Lesson 1: Introduction to Network Analysis: Graph Concepts](lesson1.md)** | 2 Hours       | Thursday                 |                      20 |\n",
       "| **[Week 10 Lesson 2: Introduction to Network Analysis: Graph Analysis](lesson2.md)** | 2 Hours       | Thursday                 |                      20 |\n",
       "| **[Week 10 Lesson 3: Introduction to Network Analysis: Social Media](lesson3.md)** | 2 Hours       | Thursday                 |                      20 |\n",
       "| **[Week 10 Quiz][wq]**                   | 45 Minutes    | Friday                   |                      70 |\n",
       "| **Week 10 Assignment Submission**        | 4 Hours       | *The following* Monday   | 125 Instructor, 10 Peer |\n",
       "| **Week 10 Completion of Peer Review**    | 2 Hours       | *The following* Saturday |                      15 |\n",
       "\n",
       "*Please note that unless otherwise noted, the due time is 6pm Central time!*\n",
       "\n",
       "----------\n",
       "[wv]: https://mediaspace.illinois.edu/media/\n",
       "[wq]: https://learn.illinois.edu/mod/quiz/\n"
      ],
      "text/plain": [
       "<IPython.core.display.Markdown object>"
      ]
     },
     "execution_count": 3,
     "metadata": {},
     "output_type": "execute_result"
    }
   ],
   "source": [
    "from IPython.display import Markdown\n",
    "\n",
    "Markdown(filename='README.md')"
   ]
  }
 ],
 "metadata": {
  "kernelspec": {
   "display_name": "Python 3",
   "language": "python",
   "name": "python3"
  },
  "language_info": {
   "codemirror_mode": {
    "name": "ipython",
    "version": 3
   },
   "file_extension": ".py",
   "mimetype": "text/x-python",
   "name": "python",
   "nbconvert_exporter": "python",
   "pygments_lexer": "ipython3",
   "version": "3.5.2"
  }
 },
 "nbformat": 4,
 "nbformat_minor": 0
}
