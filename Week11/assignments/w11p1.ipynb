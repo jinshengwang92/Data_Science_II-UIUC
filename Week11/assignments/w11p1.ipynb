{
 "cells": [
  {
   "cell_type": "markdown",
   "metadata": {
    "deletable": false,
    "nbgrader": {
     "checksum": "1206a454e6c628e914177ddb325af6a9",
     "grade": false,
     "grade_id": "header",
     "locked": true,
     "solution": false
    }
   },
   "source": [
    "If you are not using the `Assignments` tab on the course JupyterHub server to read this notebook, read [Activating the assignments tab](https://github.com/lcdm-uiuc/info490-sp17/blob/master/help/act_assign_tab.md).\n",
    "\n",
    "A few things you should keep in mind when working on assignments:\n",
    "\n",
    "1. Make sure you fill in any place that says `YOUR CODE HERE`. Do **not** write your answer in anywhere else other than where it says `YOUR CODE HERE`. Anything you write anywhere else will be removed or overwritten by the autograder.\n",
    "\n",
    "2. Before you submit your assignment, make sure everything runs as expected. Go to menubar, select _Kernel_, and restart the kernel and run all cells (_Restart & Run all_).\n",
    "\n",
    "3. Do not change the title (i.e. file name) of this notebook.\n",
    "\n",
    "4. Make sure that you save your work (in the menubar, select _File_  → _Save and CheckPoint_)\n",
    "\n",
    "5. You are allowed to submit an assignment multiple times, but only the most recent submission will be graded."
   ]
  },
  {
   "cell_type": "markdown",
   "metadata": {
    "deletable": false,
    "nbgrader": {
     "checksum": "1004ac0dfa04176736c334e1dab0af8a",
     "grade": false,
     "grade_id": "title",
     "locked": true,
     "solution": false
    }
   },
   "source": [
    "# Problem 11.1. Bayesian Anaylsis.\n",
    "\n",
    "In this homework set, we will be using pymc3 to look at flight data, which will allow us to predict the airtime given the distance travelled.  At the end, you should get a plot that looks like this:\n",
    "\n",
    "![](images/dist_air_pred.png)"
   ]
  },
  {
   "cell_type": "code",
   "execution_count": null,
   "metadata": {
    "collapsed": true,
    "deletable": false,
    "nbgrader": {
     "checksum": "a9d143b638f553383490e9cc667a85ea",
     "grade": false,
     "grade_id": "import",
     "locked": true,
     "solution": false
    }
   },
   "outputs": [],
   "source": [
    "%matplotlib inline\n",
    "\n",
    "import numpy as np\n",
    "import pandas as pd\n",
    "import matplotlib as mpl\n",
    "import matplotlib.pyplot as plt\n",
    "import seaborn as sns\n",
    "import pymc3 as pm\n",
    "\n",
    "from nose.tools import assert_equal, assert_true, assert_is_instance\n",
    "from numpy.testing import assert_array_almost_equal, assert_almost_equal"
   ]
  },
  {
   "cell_type": "markdown",
   "metadata": {
    "deletable": false,
    "nbgrader": {
     "checksum": "032ea42fa1a041aa7357ea31d67cee0f",
     "grade": false,
     "grade_id": "markdown_1",
     "locked": true,
     "solution": false
    }
   },
   "source": [
    "We will be pulling our data from the 2001.csv file.  In order to make sure that we aren't overwhelmed with data, we will be looking only at every 10000th flight from Philadelphia."
   ]
  },
  {
   "cell_type": "code",
   "execution_count": null,
   "metadata": {
    "collapsed": false
   },
   "outputs": [],
   "source": [
    "filename = '/home/data_scientist/data/2001.csv'\n",
    "\n",
    "usecols = (13, 16, 18)\n",
    "columns = ['AirTime', 'Origin', 'Distance']\n",
    "\n",
    "all_data = pd.read_csv(filename, header=0, na_values=['NA'], usecols=usecols, names=columns)\n",
    "\n",
    "local = all_data.loc[all_data['Origin'] == 'PHL'] # use only flights departed from Philadelphia\n",
    "local = local.dropna() # drop missing values\n",
    "local = local.loc[::10000] # use every 10000th row\n",
    "\n",
    "print(local.head())"
   ]
  },
  {
   "cell_type": "markdown",
   "metadata": {
    "deletable": false,
    "nbgrader": {
     "checksum": "0f8d0bc2e6cd1527ad8d18212fb1e0f5",
     "grade": false,
     "grade_id": "linearreg",
     "locked": true,
     "solution": false
    }
   },
   "source": [
    "## Linear Regression\n",
    "\n",
    "- Implement the following model using `pymc3`:\n",
    "$$\n",
    "\\begin{aligned}\n",
    "Y  &\\sim \\mathcal{N}(\\mu, \\sigma^2) \\\\\n",
    "\\mu &= \\alpha + \\beta X \\\\\n",
    "\\alpha &\\sim \\mathcal{N}(0, 1) \\\\\n",
    "\\beta &\\sim \\mathcal{N}(10, 1) \\\\\n",
    "\\sigma &\\sim \\mathcal{U}(0, 100)\n",
    "\\end{aligned}\n",
    "$$\n",
    "where $\\mathcal{N}$ denotes the [normal distribution](https://en.wikipedia.org/wiki/Normal_distribution) and $\\mathcal{U}$ is the [uniform distribution](https://en.wikipedia.org/wiki/Uniform_distribution_(continuous)).\n",
    "\n",
    "- Use the names `alpha`, `beta`, and `sigma` for $\\alpha$, $\\beta$, and $\\sigma$, respectively.\n",
    "- Estimate the model paramters with the maximum a posteriori (MAP) method (using default parameters).\n",
    "- Use the No-U-Turn Sampler (NUTS) to generate posterior samples.\n",
    "- Use the `random_seed` parameter in `pymc3.sample()` method for reproducibility."
   ]
  },
  {
   "cell_type": "code",
   "execution_count": null,
   "metadata": {
    "collapsed": false,
    "deletable": false,
    "nbgrader": {
     "checksum": "5e766aed9e4e32e0f56b7782c2e20bd7",
     "grade": false,
     "grade_id": "get_circular_dg_answer",
     "locked": false,
     "solution": true
    }
   },
   "outputs": [],
   "source": [
    "def get_trace(X, y, n_samples=1000, random_seed=0):\n",
    "    '''\n",
    "    A simple Bayesian linear regression model with normal priors.\n",
    "    \n",
    "    Paramters\n",
    "    ---------\n",
    "    X: A numpy array\n",
    "    y: A numpy array\n",
    "    n_samples: The number of samples to draw in pymc3.sample().\n",
    "               Defaults to 1000.\n",
    "    random_seed: An int. Used in pymc3.sample().\n",
    "                 Defaults to 0.\n",
    "                 \n",
    "    Returns\n",
    "    -------\n",
    "    A pymc3.MultiTrace object with access to sampling values.\n",
    "    '''\n",
    "    \n",
    "    # YOUR CODE HERE\n",
    "        \n",
    "    return trace"
   ]
  },
  {
   "cell_type": "code",
   "execution_count": null,
   "metadata": {
    "collapsed": false,
    "deletable": false,
    "nbgrader": {
     "checksum": "8727bc19fef93577c9366abb9bd3e578",
     "grade": false,
     "grade_id": "get_circular_dg_run",
     "locked": true,
     "solution": false
    }
   },
   "outputs": [],
   "source": [
    "trace = get_trace(local.Distance.values, local.AirTime.values, n_samples=2000, random_seed=0)"
   ]
  },
  {
   "cell_type": "code",
   "execution_count": null,
   "metadata": {
    "collapsed": false,
    "deletable": false,
    "nbgrader": {
     "checksum": "3c1aa8ac98bfdbfbb685d0b56f032504",
     "grade": true,
     "grade_id": "get_circular_dg_test",
     "locked": true,
     "points": 9,
     "solution": false
    }
   },
   "outputs": [],
   "source": [
    "assert_is_instance(trace, pm.backends.base.MultiTrace)"
   ]
  },
  {
   "cell_type": "code",
   "execution_count": null,
   "metadata": {
    "collapsed": false,
    "deletable": false,
    "nbgrader": {
     "checksum": "8f28163bfc88629317e413a693472a0a",
     "grade": true,
     "grade_id": "abstest",
     "locked": true,
     "points": 9,
     "solution": false
    }
   },
   "outputs": [],
   "source": [
    "assert_true('alpha' in trace.varnames)\n",
    "assert_true('beta' in trace.varnames)\n",
    "assert_true('sigma' in trace.varnames)"
   ]
  },
  {
   "cell_type": "code",
   "execution_count": null,
   "metadata": {
    "collapsed": true,
    "deletable": false,
    "nbgrader": {
     "checksum": "4aeb416c0d56360c5da18786d59c7333",
     "grade": true,
     "grade_id": "len_trace",
     "locked": true,
     "points": 9,
     "solution": false
    }
   },
   "outputs": [],
   "source": [
    "for v in trace.varnames:\n",
    "    assert_equal(len(trace[v]), 2000)"
   ]
  },
  {
   "cell_type": "code",
   "execution_count": null,
   "metadata": {
    "collapsed": false,
    "deletable": false,
    "nbgrader": {
     "checksum": "ae513def956ae37c077cc8280cff76e9",
     "grade": true,
     "grade_id": "val_abs",
     "locked": true,
     "points": 9,
     "solution": false
    }
   },
   "outputs": [],
   "source": [
    "assert_almost_equal(trace['alpha'][0], -0.0779567703805)\n",
    "assert_almost_equal(trace['beta'][27], 0.132337876373)\n",
    "assert_almost_equal(trace['sigma'][1002], 13.8586428904)"
   ]
  },
  {
   "cell_type": "code",
   "execution_count": null,
   "metadata": {
    "collapsed": false,
    "deletable": false,
    "nbgrader": {
     "checksum": "2912e9bcbad94806c2720b2a53eab75a",
     "grade": true,
     "grade_id": "almost_equal",
     "locked": true,
     "points": 9,
     "solution": false
    }
   },
   "outputs": [],
   "source": [
    "assert_almost_equal(trace['alpha'][1125:1130], [ 0.53256295, -0.57260872,  1.68859471,  0.31409282, -1.54722002])\n",
    "assert_almost_equal(trace['beta'][145:150], [ 0.14140093,  0.14140093,  0.13782623,  0.13112726,  0.13281072])\n",
    "assert_almost_equal(trace['sigma'][670:675], [ 18.09469578,  21.51386513,  13.30334073,  14.80010898,  19.32803484])"
   ]
  },
  {
   "cell_type": "markdown",
   "metadata": {
    "deletable": false,
    "nbgrader": {
     "checksum": "a09a4ed324bac2acb7eceaf42b8a0996",
     "grade": false,
     "grade_id": "markdown_3",
     "locked": true,
     "solution": false
    }
   },
   "source": [
    "# Visualizing"
   ]
  },
  {
   "cell_type": "code",
   "execution_count": null,
   "metadata": {
    "collapsed": false,
    "nbgrader": {
     "grade": false,
     "locked": false,
     "solution": false
    }
   },
   "outputs": [],
   "source": [
    "sns.set_style('darkgrid')\n",
    "pm.traceplot(trace[-1000:], ['alpha', 'beta', 'sigma'])\n",
    "plt.show()"
   ]
  },
  {
   "cell_type": "code",
   "execution_count": null,
   "metadata": {
    "collapsed": false
   },
   "outputs": [],
   "source": [
    "n_samples = 1000\n",
    "\n",
    "x = local.Distance.values\n",
    "y = local.AirTime.values\n",
    "\n",
    "sns.set_style('white')\n",
    "\n",
    "fig, ax = plt.subplots()\n",
    "\n",
    "ax.scatter(x, y, c=sns.xkcd_rgb['denim blue'], label = 'Sample Data')\n",
    "\n",
    "xl = x.min()\n",
    "xh = x.max()\n",
    "\n",
    "intercepts = trace['alpha'][-n_samples:]\n",
    "slopes = trace['beta'][-n_samples:]\n",
    "\n",
    "for m, b in zip(slopes, intercepts):\n",
    "    yl = m * xl + b\n",
    "    yh = m * xh + b\n",
    "    ax.plot((xl, xh), (yl, yh), color=sns.xkcd_rgb['medium green'], lw=0.1, alpha = 0.1)\n",
    "\n",
    "# Replot last one to get legend label\n",
    "ax.plot((xl, xh), (yl, yh), color=sns.xkcd_rgb['medium green'], lw=0.1, label = 'Posterior Prediction')\n",
    "\n",
    "m_fit = slopes.mean()\n",
    "b_fit = intercepts.mean()\n",
    "\n",
    "yfl = b_fit + m_fit * xl\n",
    "yfh = b_fit + m_fit * xh\n",
    "ax.plot((xl, xh), (yfl, yfh), color=sns.xkcd_rgb['pale red'], lw=3, label='Model Regression')\n",
    "\n",
    "ax.set_xlim(0, 2000)\n",
    "ax.set_ylim(0, 300)\n",
    "\n",
    "ax.legend(loc='upper left', frameon=True)\n",
    "\n",
    "ax.set_xlabel('Distance (miles)')\n",
    "ax.set_ylabel('Air time (min)')\n",
    "\n",
    "sns.despine()\n",
    "plt.show()"
   ]
  },
  {
   "cell_type": "code",
   "execution_count": null,
   "metadata": {
    "collapsed": true
   },
   "outputs": [],
   "source": []
  }
 ],
 "metadata": {
  "kernelspec": {
   "display_name": "Python 3",
   "language": "python",
   "name": "python3"
  },
  "language_info": {
   "codemirror_mode": {
    "name": "ipython",
    "version": 3
   },
   "file_extension": ".py",
   "mimetype": "text/x-python",
   "name": "python",
   "nbconvert_exporter": "python",
   "pygments_lexer": "ipython3",
   "version": "3.5.2"
  }
 },
 "nbformat": 4,
 "nbformat_minor": 0
}
