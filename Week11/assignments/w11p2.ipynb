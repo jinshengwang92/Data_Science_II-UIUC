{
 "cells": [
  {
   "cell_type": "markdown",
   "metadata": {
    "deletable": false,
    "nbgrader": {
     "checksum": "1891bdcd87c6c960df75b6e90b02b234",
     "grade": false,
     "grade_id": "header",
     "locked": true,
     "solution": false
    }
   },
   "source": [
    "If you are not using the `Assignments` tab on the course JupyterHub server to read this notebook, read [Activating the assignments tab](https://github.com/lcdm-uiuc/info490-sp17/blob/master/help/act_assign_tab.md).\n",
    "\n",
    "A few things you should keep in mind when working on assignments:\n",
    "\n",
    "1. Make sure you fill in any place that says `YOUR CODE HERE`. Do **not** write your answer in anywhere else other than where it says `YOUR CODE HERE`. Anything you write anywhere else will be removed or overwritten by the autograder.\n",
    "\n",
    "2. Before you submit your assignment, make sure everything runs as expected. Go to menubar, select _Kernel_, and restart the kernel and run all cells (_Restart & Run all_).\n",
    "\n",
    "3. Do not change the title (i.e. file name) of this notebook.\n",
    "\n",
    "4. Make sure that you save your work (in the menubar, select _File_ → _Save and CheckPoint_)\n",
    "\n",
    "5. You are allowed to submit an assignment multiple times, but only the most recent submission will be graded."
   ]
  },
  {
   "cell_type": "markdown",
   "metadata": {
    "deletable": false,
    "nbgrader": {
     "checksum": "8fd2dc854631ee1eddd5178508223934",
     "grade": false,
     "grade_id": "title",
     "locked": true,
     "solution": false
    }
   },
   "source": [
    "## Problem 11.2. Hierarchical Modeling.\n",
    "\n",
    "In this problem, we will implement a hierarchical model to estimate the distribution of departure delays in June of 2001.\n",
    "\n",
    "![](./images/hierarchical_p2.png)"
   ]
  },
  {
   "cell_type": "code",
   "execution_count": null,
   "metadata": {
    "collapsed": false,
    "deletable": false,
    "nbgrader": {
     "checksum": "a9d143b638f553383490e9cc667a85ea",
     "grade": false,
     "grade_id": "import",
     "locked": true,
     "solution": false
    }
   },
   "outputs": [],
   "source": [
    "%matplotlib inline\n",
    "\n",
    "import numpy as np\n",
    "import pandas as pd\n",
    "import matplotlib as mpl\n",
    "import matplotlib.pyplot as plt\n",
    "import seaborn as sns\n",
    "import pymc3 as pm\n",
    "\n",
    "from nose.tools import assert_equal, assert_true, assert_is_instance\n",
    "from numpy.testing import assert_array_almost_equal, assert_almost_equal"
   ]
  },
  {
   "cell_type": "markdown",
   "metadata": {
    "deletable": false,
    "nbgrader": {
     "checksum": "c2cf085e3a1747abab9e3cf656bff910",
     "grade": false,
     "grade_id": "markdown_1",
     "locked": true,
     "solution": false
    }
   },
   "source": [
    "We use the [airline on-time performance data](http://stat-computing.org/dataexpo/2009/). For simplicity, we limit our analysis to flights that departed from the Central Illinois Regional Airport in Bloomington [BMI](https://en.wikipedia.org/wiki/Central_Illinois_Regional_Airport) in June."
   ]
  },
  {
   "cell_type": "code",
   "execution_count": null,
   "metadata": {
    "collapsed": false,
    "deletable": false,
    "nbgrader": {
     "checksum": "acc1696c02f7cad327d8a455aea7f67c",
     "grade": false,
     "grade_id": "read_csv",
     "locked": true,
     "solution": false
    }
   },
   "outputs": [],
   "source": [
    "filename = '/home/data_scientist/data/2001.csv'\n",
    "\n",
    "usecols = (1, 2, 15, 16)\n",
    "columns = ['Month', 'DayofMonth', 'DepDelay', 'Origin']\n",
    "\n",
    "all_data = pd.read_csv(filename, header=0, na_values=['NA'], usecols=usecols, names=columns)\n",
    "\n",
    "local = all_data[\n",
    "    (all_data['Origin'] == 'BMI') & # use only flights departed from Bloomington\n",
    "    (all_data['Month'] == 6) # consider only June\n",
    "    ]\n",
    "local = local.drop(['Month', 'Origin'], axis=1) # we don't need Month and Origin columns\n",
    "local = local.dropna() # drop missing values\n",
    "\n",
    "print(local.head())"
   ]
  },
  {
   "cell_type": "markdown",
   "metadata": {
    "deletable": false,
    "nbgrader": {
     "checksum": "980ad1c8b3b70f373255258cdcb87c76",
     "grade": false,
     "grade_id": "markdown_2",
     "locked": true,
     "solution": false
    }
   },
   "source": [
    "We will use a [Poisson distribution](https://en.wikipedia.org/wiki/Poisson_distribution) (see the next section) but the Poisson distribution does not allow negative means. That is, $\\mu > 0$ in\n",
    "\n",
    "$$ Poisson(\\mu) = P(x\\mid\\mu) = \\frac{e^{-\\mu}\\mu^{x}}{x!}\\quad\\textrm{for}\\, x=0,1,2,\\cdots $$\n",
    "\n",
    "However, there are some negative values in `DepDelay`."
   ]
  },
  {
   "cell_type": "code",
   "execution_count": null,
   "metadata": {
    "collapsed": false,
    "deletable": false,
    "nbgrader": {
     "checksum": "ad5333db87d1394a4cdea34093ed36f2",
     "grade": false,
     "grade_id": "print_min",
     "locked": true,
     "solution": false
    }
   },
   "outputs": [],
   "source": [
    "print(local.DepDelay.min())"
   ]
  },
  {
   "cell_type": "markdown",
   "metadata": {
    "deletable": false,
    "nbgrader": {
     "checksum": "856729172c7a30814d88f0034d875a35",
     "grade": false,
     "grade_id": "markdown_3",
     "locked": true,
     "solution": false
    }
   },
   "source": [
    "This condition can be avoided by a simple shift in the domain, so let's add 10 minutes to all departure delays."
   ]
  },
  {
   "cell_type": "code",
   "execution_count": null,
   "metadata": {
    "collapsed": false,
    "deletable": false,
    "nbgrader": {
     "checksum": "8ddd95c4f1898089b2fa5bb8a331c29a",
     "grade": false,
     "grade_id": "shift_column",
     "locked": true,
     "solution": false
    }
   },
   "outputs": [],
   "source": [
    "def shift_column(df, field, shift):\n",
    "    return pd.concat([df.drop(field, axis=1), df[field].apply(lambda x: x + shift)], axis=1) \n",
    "\n",
    "local_shifted = shift_column(local, 'DepDelay', 10)\n",
    "\n",
    "print(local_shifted.head())"
   ]
  },
  {
   "cell_type": "markdown",
   "metadata": {
    "deletable": false,
    "nbgrader": {
     "checksum": "bd4acdfb57c6c72b5901da4213182c64",
     "grade": false,
     "grade_id": "markdown_4",
     "locked": true,
     "solution": false
    }
   },
   "source": [
    "The following code cell asserts that all values in `DepDelay` are non-negative."
   ]
  },
  {
   "cell_type": "code",
   "execution_count": null,
   "metadata": {
    "collapsed": false,
    "deletable": false,
    "nbgrader": {
     "checksum": "7bb5264a5ec8aa4146a469afb36c90df",
     "grade": false,
     "grade_id": "assert_non_negative",
     "locked": true,
     "solution": false
    }
   },
   "outputs": [],
   "source": [
    "assert_equal((local_shifted.DepDelay.values < 0).sum(), 0)"
   ]
  },
  {
   "cell_type": "markdown",
   "metadata": {
    "deletable": false,
    "nbgrader": {
     "checksum": "0f6818909c4be012319f5ca6027f7a92",
     "grade": false,
     "grade_id": "markdown_5",
     "locked": true,
     "solution": false
    }
   },
   "source": [
    "For simplicity, let's remove some outliers and only consider departure delays less than 60 minutes."
   ]
  },
  {
   "cell_type": "code",
   "execution_count": null,
   "metadata": {
    "collapsed": false,
    "deletable": false,
    "nbgrader": {
     "checksum": "1fb6230ff9452a6cd6258eee1fc8e068",
     "grade": false,
     "grade_id": "assert_less_than_60",
     "locked": true,
     "solution": false
    }
   },
   "outputs": [],
   "source": [
    "local_shifted = local_shifted[local_shifted['DepDelay'] < 60]\n",
    "# check if there are any values greater than 60\n",
    "assert_equal((local_shifted.DepDelay.values > 60).sum(), 0)"
   ]
  },
  {
   "cell_type": "markdown",
   "metadata": {
    "deletable": false,
    "nbgrader": {
     "checksum": "111f5294eb9f98c39b93849fe6333307",
     "grade": false,
     "grade_id": "markdown_6",
     "locked": true,
     "solution": false
    }
   },
   "source": [
    "In the following section, we model each day independently, modeling paramters $\\mu_i$ of the Poisson distribution for each day of June, $i=1, 2, \\cdots, 30$. The reasoning behind this is that the departure delays will depend on different conditions of each day, e.g. the weather, whether it's a weekend or a weekday, whehter it's a holiday, etc.\n",
    "\n",
    "Simiarly to the use of `county_idx` in [one of the required readings](https://pymc-devs.github.io/pymc3/notebooks/GLM-hierarchical.html), we need a way to map `mu` (an array of length 30) to an array that has the length as `local_shifted`. Read the required readings to see how `county_idx` is used [here](https://pymc-devs.github.io/pymc3/notebooks/GLM-hierarchical.html) and how `participants_idx` is used [here](http://nbviewer.jupyter.org/github/markdregan/Bayesian-Modelling-in-Python/blob/master/Section%203.%20Hierarchical%20modelling.ipynb). \n",
    "\n",
    "We can use the `DayofMonth` column to create `date_idx`:"
   ]
  },
  {
   "cell_type": "code",
   "execution_count": null,
   "metadata": {
    "collapsed": false,
    "deletable": false,
    "nbgrader": {
     "checksum": "f198828dc8d7f74793ec72e618d7129f",
     "grade": false,
     "grade_id": "date_idx",
     "locked": true,
     "solution": false
    }
   },
   "outputs": [],
   "source": [
    "date_idx = local_shifted['DayofMonth'].values - 1\n",
    "print(date_idx)"
   ]
  },
  {
   "cell_type": "markdown",
   "metadata": {
    "deletable": false,
    "nbgrader": {
     "checksum": "ca42e749138c20296dcc2daa1c7645e5",
     "grade": false,
     "grade_id": "markdown_7",
     "locked": true,
     "solution": false
    }
   },
   "source": [
    "And we can use `date_idx` as follows:\n",
    "\n",
    "```python\n",
    ">>> mu = np.arange(30)\n",
    ">>> print(mu)\n",
    "```\n",
    "```\n",
    "[ 0  1  2  3  4  5  6  7  8  9 10 11 12 13 14 15 16 17 18 19 20 21 22 23 24\n",
    " 25 26 27 28 29]\n",
    "```\n",
    "```python\n",
    ">>> print(mu[date_idx])\n",
    "```\n",
    "```\n",
    "[ 0  1  2  3  6  7  8  9 10 12 13 15 16 17 18 19 21 22 23 24 25 26 27 28 29\n",
    "  0  2  3  6  7  8  9 10 11 12 13 14 15 16 17 18 19 20 21 22 23 24 25 27 28\n",
    " 29  0  2  3  5  6  7  9 10 11 12 14 16 17 18 19 21 23 24 25 26 27 28  0  1\n",
    "  2  3  6  7  8  9 10 12 13 14 15 16 17 18 19 20 21 22 23 24 25 26 27 28 29]\n",
    "```\n",
    "```python\n",
    ">>> len(mu[date_idx]) == len(local_shifted)\n",
    "```\n",
    "```\n",
    "True\n",
    "```"
   ]
  },
  {
   "cell_type": "markdown",
   "metadata": {
    "deletable": false,
    "nbgrader": {
     "checksum": "cce313275a84c2a82bc52122f3dc13b5",
     "grade": false,
     "grade_id": "markdown_8",
     "locked": true,
     "solution": false
    }
   },
   "source": [
    "## Hierarchical Model\n",
    "\n",
    "- Implement the following hierarchical model using `pymc3`:\n",
    "$$\n",
    "\\begin{aligned}\n",
    "y_{ji} &\\sim Poisson(\\mu_{i}) \\\\\n",
    "\\mu_i &= Gamma(\\alpha_\\mu, \\beta_\\mu) \\\\\n",
    "\\alpha_\\mu &= Gamma(1, 1) \\\\\n",
    "\\beta_\\mu &= Gamma(1, 1)\n",
    "\\end{aligned}\n",
    "$$\n",
    "for each flight $j$ and each day $i$.\n",
    "\n",
    "  Note there are two ways to specify a [Gamma distribution](https://en.wikipedia.org/wiki/Gamma_distribution): either in terms of alpha and beta or mean and standard deviation. In this problem, we parametrize it in terms of alpha (the shape parameter) and beta (the rate parameter).\n",
    "\n",
    "- Use the names `mu`, `hyper_alpha_mu`, and `hyper_beta_mu` for $\\mu_i$, $\\alpha_\\mu$, and $\\beta_\\mu$, respectively.\n",
    "- Estimate the model paramters with the maximum a posteriori (MAP) method.\n",
    "- Use the `Metropolis` sampler to generate posterior samples.\n",
    "- Use the `random_seed` parameter in `pymc3.sample()` method for reproducibility.\n",
    "- Use the name `y_pred` for posterior predictive distribution."
   ]
  },
  {
   "cell_type": "code",
   "execution_count": null,
   "metadata": {
    "collapsed": false,
    "deletable": false,
    "nbgrader": {
     "checksum": "51a74e4bf068d6dc66ccc57362a9ad63",
     "grade": false,
     "grade_id": "sample_posterior_answer",
     "locked": false,
     "solution": true
    }
   },
   "outputs": [],
   "source": [
    "def sample_posterior(X, idx, n_samples=2000, random_seed=0):\n",
    "    '''\n",
    "    A hierarchical Poisson model.\n",
    "    \n",
    "    Paramters\n",
    "    ---------\n",
    "    X: A numpy array\n",
    "    idx: A numpy array\n",
    "    n_samples: The number of samples to draw in pymc3.sample().\n",
    "               Defaults to 2000.\n",
    "    random_seed: An int. Used in pymc3.sample().\n",
    "                 Defaults to 0.\n",
    "                 \n",
    "    Returns\n",
    "    -------\n",
    "    A pymc3.MultiTrace object with access to sampling values.\n",
    "    '''\n",
    "    \n",
    "    # YOUR CODE HERE\n",
    "    \n",
    "    return trace"
   ]
  },
  {
   "cell_type": "code",
   "execution_count": null,
   "metadata": {
    "collapsed": false,
    "deletable": false,
    "nbgrader": {
     "checksum": "1748087e53ef5bc7856f45feb93452d3",
     "grade": false,
     "grade_id": "sample_posterior_run",
     "locked": true,
     "solution": false
    }
   },
   "outputs": [],
   "source": [
    "hierarchical_trace = sample_posterior(X=local_shifted['DepDelay'].values, idx=date_idx, n_samples=50000, random_seed=0)"
   ]
  },
  {
   "cell_type": "markdown",
   "metadata": {
    "deletable": false,
    "nbgrader": {
     "checksum": "f97117cd68dc7ba2d326efd476a3d0b1",
     "grade": false,
     "grade_id": "markdown_9",
     "locked": true,
     "solution": false
    }
   },
   "source": [
    "## Tests"
   ]
  },
  {
   "cell_type": "code",
   "execution_count": null,
   "metadata": {
    "collapsed": false,
    "deletable": false,
    "nbgrader": {
     "checksum": "c008ecb6112c096fec31bcef117fadf8",
     "grade": true,
     "grade_id": "test_1",
     "locked": true,
     "points": 8,
     "solution": false
    }
   },
   "outputs": [],
   "source": [
    "assert_is_instance(hierarchical_trace, pm.backends.base.MultiTrace)"
   ]
  },
  {
   "cell_type": "code",
   "execution_count": null,
   "metadata": {
    "collapsed": true,
    "deletable": false,
    "nbgrader": {
     "checksum": "8a39184ffdf6a648b95efc6c05067cd4",
     "grade": true,
     "grade_id": "test_2",
     "locked": true,
     "points": 8,
     "solution": false
    }
   },
   "outputs": [],
   "source": [
    "assert_true('mu' in hierarchical_trace.varnames)\n",
    "assert_true('hyper_alpha_mu' in hierarchical_trace.varnames)\n",
    "assert_true('hyper_beta_mu' in hierarchical_trace.varnames)"
   ]
  },
  {
   "cell_type": "code",
   "execution_count": null,
   "metadata": {
    "collapsed": false,
    "deletable": false,
    "nbgrader": {
     "checksum": "332f95116f85487cb9ffcbeabb44577d",
     "grade": true,
     "grade_id": "test_3",
     "locked": true,
     "points": 8,
     "solution": false
    }
   },
   "outputs": [],
   "source": [
    "for v in hierarchical_trace.varnames:\n",
    "    assert_equal(len(hierarchical_trace[v]), 50000)\n",
    "    \n",
    "assert_equal(hierarchical_trace['mu'].shape[1], 30)"
   ]
  },
  {
   "cell_type": "code",
   "execution_count": null,
   "metadata": {
    "collapsed": false,
    "deletable": false,
    "nbgrader": {
     "checksum": "a6f33f488b4c2bcac8132bf21ad64dd7",
     "grade": true,
     "grade_id": "test_4",
     "locked": true,
     "points": 8,
     "solution": false
    }
   },
   "outputs": [],
   "source": [
    "# note the length of array is 30 for 30 days in the month\n",
    "assert_array_almost_equal(\n",
    "    hierarchical_trace['mu'][0],\n",
    "    [  8.93494936,   4.0622874,    4.14991769,   7.88457657,   6.25999938,\n",
    "      21.24216992,   3.9165015,    4.61675007,   4.50005472,   3.33296105,\n",
    "      10.2187384,    3.40560029,   7.5344523,    5.41352113,   9.67636418,\n",
    "       5.71800992,   5.31699857,  10.80227888,   3.56637722,   3.33296102,\n",
    "       4.71897438,   2.98283677,  11.96003013,   3.33296105,   3.68308532,\n",
    "       7.65116039,   4.04332153,   4.85016623,   3.44966913,   8.00167584]\n",
    "   )\n",
    "assert_almost_equal(hierarchical_trace['hyper_alpha_mu'][0], 3.5580976444411982,3)\n",
    "assert_almost_equal(hierarchical_trace['hyper_beta_mu'][0], 0.56838626066539077,3)"
   ]
  },
  {
   "cell_type": "code",
   "execution_count": null,
   "metadata": {
    "collapsed": false,
    "deletable": false,
    "nbgrader": {
     "checksum": "5faef67d5bb48a21b50315c495e9e959",
     "grade": true,
     "grade_id": "test_5",
     "locked": true,
     "points": 8,
     "solution": false
    }
   },
   "outputs": [],
   "source": [
    "assert_array_almost_equal(\n",
    "    hierarchical_trace['mu'][-1],\n",
    "    [ 19.77166963,   6.14628482,   6.8238745,   15.03404489,   5.60213034,\n",
    "      44.56764984,   6.07092499,   7.68898026,   7.70654923,   6.26091794,\n",
    "      21.36239315,   4.81410598,  14.12608149,   9.66526395,  19.80288854,\n",
    "      11.97265248,  13.66763089,  20.10743819,   8.36165972,   3.53264275,\n",
    "       9.1774443,    3.60443517,  26.20173204,   4.84636078,   4.99342565,\n",
    "      14.87326008,   6.77082538,   9.67180886,   8.07633971,  13.53228736]\n",
    "     )\n",
    "assert_array_almost_equal(\n",
    "    hierarchical_trace['hyper_alpha_mu'][-5:],\n",
    "    [ 2.72175 ,  2.72175 ,  2.72175 ,  2.533818,  2.533818]\n",
    "    )\n",
    "assert_array_almost_equal(\n",
    "    hierarchical_trace['hyper_beta_mu'][-5:],\n",
    "    [ 0.243719,  0.237223,  0.237223,  0.237223,  0.206227]\n",
    ")"
   ]
  },
  {
   "cell_type": "markdown",
   "metadata": {
    "deletable": false,
    "nbgrader": {
     "checksum": "6af74863e3b5b1946abec7f96254da97",
     "grade": false,
     "grade_id": "markdown_10",
     "locked": true,
     "solution": false
    }
   },
   "source": [
    "## Model Checking"
   ]
  },
  {
   "cell_type": "code",
   "execution_count": null,
   "metadata": {
    "collapsed": false,
    "deletable": false,
    "nbgrader": {
     "checksum": "181bdeadb9349f1d58f062d0475c7c59",
     "grade": false,
     "grade_id": "traceplot",
     "locked": true,
     "solution": false
    }
   },
   "outputs": [],
   "source": [
    "pm.traceplot(hierarchical_trace[25000:], varnames=['mu', 'hyper_alpha_mu', 'hyper_beta_mu']);"
   ]
  },
  {
   "cell_type": "code",
   "execution_count": null,
   "metadata": {
    "collapsed": false,
    "deletable": false,
    "nbgrader": {
     "checksum": "bdff89bed5c4a54915ed944daeb58da7",
     "grade": false,
     "grade_id": "plot",
     "locked": true,
     "solution": false
    }
   },
   "outputs": [],
   "source": [
    "x_lim = 60\n",
    "n_burn = 25000\n",
    "\n",
    "# we discard burn-in and use every 1000th trace\n",
    "y_pred = hierarchical_trace.get_values('y_pred')[n_burn::1000].ravel()\n",
    "\n",
    "sns.set_style('white')\n",
    "fig, ax = plt.subplots(2, sharex=True, figsize=(12,6))\n",
    "\n",
    "ax[0].hist(y_pred, range=[0, x_lim], bins=x_lim, histtype='stepfilled')   \n",
    "ax[0].set_xlim(1, x_lim)\n",
    "ax[0].set_ylabel('Frequency')\n",
    "ax[0].set_title('Posterior predictive distribution')\n",
    "\n",
    "ax[1].hist(local_shifted.DepDelay.values, range=[0, x_lim], bins=x_lim, histtype='stepfilled')\n",
    "ax[1].set_xlabel('Departure Delay + 10 minutes')\n",
    "ax[1].set_ylabel('Frequency')\n",
    "ax[1].set_title('Distribution of observed data')\n",
    "\n",
    "sns.despine()\n",
    "\n",
    "plt.tight_layout()\n",
    "plt.show()"
   ]
  }
 ],
 "metadata": {
  "kernelspec": {
   "display_name": "Python 3",
   "language": "python",
   "name": "python3"
  },
  "language_info": {
   "codemirror_mode": {
    "name": "ipython",
    "version": 3
   },
   "file_extension": ".py",
   "mimetype": "text/x-python",
   "name": "python",
   "nbconvert_exporter": "python",
   "pygments_lexer": "ipython3",
   "version": "3.5.2"
  }
 },
 "nbformat": 4,
 "nbformat_minor": 0
}
