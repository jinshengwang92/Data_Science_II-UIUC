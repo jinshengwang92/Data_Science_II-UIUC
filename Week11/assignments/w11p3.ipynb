{
 "cells": [
  {
   "cell_type": "markdown",
   "metadata": {},
   "source": [
    "# Week 11 Problem 3\n",
    "\n",
    "If you are not using the `Assignments` tab on the course JupyterHub server to read this notebook, read [Activating the assignments tab](https://github.com/lcdm-uiuc/info490-sp17/blob/master/help/act_assign_tab.md).\n",
    "\n",
    "A few things you should keep in mind when working on assignments:\n",
    "\n",
    "1. Make sure you fill in any place that says `YOUR CODE HERE`. Do **not** write your answer in anywhere else other than where it says `YOUR CODE HERE`. Anything you write anywhere else will be removed or overwritten by the autograder.\n",
    "\n",
    "2. Before you submit your assignment, make sure everything runs as expected. Go to menubar, select _Kernel_, and restart the kernel and run all cells (_Restart & Run all_).\n",
    "\n",
    "3. Do not change the title (i.e. file name) of this notebook.\n",
    "\n",
    "4. Make sure that you save your work (in the menubar, select _File_  → _Save and CheckPoint_)\n",
    "\n",
    "5. You are allowed to submit an assignment multiple times, but only the most recent submission will be graded.\n",
    "-----\n",
    "# Problem 11.3. General Linear Models\n",
    "\n",
    "In this problem, we will use a general linear model to fit a linear model that predicts `AirTime` from `Distance`. In the end, you'll be able to get a graph like this:\n",
    "![](images/sample.png)"
   ]
  },
  {
   "cell_type": "code",
   "execution_count": null,
   "metadata": {
    "collapsed": true,
    "deletable": false,
    "nbgrader": {
     "checksum": "ce1ae48900addfbd02490d86acd66d8b",
     "grade": false,
     "grade_id": "imports",
     "locked": true,
     "solution": false
    }
   },
   "outputs": [],
   "source": [
    "%matplotlib inline\n",
    "\n",
    "import numpy as np\n",
    "import pandas as pd\n",
    "import matplotlib as mpl\n",
    "import matplotlib.pyplot as plt\n",
    "import seaborn as sns\n",
    "import pymc3 as pm\n",
    "\n",
    "from nose.tools import assert_equal, assert_is_instance, assert_true\n",
    "from numpy.testing import assert_array_almost_equal, assert_almost_equal"
   ]
  },
  {
   "cell_type": "markdown",
   "metadata": {},
   "source": [
    "We use the `2001/2001-1.csv`， which includes top 500,000 rows of `2001.csv`. For simplicity, we limit our analysis to flights that departed from Los Angeles International Airport (LAX), and use every 500th row."
   ]
  },
  {
   "cell_type": "code",
   "execution_count": null,
   "metadata": {
    "collapsed": false,
    "deletable": false,
    "nbgrader": {
     "checksum": "8edc1f3edcd83bde10166b00b7aedda4",
     "grade": false,
     "grade_id": "file",
     "locked": true,
     "solution": false
    }
   },
   "outputs": [],
   "source": [
    "filename = '/home/data_scientist/data/2001/2001-1.csv'\n",
    "\n",
    "usecols = (13, 16, 18)\n",
    "columns = ['AirTime', 'Origin', 'Distance']\n",
    "\n",
    "all_data = pd.read_csv(filename, header=0, na_values=['NA'], usecols=usecols, names=columns)\n",
    "\n",
    "local = all_data.loc[all_data['Origin'] == 'LAX'] # use only flights departed from LAX (Los Angeles)\n",
    "local = local.dropna() # drop missing values\n",
    "local = local.loc[::500] # use every 500th row\n",
    "\n",
    "print(local.head())"
   ]
  },
  {
   "cell_type": "markdown",
   "metadata": {},
   "source": [
    "## General Linear Model\n",
    "\n",
    "- Estimate a Bayesian linear regression model using the `pymc3.glm.glm()` function.\n",
    "- Assume that our data is distributed according to the normal distribution.\n",
    "- Use a [Patsy](https://patsy.readthedocs.org/en/latest/formulas.html) string to describe the linear model. Name the independent variable `x` and the dependent variable `y`.\n",
    "- Estimate the model paramters with the maximum a posteriori (MAP) method (using default paramters).\n",
    "- Use the No-U-Turn Sampler (NUTS) to generate posterior samples (using default paramters).\n",
    "- Use the `random_seed` parameter in `pymc3.sample()` method for reproducibility."
   ]
  },
  {
   "cell_type": "code",
   "execution_count": null,
   "metadata": {
    "collapsed": true,
    "deletable": false,
    "nbgrader": {
     "checksum": "77f693b4794cd99ae642cf9464348105",
     "grade": false,
     "grade_id": "question",
     "locked": false,
     "solution": true
    }
   },
   "outputs": [],
   "source": [
    "def sample_posterior(x, y, n_samples=1000, random_seed=0):\n",
    "    '''\n",
    "    A general linear model.\n",
    "    \n",
    "    Paramters\n",
    "    ---------\n",
    "    x: A numpy array\n",
    "    y: A numpy array\n",
    "    n_samples: The number of samples to draw in pymc3.sample().\n",
    "               Defaults to 1000.\n",
    "    random_seed: An int. Used in pymc3.sample().\n",
    "                 Defaults to 0.\n",
    "                 \n",
    "    Returns\n",
    "    -------\n",
    "    A pymc3.MultiTrace object with access to sampling values.\n",
    "    '''\n",
    "    \n",
    "    # YOUR CODE HERE\n",
    "        \n",
    "    return trace"
   ]
  },
  {
   "cell_type": "code",
   "execution_count": null,
   "metadata": {
    "collapsed": false,
    "deletable": false,
    "nbgrader": {
     "checksum": "13e9f1d311bfd8aa7db65202f7e9d349",
     "grade": false,
     "grade_id": "execute",
     "locked": true,
     "solution": false
    }
   },
   "outputs": [],
   "source": [
    "trace = sample_posterior(local.Distance.values, local.AirTime.values, n_samples=2000, random_seed=0)"
   ]
  },
  {
   "cell_type": "markdown",
   "metadata": {},
   "source": [
    "## Tests"
   ]
  },
  {
   "cell_type": "code",
   "execution_count": null,
   "metadata": {
    "collapsed": true,
    "deletable": false,
    "nbgrader": {
     "checksum": "64e4e3fdcf17daba44eb02c1624634e3",
     "grade": true,
     "grade_id": "t1",
     "locked": true,
     "points": 5,
     "solution": false
    }
   },
   "outputs": [],
   "source": [
    "assert_is_instance(trace, pm.backends.base.MultiTrace)"
   ]
  },
  {
   "cell_type": "code",
   "execution_count": null,
   "metadata": {
    "collapsed": true,
    "deletable": false,
    "nbgrader": {
     "checksum": "85ade6bdc12b163319483c72a1fd583a",
     "grade": true,
     "grade_id": "t2",
     "locked": true,
     "points": 5,
     "solution": false
    }
   },
   "outputs": [],
   "source": [
    "assert_true('Intercept' in trace.varnames)\n",
    "assert_true('x' in trace.varnames)"
   ]
  },
  {
   "cell_type": "code",
   "execution_count": null,
   "metadata": {
    "collapsed": true,
    "deletable": false,
    "nbgrader": {
     "checksum": "29a74da1f931a88b7f4f8ac54705cbf5",
     "grade": true,
     "grade_id": "t3",
     "locked": true,
     "points": 5,
     "solution": false
    }
   },
   "outputs": [],
   "source": [
    "for v in trace.varnames:\n",
    "    assert_equal(len(trace[v]), 2000)"
   ]
  },
  {
   "cell_type": "code",
   "execution_count": null,
   "metadata": {
    "collapsed": false,
    "deletable": false,
    "nbgrader": {
     "checksum": "c4938f3d4090771bbc4aca5044d5fae9",
     "grade": true,
     "grade_id": "t4",
     "locked": true,
     "points": 10,
     "solution": false
    }
   },
   "outputs": [],
   "source": [
    "assert_almost_equal(trace['Intercept'][0], 20.163150232199225)\n",
    "assert_almost_equal(trace['x'][0], 0.10362609694333563)"
   ]
  },
  {
   "cell_type": "code",
   "execution_count": null,
   "metadata": {
    "collapsed": false,
    "deletable": false,
    "nbgrader": {
     "checksum": "25c8b9fe5828dab769c12e2e5e90308d",
     "grade": true,
     "grade_id": "t5",
     "locked": true,
     "points": 15,
     "solution": false
    }
   },
   "outputs": [],
   "source": [
    "assert_array_almost_equal(\n",
    "    trace['Intercept'][-5:],\n",
    "    [ 20.444908,  20.444908,  20.128365,  21.166983,  21.201882]\n",
    "    )\n",
    "assert_array_almost_equal(\n",
    "    trace['x'][-5:],\n",
    "    [ 0.105146,  0.105146,  0.10482 ,  0.104374,  0.103111]\n",
    "    )"
   ]
  },
  {
   "cell_type": "markdown",
   "metadata": {},
   "source": [
    "## Visualization"
   ]
  },
  {
   "cell_type": "code",
   "execution_count": null,
   "metadata": {
    "collapsed": false
   },
   "outputs": [],
   "source": [
    "pm.traceplot(trace, ['Intercept', 'x']);"
   ]
  },
  {
   "cell_type": "code",
   "execution_count": null,
   "metadata": {
    "collapsed": false
   },
   "outputs": [],
   "source": [
    "sns.set(style='white')\n",
    "\n",
    "ax = sns.regplot(data=local, x='Distance', y='AirTime',\n",
    "                 fit_reg=False, color='k', label=\"Data\")\n",
    "\n",
    "ax.set_xlim(0, 3000)\n",
    "ax.set_ylim(0, 350)\n",
    "\n",
    "x_sample = np.linspace(0, 3000, 2)\n",
    "\n",
    "pm.glm.plot_posterior_predictive(trace, samples=100, eval=x_sample,\n",
    "                                 label='posterior predictive regression lines', color='skyblue', alpha=0.2)\n",
    "sns.despine()\n",
    "\n",
    "ax.legend(loc='upper left', frameon=True)\n",
    "\n",
    "plt.show()"
   ]
  }
 ],
 "metadata": {
  "kernelspec": {
   "display_name": "Python 3",
   "language": "python",
   "name": "python3"
  },
  "language_info": {
   "codemirror_mode": {
    "name": "ipython",
    "version": 3
   },
   "file_extension": ".py",
   "mimetype": "text/x-python",
   "name": "python",
   "nbconvert_exporter": "python",
   "pygments_lexer": "ipython3",
   "version": "3.5.2"
  }
 },
 "nbformat": 4,
 "nbformat_minor": 2
}
