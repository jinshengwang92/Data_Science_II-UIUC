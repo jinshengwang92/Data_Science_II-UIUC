{
 "cells": [
  {
   "cell_type": "markdown",
   "metadata": {},
   "source": [
    "\n",
    "<DIV ALIGN=CENTER>\n",
    "\n",
    "# Advanced Data Science\n",
    "## University of Illinois\n",
    "### Professor: Robert J. Brunner  \n",
    "### Spring 2017\n",
    "\n",
    "</DIV>  \n",
    "-----\n",
    "-----"
   ]
  },
  {
   "cell_type": "markdown",
   "metadata": {},
   "source": [
    "## Week 11: Introduction to Probabilistic Programming\n",
    "\n",
    "### Lecture 1: [Bayesian Modeling][l1]\n",
    "\n",
    "Learn about Bayesian Statistics and how this approach can be used to\n",
    "constrain model fits to data.\n",
    "\n",
    "### Lecture 2: [Hierarchical Modeling][l2]\n",
    "\n",
    "Learn how to perform hierarchical modeling by using Bayesian techniques.\n",
    "\n",
    "### Lecture 3: [General Linear Models][l3]\n",
    "\n",
    "Learn how to compute and apply general linear models by using Bayesian\n",
    "techniques.\n",
    "\n",
    "-----\n",
    "\n",
    "[l1]: ../notebooks/intro2pp-bm.ipynb\n",
    "[l2]: ../notebooks/intro2pp-hm.ipynb\n",
    "[l3]: ../notebooks/intro2pp-glm.ipynb"
   ]
  },
  {
   "cell_type": "code",
   "execution_count": 1,
   "metadata": {
    "collapsed": false
   },
   "outputs": [
    {
     "data": {
      "text/markdown": [
       "# Week 11 Overview #\n",
       "\n",
       "## Probabilistic Programming ##\n",
       "\n",
       "This week we introduce Bayesian Model fitting. In the Bayesian approach, we compute the likelihood of a model given observed data. This is a popular technique since we obtain posterior distributions on our model parameters. First, we will explore the general concepts in Bayesian model fitting and learn how to us the pymc3 library to compute the model parameters, sample from the likelihood, and evaluate the resulting fit. Next, we will learn about hierarchical model fitting, where both the entire data and subsets of the data re fit at the same time. Finally, we will explore general linear modeling, where he model errors are allowed to be non-Gaussian.\n",
       "\n",
       "### Objectives ###\n",
       "\n",
       "##### By the end of this lesson, you should be able to: ######\n",
       "\n",
       "- Understand the basic concepts of Bayesian Mode regression\n",
       "- Understand the fundamentals of hierarchical model fitting.\n",
       "- Understand the basic principles of general linear modeling.\n",
       "- Be able to use the pymc3 library to compute Bayesian model fitting,\n",
       "  including hierarchical models and general linear model\n",
       "\n",
       "### Activities and Assignments ###\n",
       "\n",
       "| Activities and Assignments               | Time Estimate | Deadline*                |                  Points |\n",
       "| :--------------------------------------- | ------------- | ------------------------ | ----------------------: |\n",
       "| **[Week 11 Introduction Video][wv]**     | 10 Minutes    | Tuesday                  |                     N/A |\n",
       "| **[Week 11 Lesson 1: Introduction to Bayesian Modeling](lesson1.md)** | 2 Hours       | Thursday                 |                      20 |\n",
       "| **[Week 11 Lesson 2: Introduction to Hierarchical Modeling](lesson2.md)** | 2 Hours       | Thursday                 |                      20 |\n",
       "| **[Week 11 Lesson 3: Introduction to General Linear Models](lesson3.md)** | 2 Hours       | Thursday                 |                      20 |\n",
       "| **[Week 11 Quiz][wq]**                   | 45 Minutes    | Friday                   |                      70 |\n",
       "| **Week 11 Assignment Submission**        | 4 Hours       | *The following* Monday   | 125 Instructor, 10 Peer |\n",
       "| **Week 11 Completion of Peer Review**    | 2 Hours       | *The following* Saturday |                      15 |\n",
       "\n",
       "*Please note that unless otherwise noted, the due time is 6pm Central time!*\n",
       "\n",
       "----------\n",
       "[wv]: https://mediaspace.illinois.edu/media/\n",
       "[wq]: https://learn.illinois.edu/mod/quiz/\n"
      ],
      "text/plain": [
       "<IPython.core.display.Markdown object>"
      ]
     },
     "execution_count": 1,
     "metadata": {},
     "output_type": "execute_result"
    }
   ],
   "source": [
    "from IPython.display import Markdown\n",
    "\n",
    "Markdown(filename='README.md')"
   ]
  }
 ],
 "metadata": {
  "kernelspec": {
   "display_name": "Python 3",
   "language": "python",
   "name": "python3"
  },
  "language_info": {
   "codemirror_mode": {
    "name": "ipython",
    "version": 3
   },
   "file_extension": ".py",
   "mimetype": "text/x-python",
   "name": "python",
   "nbconvert_exporter": "python",
   "pygments_lexer": "ipython3",
   "version": "3.5.2"
  }
 },
 "nbformat": 4,
 "nbformat_minor": 0
}
