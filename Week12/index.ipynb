{
 "cells": [
  {
   "cell_type": "markdown",
   "metadata": {},
   "source": [
    "\n",
    "<DIV ALIGN=CENTER>\n",
    "\n",
    "# Advanced Data Science\n",
    "## University of Illinois\n",
    "### Professor: Robert J. Brunner  \n",
    "### Spring 2017\n",
    "\n",
    "</DIV>  \n",
    "-----\n",
    "-----"
   ]
  },
  {
   "cell_type": "markdown",
   "metadata": {},
   "source": [
    "## Week 12: Introduction to Cloud Computing\n",
    "\n",
    "### Lecture 1: [Introduction to Hadoop][l1]\n",
    "\n",
    "Learn about cloud computing, and specifically the Hadoop framework.\n",
    "\n",
    "### Lecture 2: [Introduction to Map/Reduce][l2]\n",
    "\n",
    "Learn how to work with the Map/Reduce framework within Hadoop to perform data processing.\n",
    "\n",
    "### Lecture 3: [Introduction to Pig][l3]\n",
    "\n",
    "Learn how to use Pig to quickly analyze large data sets on Hadoop.\n",
    "\n",
    "-----\n",
    "\n",
    "[l1]: ../notebooks/intro2hadoop.ipynb\n",
    "[l2]: ../notebooks/intro2mr.ipynb\n",
    "[l3]: ../notebooks/intro2pig.ipynb"
   ]
  },
  {
   "cell_type": "code",
   "execution_count": 1,
   "metadata": {
    "collapsed": false
   },
   "outputs": [
    {
     "data": {
      "text/markdown": [
       "# Week 12 Overview #\n",
       "\n",
       "## Cloud Computing ##\n",
       "\n",
       "This week we introduce Hadoop, perhaps the dominant method of big data processing in use today. Originally, Hadoop was develop to enable MapReduce tasks to be quickly executed. While this paradigm is still in place, new paradigms, such as Spark, are also now available, which means Hadoop will continue to exist as an important part of the Big Data landscape for much longer. This week, you will learn about Hadoop, and specifically the Hadoop distributed file system (HDFS), the MapReduce programming paradigm, and the Pig platform, which simplifies the task of writing MapReduce tasks.\n",
       "\n",
       "### Objectives ###\n",
       "\n",
       "##### By the end of this lesson, you should be able to: ######\n",
       "\n",
       "- Understand the basic concepts of Cloud Computing.\n",
       "- Understand the basics of the Hadoop platform\n",
       "- Understand how to use HDFS\n",
       "- Understand the MapReduce approach to computing, and how to use Pig to create MapReduce applications.\n",
       "- Be able to execute MapReduce tasks in a Hadoop environment. \n",
       "\n",
       "### Activities and Assignments ###\n",
       "\n",
       "| Activities and Assignments               | Time Estimate | Deadline*                |                  Points |\n",
       "| :--------------------------------------- | ------------- | ------------------------ | ----------------------: |\n",
       "| **[Week 12 Introduction Video][wv]**     | 10 Minutes    | Tuesday                  |                     N/A |\n",
       "| **[Week 12 Lesson 1: Introduction to Hadoop](lesson1.md)** | 2 Hours       | Thursday                 |                      20 |\n",
       "| **[Week 12 Lesson 2: Introduction to MapReduce](lesson2.md)** | 2 Hours       | Thursday                 |                      20 |\n",
       "| **[Week 12 Lesson 3: Introduction to Pig](lesson3.md)** | 2 Hours       | Thursday                 |                      20 |\n",
       "| **[Week 12 Quiz][wq]**                   | 45 Minutes    | Friday                   |                      70 |\n",
       "| **Week 12 Assignment Submission**        | 4 Hours       | *The following* Monday   | 125 Instructor, 10 Peer |\n",
       "| **Week 12 Completion of Peer Review**    | 2 Hours       | *The following* Saturday |                      15 |\n",
       "\n",
       "*Please note that unless otherwise noted, the due time is 6pm Central time!*\n",
       "\n",
       "----------\n",
       "[wv]: https://mediaspace.illinois.edu/media/\n",
       "[wq]: https://learn.illinois.edu/mod/quiz/\n"
      ],
      "text/plain": [
       "<IPython.core.display.Markdown object>"
      ]
     },
     "execution_count": 1,
     "metadata": {},
     "output_type": "execute_result"
    }
   ],
   "source": [
    "from IPython.display import Markdown\n",
    "\n",
    "Markdown(filename='README.md')"
   ]
  }
 ],
 "metadata": {
  "kernelspec": {
   "display_name": "Python 3",
   "language": "python",
   "name": "python3"
  },
  "language_info": {
   "codemirror_mode": {
    "name": "ipython",
    "version": 3
   },
   "file_extension": ".py",
   "mimetype": "text/x-python",
   "name": "python",
   "nbconvert_exporter": "python",
   "pygments_lexer": "ipython3",
   "version": "3.5.2"
  }
 },
 "nbformat": 4,
 "nbformat_minor": 0
}
