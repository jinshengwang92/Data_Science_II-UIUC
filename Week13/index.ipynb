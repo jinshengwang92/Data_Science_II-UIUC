{
 "cells": [
  {
   "cell_type": "markdown",
   "metadata": {},
   "source": [
    "\n",
    "<DIV ALIGN=CENTER>\n",
    "\n",
    "# Advanced Data Science\n",
    "## University of Illinois\n",
    "### Professor: Robert J. Brunner  \n",
    "### Spring 2017\n",
    "\n",
    "</DIV>  \n",
    "-----\n",
    "-----"
   ]
  },
  {
   "cell_type": "markdown",
   "metadata": {},
   "source": [
    "## Week 13: Introduction to NoSQL Databases\n",
    "\n",
    "### Lecture 1: [Introduction to MongoDB][l1]\n",
    "\n",
    "Learn about MongoDB, one of the most popular NOSQL data stores, which\n",
    "employs a Document-based model.\n",
    "\n",
    "### Lecture 2: [Introduction to Cassandra][l2]\n",
    "\n",
    "Learn about Cassandra, a popular NoSQL data store that employs a\n",
    "Column-based model.\n",
    "\n",
    "### Lecture 3: [Introduction to Neo4J][l3]\n",
    "\n",
    "Learn about Neo4J, a graph database, which can be used to persist and\n",
    "interact with large graphical models.\n",
    "\n",
    "-----\n",
    "\n",
    "[l1]: ../notebooks/intro2mongodb.ipynb\n",
    "[l2]: ../notebooks/intro2cassandra.ipynb\n",
    "[l3]: ../notebooks/intro2neo4j.ipynb"
   ]
  },
  {
   "cell_type": "code",
   "execution_count": 1,
   "metadata": {
    "collapsed": false
   },
   "outputs": [
    {
     "data": {
      "text/markdown": [
       "# Week 13 Overview #\n",
       "\n",
       "## NoSQL DataStores ##\n",
       "\n",
       "This week we introduce NoSQL Databases, which are generally recent additions to the database world that provide functionality beyond that provided by traditional relational databases, often to enable fast processing of very large data sets. Typically these systems differ from a relational database by violating a specific item in the relational database _ACID_ test. Often this is consistency, which means that a select query might return different results depending on when it is run. This might be important for a shopping cart application for an online retailer, for example, who might be more interested in fast responses to user requests than an exact count of the number of items remaining in the inventory. These types of databases can also be based on specific types of data, such as document data or graph data structures. \n",
       "\n",
       "### Objectives ###\n",
       "\n",
       "##### By the end of this lesson, you should be able to: ######\n",
       "\n",
       "- Understand the basic concepts of a NoSQL database.\n",
       "- Understand the basics of documented-oriented, column-oriented, and graph databases\n",
       "- Understand how to connect to these database from a Python program.\n",
       "- Be able to insert, update, select, and delete data from these database by using a Python program.\n",
       "\n",
       "### Activities and Assignments ###\n",
       "\n",
       "| Activities and Assignments               | Time Estimate | Deadline*                |                  Points |\n",
       "| :--------------------------------------- | ------------- | ------------------------ | ----------------------: |\n",
       "| **[Week 13 Introduction Video][wv]**     | 10 Minutes    | Tuesday                  |                     N/A |\n",
       "| **[Week 13 Lesson 1: Introduction to Document Databases](lesson1.md)** | 2 Hours       | Thursday                 |                      20 |\n",
       "| **[Week 13 Lesson 2: Introduction to Column Databases](lesson2.md)** | 2 Hours       | Thursday                 |                      20 |\n",
       "| **[Week 13 Lesson 3: Introduction to Graph Databases](lesson3.md)** | 2 Hours       | Thursday                 |                      20 |\n",
       "| **[Week 13 Quiz][wq]**                   | 45 Minutes    | Friday                   |                      70 |\n",
       "| **Week 13 Assignment Submission**        | 4 Hours       | *The following* Monday   | 125 Instructor, 10 Peer |\n",
       "| **Week 13 Completion of Peer Review**    | 2 Hours       | *The following* Saturday |                      15 |\n",
       "\n",
       "*Please note that unless otherwise noted, the due time is 6pm Central time!*\n",
       "\n",
       "----------\n",
       "[wv]: https://mediaspace.illinois.edu/media/\n",
       "[wq]: https://learn.illinois.edu/mod/quiz/"
      ],
      "text/plain": [
       "<IPython.core.display.Markdown object>"
      ]
     },
     "execution_count": 1,
     "metadata": {},
     "output_type": "execute_result"
    }
   ],
   "source": [
    "from IPython.display import Markdown\n",
    "\n",
    "Markdown(filename='README.md')"
   ]
  }
 ],
 "metadata": {
  "kernelspec": {
   "display_name": "Python 3",
   "language": "python",
   "name": "python3"
  },
  "language_info": {
   "codemirror_mode": {
    "name": "ipython",
    "version": 3
   },
   "file_extension": ".py",
   "mimetype": "text/x-python",
   "name": "python",
   "nbconvert_exporter": "python",
   "pygments_lexer": "ipython3",
   "version": "3.5.2"
  }
 },
 "nbformat": 4,
 "nbformat_minor": 0
}
