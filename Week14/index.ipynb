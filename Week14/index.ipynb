{
 "cells": [
  {
   "cell_type": "markdown",
   "metadata": {},
   "source": [
    "\n",
    "<DIV ALIGN=CENTER>\n",
    "\n",
    "# Advanced Data Science\n",
    "## University of Illinois\n",
    "### Professor: Robert J. Brunner  \n",
    "### Spring 2017\n",
    "\n",
    "</DIV>  \n",
    "-----\n",
    "-----"
   ]
  },
  {
   "cell_type": "markdown",
   "metadata": {},
   "source": [
    "## Week 14: Cloud Computing with Spark\n",
    "\n",
    "### Lecture 1: [Introduction to Spark][l1]\n",
    "\n",
    "Learn about the Spark cloud computing platform and Resilient Distributed\n",
    "Datasets (RDDs).\n",
    "\n",
    "### Lecture 2: [Introduction to Spark: DataFrames][l2]\n",
    "\n",
    "Learn about Spark DataFrames, using SQL with Spark, and working with\n",
    "Cassandra from Spark. .\n",
    "\n",
    "### Lecture 3: [Introduction to Spark: Machine Learning][l3]\n",
    "\n",
    "Learn how to use the Spark machine learning package, including basic\n",
    "data analysis, and machine learning tasks.\n",
    "\n",
    "-----\n",
    "\n",
    "[l1]: ../notebooks/intro2spark.ipynb\n",
    "[l2]: ../notebooks/sparkdf.ipynb\n",
    "[l3]: ../notebooks/sparkmllib.ipynb"
   ]
  },
  {
   "cell_type": "code",
   "execution_count": 1,
   "metadata": {
    "collapsed": false
   },
   "outputs": [
    {
     "data": {
      "text/markdown": [
       "# Week 14 Overview #\n",
       "\n",
       "## Introduction to Spark ##\n",
       "\n",
       "This week we introduce Spark, a popular big data processing environment. Spark provides a non Map-Reduce framework on top of Hadoop. Spark also provides specific data structures, including the Resilient Distributed Dataset (RDD) and DataFrame that simplify big data processing tasks. In this course, we will use pySpark to perform Spark processing from within an IPython Notebook.\n",
       "\n",
       "### Objectives ###\n",
       "\n",
       "##### By the end of this lesson, you should be able to: ######\n",
       "\n",
       "- Understand the basic concepts of Spark\n",
       "- Understand and be able to use Spark RDDs and DataFrames \n",
       "- Be able to execute Spark tasks in a Hadoop environment\n",
       "- Understand how to use Spark MLlib\n",
       "\n",
       "### Activities and Assignments ###\n",
       "\n",
       "| Activities and Assignments               | Time Estimate | Deadline*                |                  Points |\n",
       "| :--------------------------------------- | ------------- | ------------------------ | ----------------------: |\n",
       "| **[Week 14 Introduction Video][wv]**     | 10 Minutes    | Tuesday                  |                     N/A |\n",
       "| **[Week 14 Lesson 1: Introduction to Spark](lesson1.md)** | 2 Hours       | Thursday                 |                      20 |\n",
       "| **[Week 14 Lesson 2: Introduction to Spark: DataFrames](lesson2.md)** | 2 Hours       | Thursday                 |                      20 |\n",
       "| **[Week 14 Lesson 3: Introduction to Spark: Machine Learning](lesson3.md)** | 2 Hours       | Thursday                 |                      20 |\n",
       "| **[Week 14 Quiz][wq]**                   | 45 Minutes    | Friday                   |                      70 |\n",
       "| **Week 14 Assignment Submission**        | 4 Hours       | *The following* Monday   | 125 Instructor, 10 Peer |\n",
       "| **Week 14 Completion of Peer Review**    | 2 Hours       | *The following* Saturday |                      15 |\n",
       "\n",
       "*Please note that unless otherwise noted, the due time is 6pm Central time!*\n",
       "\n",
       "----------\n",
       "[wv]: https://mediaspace.illinois.edu/media/\n",
       "[wq]: https://learn.illinois.edu/mod/quiz/"
      ],
      "text/plain": [
       "<IPython.core.display.Markdown object>"
      ]
     },
     "execution_count": 1,
     "metadata": {},
     "output_type": "execute_result"
    }
   ],
   "source": [
    "from IPython.display import Markdown\n",
    "\n",
    "Markdown(filename='README.md')"
   ]
  }
 ],
 "metadata": {
  "kernelspec": {
   "display_name": "Python 3",
   "language": "python",
   "name": "python3"
  },
  "language_info": {
   "codemirror_mode": {
    "name": "ipython",
    "version": 3
   },
   "file_extension": ".py",
   "mimetype": "text/x-python",
   "name": "python",
   "nbconvert_exporter": "python",
   "pygments_lexer": "ipython3",
   "version": "3.5.2"
  }
 },
 "nbformat": 4,
 "nbformat_minor": 0
}
