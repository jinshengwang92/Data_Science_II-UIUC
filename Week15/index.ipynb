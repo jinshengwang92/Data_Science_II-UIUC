{
 "cells": [
  {
   "cell_type": "markdown",
   "metadata": {},
   "source": [
    "\n",
    "<DIV ALIGN=CENTER>\n",
    "\n",
    "# Advanced Data Science\n",
    "## University of Illinois\n",
    "### Professor: Robert J. Brunner  \n",
    "### Spring 2017\n",
    "\n",
    "</DIV>  \n",
    "-----\n",
    "-----"
   ]
  },
  {
   "cell_type": "markdown",
   "metadata": {},
   "source": [
    "## Week 15: Deep Learning\n",
    "\n",
    "### Lecture 1: [Introduction to Deep Learning][l1]\n",
    "\n",
    "Learn about deep learning by using the Keras framework.\n",
    "\n",
    "-----\n",
    "\n",
    "[l1]: ../notebooks/intro2dl.ipynb"
   ]
  },
  {
   "cell_type": "code",
   "execution_count": 1,
   "metadata": {
    "collapsed": false
   },
   "outputs": [
    {
     "data": {
      "text/markdown": [
       "# Week 15 Overview #\n",
       "\n",
       "## Introduction to Deep Learning ##\n",
       "\n",
       "This week we introduce deep learning. Deep learning has become an incredibly popular form of machine learning that generally leveraged some type of neural network to learn from data in order to make predictions. While neural networks have been around for some time, deep learning is fairly new, and has found applications in many areas, especially image processing and natural language processing. In the one lesson for this week, we will introduce neural networks and deep learning, as well as provide additional resources for future study.\n",
       "\n",
       "### Objectives ###\n",
       "\n",
       "##### By the end of this lesson, you should be able to: ######\n",
       "\n",
       "- Understand the basic concepts of a neural network\n",
       "- Understand the basic tenets of deep learning \n",
       "- Be able to apply deep learning by using Python\n",
       "\n",
       "### Activities and Assignments ###\n",
       "\n",
       "| Activities and Assignments               | Time Estimate | Deadline* | Points |\n",
       "| :--------------------------------------- | ------------- | --------- | -----: |\n",
       "| **[Week 15 Introduction Video][wv]**     | 10 Minutes    | Tuesday   |    N/A |\n",
       "| **[Week 15 Lesson 1: Introduction to Deep Learning](lesson1.md)** | 3 Hours       | Thursday  |     20 |\n",
       "\n",
       "*Please note that unless otherwise noted, the due time is 6pm Central time!*\n",
       "\n",
       "----------\n",
       "[wv]: https://mediaspace.illinois.edu/media/\n"
      ],
      "text/plain": [
       "<IPython.core.display.Markdown object>"
      ]
     },
     "execution_count": 1,
     "metadata": {},
     "output_type": "execute_result"
    }
   ],
   "source": [
    "from IPython.display import Markdown\n",
    "\n",
    "Markdown(filename='README.md')"
   ]
  }
 ],
 "metadata": {
  "kernelspec": {
   "display_name": "Python 3",
   "language": "python",
   "name": "python3"
  },
  "language_info": {
   "codemirror_mode": {
    "name": "ipython",
    "version": 3
   },
   "file_extension": ".py",
   "mimetype": "text/x-python",
   "name": "python",
   "nbconvert_exporter": "python",
   "pygments_lexer": "ipython3",
   "version": "3.5.2"
  }
 },
 "nbformat": 4,
 "nbformat_minor": 0
}
