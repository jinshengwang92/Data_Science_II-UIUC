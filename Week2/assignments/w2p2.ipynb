{
 "cells": [
  {
   "cell_type": "markdown",
   "metadata": {
    "deletable": false,
    "delete_for_peer_review": "true",
    "nbgrader": {
     "checksum": "12d94cd4de06ed8a9d709e0ea9d47cc7",
     "grade": false,
     "grade_id": "header",
     "locked": true,
     "solution": false
    }
   },
   "source": [
    "If you are not using the `Assignments` tab on the course JupyterHub server to read this notebook, read [Activating the assignments tab](https://github.com/lcdm-uiuc/info490-sp17/blob/master/help/act_assign_tab.md).\n",
    "\n",
    "A few things you should keep in mind when working on assignments:\n",
    "\n",
    "1. Make sure you fill in any place that says `YOUR CODE HERE`. Do **not** write your answer in anywhere else other than where it says `YOUR CODE HERE`. Anything you write anywhere else will be removed or overwritten by the autograder.\n",
    "\n",
    "2. Before you submit your assignment, make sure everything runs as expected. Go to menubar, select _Kernel_, and restart the kernel and run all cells (_Restart & Run all_).\n",
    "\n",
    "3. Do not change the title (i.e. file name) of this notebook.\n",
    "\n",
    "4. Make sure that you save your work (in the menubar, select _File_ → _Save and CheckPoint_)\n",
    "\n",
    "5. You are allowed to submit an assignment multiple times, but only the most recent submission will be graded"
   ]
  },
  {
   "cell_type": "markdown",
   "metadata": {},
   "source": [
    "#### Problem 2.2. Regularization\n",
    "\n",
    "In this problem, we will use a Lasso Regression model to fit a polynomial that estimates departure delays from the scheduled departure time."
   ]
  },
  {
   "cell_type": "code",
   "execution_count": null,
   "metadata": {
    "collapsed": false,
    "deletable": false,
    "nbgrader": {
     "checksum": "a88fb423820a6d78cfa8c7135b42fcb3",
     "grade": false,
     "grade_id": "import",
     "locked": true,
     "solution": false
    }
   },
   "outputs": [],
   "source": [
    "%matplotlib inline\n",
    "\n",
    "import warnings\n",
    "warnings.filterwarnings(\"ignore\", category=UserWarning)\n",
    "\n",
    "import numpy as np\n",
    "import pandas as pd\n",
    "import matplotlib as mpl\n",
    "import matplotlib.pyplot as plt\n",
    "import seaborn as sns\n",
    "\n",
    "from sklearn.cross_validation import train_test_split\n",
    "from sklearn.utils import check_random_state\n",
    "from sklearn.linear_model import Lasso\n",
    "from sklearn.preprocessing import PolynomialFeatures\n",
    "from sklearn.pipeline import make_pipeline\n",
    "from sklearn.metrics import mean_squared_error\n",
    "    \n",
    "from nose.tools import assert_equal, assert_is_not\n",
    "from numpy.testing import assert_array_equal, assert_almost_equal, assert_array_almost_equal\n",
    "from pandas.util.testing import assert_frame_equal\n",
    "\n",
    "sns.set(style=\"white\", font_scale=2.0)"
   ]
  },
  {
   "cell_type": "markdown",
   "metadata": {},
   "source": [
    "For simplicity, we limit our analysis to flights that departed from O'Hare. We will try to predict `DepDelay` from `CRSDepTime`."
   ]
  },
  {
   "cell_type": "code",
   "execution_count": null,
   "metadata": {
    "collapsed": false,
    "deletable": false,
    "nbgrader": {
     "checksum": "5a9049bcf6ff0506bd488497e70adabd",
     "grade": false,
     "grade_id": "read_csv",
     "locked": true,
     "solution": false
    }
   },
   "outputs": [],
   "source": [
    "filename = '/home/data_scientist/data/2001.csv'\n",
    "\n",
    "usecols = (5, 15, 16)\n",
    "columns = ['CRSDepTime', 'DepDelay', 'Origin']\n",
    "\n",
    "all_data = pd.read_csv(filename, header=0, na_values=['NA'], usecols=usecols, names=columns)\n",
    "\n",
    "local = all_data.loc[all_data['Origin'] == 'ORD'].dropna()"
   ]
  },
  {
   "cell_type": "markdown",
   "metadata": {},
   "source": [
    "We are actually going to predict the **average** `DepDelay` in each one-hour blocks of `CRSDepTime`. In other words, we will transform the `local` data set which looks like:\n",
    "\n",
    "```python\n",
    ">>> print(local.head())\n",
    "```\n",
    "\n",
    "```\n",
    "      CRSDepTime  DepDelay Origin\n",
    "6367         951        -8    ORD\n",
    "6368         951         0    ORD\n",
    "6369         951        13    ORD\n",
    "6370         951        17    ORD\n",
    "6371         951        -1    ORD\n",
    "```\n",
    "\n",
    "into a data set that looks like this:\n",
    "\n",
    "```python\n",
    ">>> hourly = get_hourly(local)\n",
    ">>> print(hourly)\n",
    "```\n",
    "\n",
    "```\n",
    "               CRSDepTime   DepDelay\n",
    "CRSDepTime                          \n",
    "(500, 600]     595.588556   1.160309\n",
    "(600, 700]     649.187489   1.922079\n",
    "(700, 800]     740.461376   4.788713\n",
    "(800, 900]     838.512038   6.073624\n",
    "(900, 1000]    941.117287   7.533417\n",
    "(1000, 1100]  1029.092318   7.959812\n",
    "(1100, 1200]  1143.347120   8.945600\n",
    "(1200, 1300]  1237.310490   9.465208\n",
    "(1300, 1400]  1330.703802  10.080120\n",
    "(1400, 1500]  1444.372347  12.928801\n",
    "(1500, 1600]  1528.276364  14.855922\n",
    "(1600, 1700]  1647.206659  15.155163\n",
    "(1700, 1800]  1737.540096  16.915603\n",
    "(1800, 1900]  1836.121684  18.688567\n",
    "(1900, 2000]  1936.516002  20.037355\n",
    "(2000, 2100]  2040.102539  18.882328\n",
    "(2100, 2200]  2131.162948  18.011156\n",
    "(2200, 2300]  2210.144461  13.627994\n",
    "```"
   ]
  },
  {
   "cell_type": "code",
   "execution_count": null,
   "metadata": {
    "collapsed": false,
    "deletable": false,
    "nbgrader": {
     "checksum": "ee1b1ac0b649ac6ea65eaf3dd093a7a1",
     "grade": false,
     "grade_id": "get_hourly",
     "locked": true,
     "solution": false
    }
   },
   "outputs": [],
   "source": [
    "def get_hourly(df):\n",
    "    return df.groupby(pd.cut(df['CRSDepTime'], np.arange(0, 2400, 100))).mean().dropna()\n",
    "\n",
    "hourly = get_hourly(local)\n",
    "print(hourly)"
   ]
  },
  {
   "cell_type": "markdown",
   "metadata": {},
   "source": [
    "## Plot a linear regression model\n",
    "\n",
    "Let's start by plotting a scatter plot of (average) `DepDelay` vs. (average) `CRSDepTime` and fitting a linear regression model.\n",
    "\n",
    "- Use [seaborn.regplot](http://stanford.edu/~mwaskom/software/seaborn/generated/seaborn.regplot.html) to write a function named `plot_seaborn_reg()` that creates a scatter plot with `CRSDepTime` in the $x$-axis and `DepDelay` in the $y$-axis. The function shuold also fit a linear regression model in the same plot. Note that the function should return an instance of [matplotlib Axes](http://matplotlib.org/users/artists.html) object."
   ]
  },
  {
   "cell_type": "code",
   "execution_count": null,
   "metadata": {
    "collapsed": false,
    "deletable": false,
    "nbgrader": {
     "checksum": "3e95da75b530bf525efd988baa38ef8b",
     "grade": false,
     "grade_id": "plot_seaborn_reg_answer",
     "locked": false,
     "solution": true
    }
   },
   "outputs": [],
   "source": [
    "def plot_seaborn_reg(df):\n",
    "    '''\n",
    "    Uses Seaborn to create a scatter plot of \"DepDelay\" vs \"CRSDepTime\" columns in \"df\".\n",
    "    Also fits a linear regression model in the same plot.\n",
    "    \n",
    "    Parameters\n",
    "    ----------\n",
    "    df: A pandas.DataFrame. Should have columns named \"CRSDepTime\" and \"DepDelay\".\n",
    "    \n",
    "    Returns\n",
    "    -------\n",
    "    A matplotlib Axes object\n",
    "    '''\n",
    "    # YOUR CODE HERE\n",
    "    return ax"
   ]
  },
  {
   "cell_type": "markdown",
   "metadata": {},
   "source": [
    "Here's an example:\n",
    "\n",
    "![](images/regplot.png)\n",
    "\n",
    "Note that a linear regression model doesn't fit the points that well. The plot suggests that we should probably fit a polynomial rather than a linear model."
   ]
  },
  {
   "cell_type": "code",
   "execution_count": null,
   "metadata": {
    "collapsed": false,
    "deletable": false,
    "nbgrader": {
     "checksum": "571fb5be109c01805f6ef0b585f6a4f6",
     "grade": false,
     "grade_id": "plot_seaborn_reg_run",
     "locked": true,
     "solution": false
    },
    "scrolled": true
   },
   "outputs": [],
   "source": [
    "ax1 = plot_seaborn_reg(hourly)"
   ]
  },
  {
   "cell_type": "markdown",
   "metadata": {},
   "source": [
    "Instructor grades are determined by unit tests like the ones in the following cells."
   ]
  },
  {
   "cell_type": "code",
   "execution_count": null,
   "metadata": {
    "collapsed": false,
    "deletable": false,
    "nbgrader": {
     "checksum": "d382cd626426800fd28a28872cf2da33",
     "grade": true,
     "grade_id": "plot_seaborn_reg_test",
     "locked": true,
     "points": 5,
     "solution": false
    }
   },
   "outputs": [],
   "source": [
    "assert_equal(isinstance(ax1, mpl.axes.Axes), True, msg=\"Your function should return a matplotlib.axes.Axes object.\")\n",
    "\n",
    "assert_equal(len(ax1.lines), 1)\n",
    "assert_equal(len(ax1.collections), 2, msg=\"Your plot doesn't have a regression line.\")\n",
    "\n",
    "assert_is_not(len(ax1.title.get_text()), 0, msg=\"Your plot doesn't have a title.\")\n",
    "assert_is_not(ax1.xaxis.get_label_text(), \"CRSDepTime\", msg=\"Change the x-axis label to something more descriptive.\")\n",
    "assert_is_not(ax1.yaxis.get_label_text(), \"DepDelay\", msg=\"Change the y-axis label to something more descriptive.\")\n",
    "    \n",
    "x_axis, y_axis = ax1.collections[0].get_offsets().T\n",
    "assert_array_equal(x_axis, hourly[\"CRSDepTime\"])\n",
    "assert_array_equal(y_axis, hourly[\"DepDelay\"])"
   ]
  },
  {
   "cell_type": "markdown",
   "metadata": {},
   "source": [
    "## Fit a polynomial\n",
    "\n",
    "Use [sklearn.Lasso](http://scikit-learn.org/stable/modules/generated/sklearn.linear_model.Lasso.html) to write a function named `fit_reg_poly()` that fits a lasso regression model. Note that the function should return an `sklearn.Pipeline` object, which means you should use [sklearn.pipeline.Pipeline](http://scikit-learn.org/stable/modules/generated/sklearn.pipeline.Pipeline.html). It should also return the model predictions, so the returned value of this function should a tuple of `(model, predcition)` where `model` is an `sklearn.Pipeline` object and `prediction` is a `numpy.ndarray`."
   ]
  },
  {
   "cell_type": "code",
   "execution_count": null,
   "metadata": {
    "collapsed": false,
    "deletable": false,
    "nbgrader": {
     "checksum": "677955fd4188f0bd79433385d5bc3202",
     "grade": false,
     "grade_id": "fit_reg_poly_answer",
     "locked": false,
     "solution": true
    }
   },
   "outputs": [],
   "source": [
    "def fit_reg_poly(df, degree, alpha=1.0,  max_iter=1e20):\n",
    "    '''\n",
    "    Fits a ridge regression model on \"CRSDepTime\" to predict \"DepDelay\".\n",
    "    \n",
    "    Parameters\n",
    "    ----------\n",
    "    df: A pandas.DataFrame. Must have columns \"CRSDepTime\" and \"DepDelay\"\n",
    "    \n",
    "    Returns\n",
    "    -------\n",
    "    A tuple of (sklearn.Pipeline object, numpy.ndarray)\n",
    "    '''\n",
    "    # YOUR CODE HERE\n",
    "    return model, prediction\n",
    "    "
   ]
  },
  {
   "cell_type": "code",
   "execution_count": null,
   "metadata": {
    "collapsed": false,
    "deletable": false,
    "nbgrader": {
     "checksum": "59a128701f11c02fa565f259178cdd0c",
     "grade": true,
     "grade_id": "fit_reg_poly_test",
     "locked": true,
     "points": 5,
     "solution": false
    }
   },
   "outputs": [],
   "source": [
    "est1, pred1 = fit_reg_poly(hourly, 1, alpha=0.1)\n",
    "est1_params = est1.get_params()\n",
    "answer1 = np.array([[  3.12076375],\n",
    "       [  3.68635785],\n",
    "       [  4.64951082],\n",
    "       [  5.68417463],\n",
    "       [  6.76689997],\n",
    "       [  7.6952423 ],\n",
    "       [  8.90089767],\n",
    "       [  9.89243099],\n",
    "       [ 10.87794885],\n",
    "       [ 12.07741784],\n",
    "       [ 12.96280146],\n",
    "       [ 14.21779423],\n",
    "       [ 15.17102325],\n",
    "       [ 16.21128956],\n",
    "       [ 17.27068441],\n",
    "       [ 18.36376465],\n",
    "       [ 19.32466493],\n",
    "       [ 20.15810461]])\n",
    "assert_equal(est1_params['polynomialfeatures__degree'], 1)\n",
    "assert_equal(est1_params['lasso__alpha'], 0.1)\n",
    "assert_array_almost_equal(pred1, answer1)\n",
    "\n",
    "est2, pred2 = fit_reg_poly(hourly, 2, alpha=1)\n",
    "est2_params = est2.get_params()\n",
    "answer2 = np.array([[  0.9892996 ],\n",
    "       [  2.02149715],\n",
    "       [  3.70465785],\n",
    "       [  5.40809664],\n",
    "       [  7.07455156],\n",
    "       [  8.40883505],\n",
    "       [ 10.01138571],\n",
    "       [ 11.21898759],\n",
    "       [ 12.32058151],\n",
    "       [ 13.52858917],\n",
    "       [ 14.3267865 ],\n",
    "       [ 15.32215064],\n",
    "       [ 15.97156988],\n",
    "       [ 16.57525611],\n",
    "       [ 17.07738524],\n",
    "       [ 17.47631674],\n",
    "       [ 17.72704719],\n",
    "       [ 17.86877765]])\n",
    "assert_equal(est2_params['polynomialfeatures__degree'], 2)\n",
    "assert_equal(est2_params['lasso__alpha'], 1)\n",
    "assert_array_almost_equal(pred2, answer2)"
   ]
  },
  {
   "cell_type": "markdown",
   "metadata": {},
   "source": [
    "## Find the best fit model\n",
    "\n",
    "Write a function named `find_mse()` that returns the mean squared error of ridge regresion model, given the degree. Assume that alpha is always 1.0."
   ]
  },
  {
   "cell_type": "code",
   "execution_count": null,
   "metadata": {
    "collapsed": false,
    "deletable": false,
    "nbgrader": {
     "checksum": "f9fc67b9b9045b1dde4d085ea6550b74",
     "grade": false,
     "grade_id": "find_best_degree_answer",
     "locked": false,
     "solution": true
    }
   },
   "outputs": [],
   "source": [
    "def find_mse(df, degree):\n",
    "    '''\n",
    "    Computes mean squared error of a Ridge Regression model on \"df\".\n",
    "    Uses the \"fit_reg_poly()\" function.\n",
    "    \n",
    "    Parameters\n",
    "    ----------\n",
    "    df: A pandas.DataFrame. Must have columns \"CRSDepTime\" and \"DepDelay\"\n",
    "\n",
    "    Returns\n",
    "    -------\n",
    "    A float.\n",
    "    '''\n",
    "    # YOUR CODE HERE\n",
    "    return result"
   ]
  },
  {
   "cell_type": "markdown",
   "metadata": {},
   "source": [
    "We will use this function to find the degree of polynomial that best fits our data."
   ]
  },
  {
   "cell_type": "code",
   "execution_count": null,
   "metadata": {
    "collapsed": false,
    "deletable": false,
    "nbgrader": {
     "checksum": "cbf045f0c13e9fb8a2825483475b27b0",
     "grade": false,
     "grade_id": "find_best_degree_run",
     "locked": true,
     "points": 5,
     "solution": false
    }
   },
   "outputs": [],
   "source": [
    "degrees = list()\n",
    "for i in range(1, 15):\n",
    "    degrees.append(find_mse(hourly, i))\n",
    "\n",
    "best_degree = np.argmin(degrees) + 1 # because degree = 1 corresponds to arg = 0\n",
    "print('The best model is a polynomial of degree {}.'.format(best_degree))"
   ]
  },
  {
   "cell_type": "markdown",
   "metadata": {},
   "source": [
    "Let's run some tests to see if `find_best_degree()` works."
   ]
  },
  {
   "cell_type": "code",
   "execution_count": null,
   "metadata": {
    "collapsed": false
   },
   "outputs": [],
   "source": [
    "find_mse(hourly, 5)"
   ]
  },
  {
   "cell_type": "code",
   "execution_count": null,
   "metadata": {
    "collapsed": false,
    "deletable": false,
    "nbgrader": {
     "checksum": "5219bf9fd25389a1d4dced6b41e8fa4e",
     "grade": true,
     "grade_id": "find_best_degree_test",
     "locked": true,
     "points": 5,
     "solution": false
    }
   },
   "outputs": [],
   "source": [
    "assert_almost_equal(find_mse(hourly, 1), 4.18137098)\n",
    "assert_almost_equal(find_mse(hourly, 2), 2.56271490)\n",
    "assert_almost_equal(find_mse(hourly, 3), 2.05451124)\n",
    "assert_almost_equal(find_mse(hourly, 4), 1.54515768)\n",
    "assert_almost_equal(find_mse(hourly, 5), 1.30647284)"
   ]
  },
  {
   "cell_type": "markdown",
   "metadata": {},
   "source": [
    "## Plot the lasso regression model\n",
    "\n",
    "Finally, plot the model we learned with `fit_reg_poly()`. Your plot should have both the scatter plot of `DepDelay` vs. `CRSDepTime` and the line that shows the ridge regression model.\n",
    "\n",
    "Note that the `plot_reg_poly()` returns a `matplotlib.Axes` object."
   ]
  },
  {
   "cell_type": "code",
   "execution_count": null,
   "metadata": {
    "collapsed": true,
    "deletable": false,
    "nbgrader": {
     "checksum": "bcb7f9ce337a50bf75840611e9aabd38",
     "grade": false,
     "grade_id": "plot_reg_poly_answer",
     "locked": false,
     "points": 10,
     "solution": true
    }
   },
   "outputs": [],
   "source": [
    "def plot_reg_ploy(df, degree):\n",
    "    '''\n",
    "    Plots the follwoing:\n",
    "    1. A scatter plot of the \"CRSDepTime\" column of \"df\" on the x-axis\n",
    "       and the \"DepDelay\" column of \"df\" on the y-axis,\n",
    "    2. A line that represents a polynomial of degree \"degree\".\n",
    "              \n",
    "    Parameters\n",
    "    ----------\n",
    "    df: A pandas.DataFrame\n",
    "    \n",
    "    Returns\n",
    "    -------\n",
    "    A matplotlib.Axes object\n",
    "    '''\n",
    "    # YOUR CODE HERE\n",
    "    return ax"
   ]
  },
  {
   "cell_type": "markdown",
   "metadata": {},
   "source": [
    "Here's an example:\n",
    "\n",
    "![](images/polyfit.png)\n",
    "\n",
    "The regularized polynomial fits the data very well, but note that we have applied our model to the same data set that we used to learn our model. We did this to simplify the problem and focus on learning the procedure, but by using the same training data to evaulate the performance of our model, it is very likely that we are overfitting. A more robust approach would be to split the data set into a training set and a test set (or training-validation-test sets), use the training set to learn a model, use the validation set to find the degree of best-fit polynomial, and evaulate the model's performance on the test set."
   ]
  },
  {
   "cell_type": "code",
   "execution_count": null,
   "metadata": {
    "collapsed": false,
    "deletable": false,
    "nbgrader": {
     "checksum": "a9c7c8572b6d2e220d580a3f38087db7",
     "grade": false,
     "grade_id": "plot_reg_poly_run",
     "locked": true,
     "solution": false
    }
   },
   "outputs": [],
   "source": [
    "ax2 = plot_reg_ploy(hourly, best_degree)"
   ]
  },
  {
   "cell_type": "code",
   "execution_count": null,
   "metadata": {
    "collapsed": false,
    "deletable": false,
    "nbgrader": {
     "checksum": "251f0faad481751b05afa126bc33d14f",
     "grade": true,
     "grade_id": "plot_reg_poly_test",
     "locked": true,
     "points": 5,
     "solution": false
    }
   },
   "outputs": [],
   "source": [
    "assert_equal(isinstance(ax2, mpl.axes.Axes), True, msg=\"Your function should return a matplotlib.axes.Axes object.\")\n",
    "\n",
    "assert_equal(len(ax2.lines), 1)\n",
    "assert_equal(len(ax2.collections), 1, msg=\"You should turn off Seaborn regression.\")\n",
    "\n",
    "assert_is_not(len(ax2.title.get_text()), 0, msg=\"Your plot doesn't have a title.\")\n",
    "assert_is_not(ax2.xaxis.get_label_text(), \"AirTime\", msg=\"Change the x-axis label to something more descriptive.\")\n",
    "assert_is_not(ax2.yaxis.get_label_text(), \"Distance\", msg=\"Change the y-axis label to something more descriptive.\")\n",
    "    \n",
    "x_scatter, y_scatter = ax2.collections[0].get_offsets().T\n",
    "assert_array_equal(x_scatter, hourly[\"CRSDepTime\"])\n",
    "assert_array_equal(y_scatter, hourly[\"DepDelay\"])\n",
    "\n",
    "line = ax2.get_lines()[0]\n",
    "x_line = line.get_xdata()\n",
    "y_line = line.get_ydata()\n",
    "assert_array_equal(x_line, hourly[\"CRSDepTime\"])\n",
    "assert_array_almost_equal(y_line[:, np.newaxis], fit_reg_poly(hourly, 14)[1])"
   ]
  }
 ],
 "metadata": {
  "kernelspec": {
   "display_name": "Python 3",
   "language": "python",
   "name": "python3"
  },
  "language_info": {
   "codemirror_mode": {
    "name": "ipython",
    "version": 3
   },
   "file_extension": ".py",
   "mimetype": "text/x-python",
   "name": "python",
   "nbconvert_exporter": "python",
   "pygments_lexer": "ipython3",
   "version": "3.5.2"
  }
 },
 "nbformat": 4,
 "nbformat_minor": 0
}
