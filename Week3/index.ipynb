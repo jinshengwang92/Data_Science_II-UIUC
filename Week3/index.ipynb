{
 "cells": [
  {
   "cell_type": "markdown",
   "metadata": {},
   "source": [
    "\n",
    "<DIV ALIGN=CENTER>\n",
    "\n",
    "# Advanced Data Science\n",
    "## University of Illinois\n",
    "### Professor: Robert J. Brunner  \n",
    "### Spring 2016\n",
    "\n",
    "</DIV> \n",
    "-----\n",
    "-----"
   ]
  },
  {
   "cell_type": "markdown",
   "metadata": {},
   "source": [
    "## Week 3: Introduction to Supervised Learning\n",
    "\n",
    "### Lecture 1: [k-Nearest Neighbor][l1]\n",
    "\n",
    "Explore the k-nearest neighbor algorithm in this Notebook.\n",
    "\n",
    "### Lecture 2: [Support Vector Machine][l2]\n",
    "\n",
    "Experiment with the support vector machine algorithm in this Notebook.\n",
    "\n",
    "### Lecture 3: [Naive Bayes][l3]\n",
    "\n",
    "Learn about the Naive Bayes algorithm in this Notebook.\n",
    "\n",
    "-----\n",
    "\n",
    "[l1]: ../notebooks/intro2knn.ipynb\n",
    "[l2]: ../notebooks/intro2svm.ipynb\n",
    "[l3]: ../notebooks/intro2nb.ipynb"
   ]
  },
  {
   "cell_type": "code",
   "execution_count": 2,
   "metadata": {
    "collapsed": false
   },
   "outputs": [
    {
     "data": {
      "text/markdown": [
       "# Week 3 Overview #\n",
       "\n",
       "## Introduction to Supervised Learning ##\n",
       "\n",
       "In this week, you will learn about several basic supervised learning algorithms, including the k-nearest neighbor algorithm, support vector machine, and naive Bayes. Each of these algorithms have Python implementations in the scikit learn library and are easy to apply to a wide range of classification or regression problems. In addition, you will learn about classification and regression metrics, such as the precision, recall, and f1 score, and how to use them effectively to compare the results of different machine learning algorithms.\n",
       "\n",
       "### Objectives ###\n",
       "\n",
       "##### By the end of this lesson, you should be able to:######\n",
       "\n",
       "- Know the basic classification and regression metrics.\n",
       "- Understand the k-nearest neighbor algorithm\n",
       "- Understand the support vector machine algorithm\n",
       "- Understand the naive Bayes algorithm\n",
       "\n",
       "### Activities and Assignments ###\n",
       "\n",
       "| Activities and Assignments               | Time Estimate | Deadline*                |                   Points |\n",
       "| :--------------------------------------- | ------------- | ------------------------ | -----------------------: |\n",
       "| **[Week 3 Introduction Video][wv]**      | 10 Minutes    | Tuesday                  |                      N/A |\n",
       "| **[Week 3 Lesson 1: Supervised Learning: k-Nearest Neighbor](lesson1.md)** | 2 Hours       | Thursday                 |                       20 |\n",
       "| **[Week 3 Lesson 2: Supervised Learning: Support Vector Machine](lesson2.md)** | 2 Hours       | Thursday                 |                       20 |\n",
       "| **[Week 3 Lesson 3: Supervised Learning: Naive Bayes](lesson3.md)** | 2 Hours       | Thursday                 |                       20 |\n",
       "| **[Week 3 Quiz][wq]**                    | 45 Minutes    | Friday                   |                       70 |\n",
       "| **Week 3 Assignment Submission**         | 4 Hours       | *The following* Monday   | 125 Instructor, 10 Peers |\n",
       "| **Week 3 Completion of Peer Review**     | 2 Hours       | *The following* Saturday |                       15 |\n",
       "\n",
       "*Please note that unless otherwise noted, the due time is 6pm Central time!*\n",
       "\n",
       "----------\n",
       "[wv]: https://mediaspace.illinois.edu/\n",
       "[wq]: https://learn.illinois.edu/mod/quiz/view.php?id=1844334\n"
      ],
      "text/plain": [
       "<IPython.core.display.Markdown object>"
      ]
     },
     "execution_count": 2,
     "metadata": {},
     "output_type": "execute_result"
    }
   ],
   "source": [
    "from IPython.display import Markdown\n",
    "\n",
    "Markdown(filename='README.md')"
   ]
  }
 ],
 "metadata": {
  "kernelspec": {
   "display_name": "Python 3",
   "language": "python",
   "name": "python3"
  },
  "language_info": {
   "codemirror_mode": {
    "name": "ipython",
    "version": 3
   },
   "file_extension": ".py",
   "mimetype": "text/x-python",
   "name": "python",
   "nbconvert_exporter": "python",
   "pygments_lexer": "ipython3",
   "version": "3.5.2"
  }
 },
 "nbformat": 4,
 "nbformat_minor": 0
}
