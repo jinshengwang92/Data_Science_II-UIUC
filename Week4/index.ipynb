{
 "cells": [
  {
   "cell_type": "markdown",
   "metadata": {},
   "source": [
    "\n",
    "<DIV ALIGN=CENTER>\n",
    "\n",
    "# Advanced Data Science\n",
    "## University of Illinois\n",
    "### Professor: Robert J. Brunner  \n",
    "### Spring 2016\n",
    "\n",
    "</DIV>  \n",
    "-----\n",
    "-----"
   ]
  },
  {
   "cell_type": "markdown",
   "metadata": {},
   "source": [
    "## Week 4: Advanced Supervised Learning\n",
    "\n",
    "### Lecture 1: [Decision Trees][l1]\n",
    "\n",
    "Explore the decision tree algorithm in this Notebook.\n",
    "\n",
    "### Lecture 2: [Random Forest][l2]\n",
    "\n",
    "Experiment with the ensemble bagging technique by using random forests in\n",
    "this Notebook.\n",
    "\n",
    "### Lecture 3: [Gradient Boosted Trees][l3]\n",
    "\n",
    "Experiment with the ensemble boosting technique by using gradient boosted\n",
    "trees in this Notebook.\n",
    "\n",
    "-----\n",
    "\n",
    "[l1]: ../notebooks/intro2dt.ipynb\n",
    "[l2]: ../notebooks/intro2rf.ipynb\n",
    "[l3]: ../notebooks/intro2gbt.ipynb"
   ]
  },
  {
   "cell_type": "code",
   "execution_count": 1,
   "metadata": {
    "collapsed": false
   },
   "outputs": [
    {
     "data": {
      "text/markdown": [
       "# Week 4 Overview #\n",
       "\n",
       "## Tree Algorithms and Ensemble Techniques ##\n",
       "\n",
       "This week, you will learn about decision trees and ensemble techniques\n",
       "that often built on tree algorithms to produce more robust machine\n",
       "learning predictions. The two main ensemble approaches we will cover are\n",
       "bagging and boosting, which differ in how weak learners are created and\n",
       "combined. The random forest algorithm is an example of a bagging\n",
       "algorithm, which is extremely popular due to its flexibility and ease of\n",
       "use. Likewise, the gradient boosted tree algorithm (or the similar\n",
       "Adaboost algorithm) is an example of a popular boosting ensemble\n",
       "technique. This week, you will learn how to create decision trees, and\n",
       "how to leverage them to build bagging and boosted ensemble learners.\n",
       "\n",
       "### Objectives ###\n",
       "\n",
       "##### By the end of this lesson, you should be able to: ######\n",
       "\n",
       "- Understand the decision tree algorithm\n",
       "- Understand the basic concept behind ensemble techniques\n",
       "- Know the difference between bagging and boosting.\n",
       "- Understand the random forest algorithm\n",
       "- Understand the gradient boosted tree algorithm\n",
       "\n",
       "### Activities and Assignments ###\n",
       "\n",
       "| Activities and Assignments               | Time Estimate | Deadline*                |                   Points |\n",
       "| :--------------------------------------- | ------------- | ------------------------ | -----------------------: |\n",
       "| **[Week 4 Introduction Video][wv]**      | 10 Minutes    | Tuesday                  |                      N/A |\n",
       "| **[Week 4 Lesson 1: Introduction to Decision Trees](lesson1.md)** | 2 Hours       | Thursday                 |                       20 |\n",
       "| **[Week 4 Lesson 2: Ensemble Techniques: Bagging](lesson2.md)** | 2 Hours       | Thursday                 |                       20 |\n",
       "| **[Week 4 Lesson 3: Ensemble Techniques: Boosting](lesson3.md)** | 2 Hours       | Thursday                 |                       20 |\n",
       "| **[Week 4 Quiz][wq]**                    | 45 Minutes    | Friday                   |                       70 |\n",
       "| **Week 4 Assignment Submission**         | 4 Hours       | *The following* Monday   | 125 Instructor, 10 Peers |\n",
       "| **Week 4 Completion of Peer Review**     | 2 Hours       | *The following* Saturday |                       15 |\n",
       "\n",
       "*Please note that unless otherwise noted, the due time is 6pm Central time!*\n",
       "\n",
       "----------\n",
       "[wv]: https://mediaspace.illinois.edu/\n",
       "[wq]: https://learn.illinois.edu/"
      ],
      "text/plain": [
       "<IPython.core.display.Markdown object>"
      ]
     },
     "execution_count": 1,
     "metadata": {},
     "output_type": "execute_result"
    }
   ],
   "source": [
    "from IPython.display import Markdown\n",
    "\n",
    "Markdown(filename='README.md')"
   ]
  }
 ],
 "metadata": {
  "kernelspec": {
   "display_name": "Python 3",
   "language": "python",
   "name": "python3"
  },
  "language_info": {
   "codemirror_mode": {
    "name": "ipython",
    "version": 3
   },
   "file_extension": ".py",
   "mimetype": "text/x-python",
   "name": "python",
   "nbconvert_exporter": "python",
   "pygments_lexer": "ipython3",
   "version": "3.5.2"
  }
 },
 "nbformat": 4,
 "nbformat_minor": 0
}
