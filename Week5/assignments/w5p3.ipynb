{
 "cells": [
  {
   "cell_type": "markdown",
   "metadata": {},
   "source": [
    "# Week 5 Problem 3\n",
    "\n",
    "If you are not using the `Assignments` tab on the course JupyterHub server to read this notebook, read [Activating the assignments tab](https://github.com/lcdm-uiuc/info490-sp17/blob/master/help/act_assign_tab.md).\n",
    "\n",
    "A few things you should keep in mind when working on assignments:\n",
    "\n",
    "1. Make sure you fill in any place that says `YOUR CODE HERE`. Do **not** write your answer in anywhere else other than where it says `YOUR CODE HERE`. Anything you write anywhere else will be removed or overwritten by the autograder.\n",
    "\n",
    "2. Before you submit your assignment, make sure everything runs as expected. Go to menubar, select _Kernel_, and restart the kernel and run all cells (_Restart & Run all_).\n",
    "\n",
    "3. Do not change the title (i.e. file name) of this notebook.\n",
    "\n",
    "4. Make sure that you save your work (in the menubar, select _File_  → _Save and CheckPoint_)\n",
    "\n",
    "5. You are allowed to submit an assignment multiple times, but only the most recent submission will be graded."
   ]
  },
  {
   "cell_type": "markdown",
   "metadata": {},
   "source": [
    "# Problem 5.3. Density Estimation.\n",
    "\n",
    "In this problem, we will first plot rug plots and histograms of travel time in the flights data. We then use Seaborn, Scipy, and Scikit-learn to calculate and plot Kernel Density Estimation (KDE)."
   ]
  },
  {
   "cell_type": "code",
   "execution_count": null,
   "metadata": {
    "collapsed": false,
    "deletable": false,
    "nbgrader": {
     "checksum": "865a61dea494cb5469cfc6bcd496a055",
     "grade": false,
     "grade_id": "import",
     "locked": true,
     "solution": false
    }
   },
   "outputs": [],
   "source": [
    "%matplotlib inline\n",
    "import numpy as np\n",
    "import pandas as pd\n",
    "import matplotlib as mpl\n",
    "import matplotlib.pyplot as plt\n",
    "import seaborn as sns\n",
    "sns.set(style=\"white\")\n",
    "from scipy import stats, integrate\n",
    "from sklearn.neighbors import KernelDensity\n",
    "\n",
    "from nose.tools import assert_equal, assert_is_instance, assert_is_not\n",
    "from numpy.testing import assert_array_equal, assert_array_almost_equal, assert_almost_equal\n",
    "from pandas.util.testing import assert_frame_equal"
   ]
  },
  {
   "cell_type": "markdown",
   "metadata": {},
   "source": [
    "We use the `AirTime` column at the Willard airport."
   ]
  },
  {
   "cell_type": "code",
   "execution_count": null,
   "metadata": {
    "collapsed": false,
    "deletable": false,
    "nbgrader": {
     "checksum": "7685b7384cc8984009ef7d1771ec5432",
     "grade": false,
     "grade_id": "read_csv",
     "locked": true,
     "solution": false
    }
   },
   "outputs": [],
   "source": [
    "df = pd.read_csv(\n",
    "    '/home/data_scientist/data/2001.csv',\n",
    "    encoding='latin-1',\n",
    "    usecols=(13, 16)\n",
    "    )"
   ]
  },
  {
   "cell_type": "code",
   "execution_count": null,
   "metadata": {
    "collapsed": false,
    "deletable": false,
    "nbgrader": {
     "checksum": "723d3a9e5bb7cf2e883e12b8b15daad2",
     "grade": false,
     "grade_id": "local",
     "locked": true,
     "solution": false
    }
   },
   "outputs": [],
   "source": [
    "local = df[df['Origin'] == 'CMI']\n",
    "local = local.drop(['Origin'], axis=1) # we don't need the Origin column anymore.\n",
    "local.dropna(inplace=True)"
   ]
  },
  {
   "cell_type": "markdown",
   "metadata": {},
   "source": [
    "## Rug plots\n",
    "\n",
    "- Plot rug plots. See lesson the notebook, docstring, test cases, and sample plots for details.\n",
    "\n",
    "![](./images/rug_no_jitter.png)\n",
    "\n",
    "![](./images/rug_jittered.png)"
   ]
  },
  {
   "cell_type": "code",
   "execution_count": null,
   "metadata": {
    "collapsed": false,
    "deletable": false,
    "nbgrader": {
     "checksum": "fdfa42990d264ad0819691c0cc5855ae",
     "grade": false,
     "grade_id": "plot_rugplot_answer",
     "locked": false,
     "solution": true
    }
   },
   "outputs": [],
   "source": [
    "def plot_rugplot(df, column='AirTime', jitter=0.0, seed=0):\n",
    "    '''\n",
    "    Plots a rug plot.\n",
    "    \n",
    "    Parameters\n",
    "    ----------\n",
    "    df: A pandas.DataFrame\n",
    "    column: The column to use in \"df\"\n",
    "    jitter: An int or float. Default: 0.\n",
    "            If jitter > 0, uses numpy.random.normal() to draw\n",
    "            random samples from a normal distribution with zero mean\n",
    "            and standard deviatation equal to \"jitter\".\n",
    "    seed: An int. Used by numpy.random.seed().\n",
    "    \n",
    "    Returns\n",
    "    -------\n",
    "    A matplotlib.axes.Axes\n",
    "    '''\n",
    "    \n",
    "    # YOUR CODE HERE\n",
    "    \n",
    "    return ax"
   ]
  },
  {
   "cell_type": "markdown",
   "metadata": {},
   "source": [
    "A rug plot with no jitter."
   ]
  },
  {
   "cell_type": "code",
   "execution_count": null,
   "metadata": {
    "collapsed": false,
    "deletable": false,
    "nbgrader": {
     "checksum": "1e24c12311296fb2198912de7ea65d8d",
     "grade": false,
     "grade_id": "plot_rugplot_run1",
     "locked": true,
     "solution": false
    }
   },
   "outputs": [],
   "source": [
    "rug_no_jitter = plot_rugplot(df=local, jitter=0, seed=0)"
   ]
  },
  {
   "cell_type": "code",
   "execution_count": null,
   "metadata": {
    "collapsed": false,
    "deletable": false,
    "nbgrader": {
     "checksum": "89f80b42eca88970fb23cf1472e5b4c6",
     "grade": true,
     "grade_id": "plot_rugplot_test1",
     "locked": true,
     "points": 5,
     "solution": false
    }
   },
   "outputs": [],
   "source": [
    "assert_is_instance(rug_no_jitter, mpl.axes.Axes)\n",
    "assert_equal(len(rug_no_jitter.lines), len(local))\n",
    "\n",
    "for i in range(len(local)):\n",
    "    xdata, ydata = rug_no_jitter.lines[i].get_xydata().T\n",
    "    assert_array_equal(xdata, local.iloc[i, 0])\n",
    "    assert_equal(ydata[1] - ydata[0] > 0, True)\n",
    "    \n",
    "assert_is_not(rug_no_jitter.xaxis.get_label_text(), '',\n",
    "    msg=\"Change the x-axis label to something more descriptive.\")"
   ]
  },
  {
   "cell_type": "markdown",
   "metadata": {},
   "source": [
    "A rug plot with random jitter. Adding jitter improves visualization."
   ]
  },
  {
   "cell_type": "code",
   "execution_count": null,
   "metadata": {
    "collapsed": false,
    "deletable": false,
    "nbgrader": {
     "checksum": "45264171e79f4276defc4756bd138d38",
     "grade": false,
     "grade_id": "plot_rugplot_run2",
     "locked": true,
     "solution": false
    }
   },
   "outputs": [],
   "source": [
    "rug_jittered = plot_rugplot(df=local, jitter=0.1, seed=0)"
   ]
  },
  {
   "cell_type": "code",
   "execution_count": null,
   "metadata": {
    "collapsed": false,
    "deletable": false,
    "nbgrader": {
     "checksum": "3edc7ad27449a4e4ed85c379507b3d50",
     "grade": true,
     "grade_id": "plot_rungplot_test2",
     "locked": true,
     "points": 5,
     "solution": false
    }
   },
   "outputs": [],
   "source": [
    "assert_equal(len(rug_jittered.lines), len(local))\n",
    "\n",
    "np.random.seed(0)\n",
    "for i in range(len(local)):\n",
    "    xdata, ydata = rug_jittered.lines[i].get_xydata().T\n",
    "    assert_equal(xdata[0], xdata[1])\n",
    "    assert_almost_equal(xdata[0], local.iloc[i, 0] + np.random.normal(0, 0.1)) # jitter is 0.1\n",
    "    assert_equal(ydata[1] - ydata[0] > 0, True)\n",
    "    \n",
    "assert_is_not(rug_jittered.xaxis.get_label_text(), '',\n",
    "    msg=\"Change the x-axis label to something more descriptive.\")"
   ]
  },
  {
   "cell_type": "markdown",
   "metadata": {},
   "source": [
    "## Histograms\n",
    "\n",
    "- Plot histograms. See the lesson notebook, docstring, test cases, and sample plots for details.\n",
    "\n",
    "![](./images/hist_10_bins.png)\n",
    "\n",
    "![](./images/hist_50_bins.png)"
   ]
  },
  {
   "cell_type": "code",
   "execution_count": null,
   "metadata": {
    "collapsed": false,
    "deletable": false,
    "nbgrader": {
     "checksum": "f9d8ed2b4efe56092e59de21af731302",
     "grade": false,
     "grade_id": "plot_histogram_answer",
     "locked": false,
     "solution": true
    }
   },
   "outputs": [],
   "source": [
    "def plot_histogram(df, bins, column='AirTime', normed=False):\n",
    "    '''\n",
    "    Plots a histogram.\n",
    "    \n",
    "    Parameters\n",
    "    ----------\n",
    "    df: A pandas.DataFrame\n",
    "    column: The column to use in \"df\"\n",
    "    normed: If true, the integral of the histogram will sum to 1\n",
    "            (i.e. normalized) to form a probability density.\n",
    "    \n",
    "    Returns\n",
    "    -------\n",
    "    A matplotlib.axes.Axes\n",
    "    '''\n",
    "    \n",
    "    # YOUR CODE HERE\n",
    "\n",
    "    return ax"
   ]
  },
  {
   "cell_type": "markdown",
   "metadata": {},
   "source": [
    "A histogram with 10 bins."
   ]
  },
  {
   "cell_type": "code",
   "execution_count": null,
   "metadata": {
    "collapsed": false,
    "deletable": false,
    "nbgrader": {
     "checksum": "59089d5267cfece3e4e96e55200d583d",
     "grade": false,
     "grade_id": "plot_histogram_run1",
     "locked": true,
     "solution": false
    }
   },
   "outputs": [],
   "source": [
    "hist_10_bins = plot_histogram(df=local, bins=10)"
   ]
  },
  {
   "cell_type": "code",
   "execution_count": null,
   "metadata": {
    "collapsed": false,
    "deletable": false,
    "nbgrader": {
     "checksum": "e1487740fcdede6292588b5eedbd4f1e",
     "grade": true,
     "grade_id": "plot_histogram_test1",
     "locked": true,
     "points": 3,
     "solution": false
    }
   },
   "outputs": [],
   "source": [
    "assert_is_instance(hist_10_bins, mpl.axes.Axes)\n",
    "patches = hist_10_bins.patches\n",
    "assert_equal(len(patches), 10)\n",
    "\n",
    "bins_a = [25.,  31.,  37.,  43.,  49.,  55.,  61.,  67.,  73.,  79.,  85.]\n",
    "counts_a = [550, 792, 245,  61,  15,   7,   4,   4,   0,   3]\n",
    "                    \n",
    "for i in range(len(patches)):\n",
    "    assert_equal(patches[i].get_x(), bins_a[i])\n",
    "    assert_equal(patches[i].get_height(), counts_a[i])\n",
    "\n",
    "# check label texts\n",
    "assert_is_not(len(hist_10_bins.title.get_text()), 0,\n",
    "    msg=\"Your plot doesn't have a title.\")\n",
    "assert_is_not(hist_10_bins.xaxis.get_label_text(), '',\n",
    "    msg=\"Change the x-axis label to something more descriptive.\")\n",
    "assert_is_not(hist_10_bins.yaxis.get_label_text(), '',\n",
    "    msg=\"Change the x-axis label to something more descriptive.\")"
   ]
  },
  {
   "cell_type": "markdown",
   "metadata": {},
   "source": [
    "A histogram with 50 bins. We see that changing the number of bins can have a significant effect on the shape of a histogram. As we will see shortly, KDE is less affected by the choice of bins and thus a better alternative."
   ]
  },
  {
   "cell_type": "code",
   "execution_count": null,
   "metadata": {
    "collapsed": false,
    "deletable": false,
    "nbgrader": {
     "checksum": "c562572471905ce63ea958a06aafcb23",
     "grade": false,
     "grade_id": "plot_histogram_run2",
     "locked": true,
     "solution": false
    }
   },
   "outputs": [],
   "source": [
    "hist_50_bins = plot_histogram(df=local, bins=50)"
   ]
  },
  {
   "cell_type": "code",
   "execution_count": null,
   "metadata": {
    "collapsed": false,
    "deletable": false,
    "nbgrader": {
     "checksum": "ac24562361cd7e8cfee32172c7d874f8",
     "grade": true,
     "grade_id": "plot_histogram_test2",
     "locked": true,
     "points": 2,
     "solution": false
    }
   },
   "outputs": [],
   "source": [
    "assert_is_instance(hist_50_bins, mpl.axes.Axes)\n",
    "patches = hist_50_bins.patches\n",
    "assert_equal(len(patches), 50)"
   ]
  },
  {
   "cell_type": "markdown",
   "metadata": {},
   "source": [
    "## distplot\n",
    "\n",
    "- Use [seaborn.distplot](https://stanford.edu/~mwaskom/software/seaborn/generated/seaborn.distplot.html) to plot a histogram, a KDE, and a rug plot, all in the same figure. See lesson notebook, docstring, test cases, and sample plot for details.\n",
    "\n",
    "![](./images/dist_10_bins.png)\n",
    "\n",
    "![](./images/dist_50_bins.png)"
   ]
  },
  {
   "cell_type": "code",
   "execution_count": null,
   "metadata": {
    "collapsed": true,
    "deletable": false,
    "nbgrader": {
     "checksum": "b9de60e2cc38a15338e6c2013e95b670",
     "grade": false,
     "grade_id": "plot_distplot_answer",
     "locked": false,
     "solution": true
    }
   },
   "outputs": [],
   "source": [
    "def plot_distplot(df, bins, column='AirTime'):\n",
    "    '''\n",
    "    Plots a \"distplot\".\n",
    "    \n",
    "    Parameters\n",
    "    ----------\n",
    "    df: A pandas.DataFrame\n",
    "    bins: The number of bins\n",
    "    column: The column to use in \"df\"\n",
    "    \n",
    "    Returns\n",
    "    -------\n",
    "    A matplotlib.axes.Axes\n",
    "    '''\n",
    "    \n",
    "    # YOUR CODE HERE\n",
    "    \n",
    "    return ax"
   ]
  },
  {
   "cell_type": "code",
   "execution_count": null,
   "metadata": {
    "collapsed": false,
    "deletable": false,
    "nbgrader": {
     "checksum": "333b6479f4430a11c5cc4c308e477c0c",
     "grade": false,
     "grade_id": "plot_distplot_run1",
     "locked": true,
     "solution": false
    }
   },
   "outputs": [],
   "source": [
    "dist_10_bins = plot_distplot(df=local, bins=10)"
   ]
  },
  {
   "cell_type": "code",
   "execution_count": null,
   "metadata": {
    "collapsed": false,
    "deletable": false,
    "nbgrader": {
     "checksum": "119d09a899e9646fc6fa22768d0f2795",
     "grade": true,
     "grade_id": "plot_distplot_test1",
     "locked": true,
     "points": 3,
     "solution": false
    }
   },
   "outputs": [],
   "source": [
    "assert_is_instance(dist_10_bins, mpl.axes.Axes)\n",
    "\n",
    "# test histogram\n",
    "patches = dist_10_bins.patches\n",
    "assert_equal(len(patches), 10)\n",
    "\n",
    "bins_a = [25.,  31.,  37.,  43.,  49.,  55.,  61.,  67.,  73.,  79.,  85.]\n",
    "freq_a = [0.05453103,  0.07852469,  0.0242911,   0.00604799,  0.00148721,\n",
    "          0.00069403,  0.00039659,  0.00039659,  0.,          0.00029744]\n",
    "\n",
    "for i in range(len(patches)):\n",
    "    assert_equal(patches[i].get_x(), bins_a[i])\n",
    "    assert_almost_equal(patches[i].get_height(), freq_a[i])\n",
    "\n",
    "# test kde + rug plots\n",
    "lines = dist_10_bins.lines\n",
    "assert_equal(len(dist_10_bins.lines), len(local) + 1) # 1 kde + rug plots\n",
    "\n",
    "# test kde\n",
    "kdex, kdey = dist_10_bins.lines[0].get_xydata().T\n",
    "assert_almost_equal(np.trapz(kdey, kdex), 1.0, 4)\n",
    "\n",
    "# test rug plots\n",
    "for i in range(len(local)):\n",
    "    rugx, rugy = dist_10_bins.lines[i + 1].get_xydata().T\n",
    "    assert_array_equal(rugx, local.iloc[i, 0])\n",
    "    assert_equal(rugy[1] - rugy[0] > 0, True)\n",
    "    \n",
    "# check label texts\n",
    "assert_is_not(len(dist_10_bins.title.get_text()), 0,\n",
    "    msg=\"Your plot doesn't have a title.\")\n",
    "assert_is_not(dist_10_bins.yaxis.get_label_text(), '',\n",
    "    msg=\"Change the y-axis label to something more descriptive.\")"
   ]
  },
  {
   "cell_type": "code",
   "execution_count": null,
   "metadata": {
    "collapsed": false,
    "deletable": false,
    "nbgrader": {
     "checksum": "2428fbcae5008aee81b6905129c68ec2",
     "grade": false,
     "grade_id": "plot_distplot_run2",
     "locked": true,
     "solution": false
    }
   },
   "outputs": [],
   "source": [
    "dist_50_bins = plot_distplot(df=local, bins=50)"
   ]
  },
  {
   "cell_type": "code",
   "execution_count": null,
   "metadata": {
    "collapsed": false,
    "deletable": false,
    "nbgrader": {
     "checksum": "09014e2cd267bcefc5ca895bccffafce",
     "grade": true,
     "grade_id": "plot_distplot_test2",
     "locked": true,
     "points": 2,
     "solution": false
    }
   },
   "outputs": [],
   "source": [
    "assert_is_instance(dist_50_bins, mpl.axes.Axes)\n",
    "# test histogram\n",
    "patches = dist_50_bins.patches\n",
    "assert_equal(len(patches), 50)"
   ]
  },
  {
   "cell_type": "markdown",
   "metadata": {},
   "source": [
    "## Silverman's rule of thumb\n",
    "\n",
    "- Write a function named `get_silverman_bandwidth()` that calculates the optimal KDE bandwidth using Silverman's rule of thumb. The formula for the optimal choice of bandwidth $h$ is given by\n",
    "\n",
    "$h = \\left( \\frac{4{\\hat\\sigma}^5}{3n} \\right)^{\\frac{1}{5}} \\approx 1.06 \\hat\\sigma n^{-1/5}$\n",
    "\n",
    "where $\\hat\\sigma$ is the standard deviation of the samples and `n` is the number of samples. Source: [Wikipedia](https://en.wikipedia.org/wiki/Kernel_density_estimation#Practical_estimation_of_the_bandwidth)"
   ]
  },
  {
   "cell_type": "code",
   "execution_count": null,
   "metadata": {
    "collapsed": true,
    "deletable": false,
    "nbgrader": {
     "checksum": "4ac807a15390292ab73940533290a170",
     "grade": false,
     "grade_id": "silverman_answer",
     "locked": false,
     "solution": true
    }
   },
   "outputs": [],
   "source": [
    "def get_silverman_bandwidth(df, column='AirTime'):\n",
    "    '''\n",
    "    Calculates bandwidth for KDE using Silverman's rule of thumb.\n",
    "    \n",
    "    Parameters\n",
    "    ----------\n",
    "    df: A pandas.DataFrame\n",
    "    column: The column to use in \"df\"\n",
    "    \n",
    "    Returns\n",
    "    -------\n",
    "    A float\n",
    "    '''\n",
    "    \n",
    "    # YOUR CODE HERE\n",
    "    \n",
    "    return bw"
   ]
  },
  {
   "cell_type": "code",
   "execution_count": null,
   "metadata": {
    "collapsed": false,
    "deletable": false,
    "nbgrader": {
     "checksum": "8d6189157494ff6f956b615650593be6",
     "grade": true,
     "grade_id": "silverman_test",
     "locked": true,
     "points": 3,
     "solution": false
    }
   },
   "outputs": [],
   "source": [
    "rs = np.random.RandomState(0)\n",
    "bw_t = pd.DataFrame({'AirTime': rs.randn(100)})\n",
    "assert_almost_equal(get_silverman_bandwidth(bw_t), 0.425, 3)\n",
    "\n",
    "rs = np.random.RandomState(0)\n",
    "bw_t = pd.DataFrame({'AirTime': rs.randn(200)})\n",
    "assert_almost_equal(get_silverman_bandwidth(bw_t), 0.375, 3)"
   ]
  },
  {
   "cell_type": "markdown",
   "metadata": {},
   "source": [
    "## Gaussian Kernels\n",
    "\n",
    "- Use `get_silverman_bandwidth()` and [stats.norm().pdf()](http://docs.scipy.org/doc/scipy-0.16.1/reference/generated/scipy.stats.norm.html) to generate Guassian kernels. See lesson notebook, docstring, and test cases for details."
   ]
  },
  {
   "cell_type": "code",
   "execution_count": null,
   "metadata": {
    "collapsed": true,
    "deletable": false,
    "nbgrader": {
     "checksum": "7528430577ca2726f68e6a1972eab268",
     "grade": false,
     "grade_id": "get_kernels_answer",
     "locked": false,
     "solution": true
    }
   },
   "outputs": [],
   "source": [
    "def get_kernels(df, support, column='AirTime'):\n",
    "    '''\n",
    "    Generates Gaussian kernels.\n",
    "    \n",
    "    Parameters\n",
    "    ----------\n",
    "    df: A pandas.DataFrame.\n",
    "    support: Input data points for the probability density function.\n",
    "    column: The column that will be used in \"df\"\n",
    "    \n",
    "    Returns\n",
    "    -------\n",
    "    A 2-d numpy array\n",
    "    '''\n",
    "    \n",
    "    # YOUR CODE HERE\n",
    "    \n",
    "    return kernels"
   ]
  },
  {
   "cell_type": "code",
   "execution_count": null,
   "metadata": {
    "collapsed": false,
    "deletable": false,
    "nbgrader": {
     "checksum": "09b6f3667f83a582a69ba5bd330ce9f8",
     "grade": true,
     "grade_id": "get_kernels_test",
     "locked": true,
     "points": 4,
     "solution": false
    }
   },
   "outputs": [],
   "source": [
    "support_t = np.linspace(0, 1, 5)\n",
    "rs = np.random.RandomState(0)\n",
    "df_t = pd.DataFrame({'AirTime': rs.rand(2)})\n",
    "kernels_t = get_kernels(df=df_t, support=support_t)\n",
    "kernels_a = np.array(\n",
    "    [[4.13769545e-11, 2.66353480e-03, 4.24566728e+00, 1.67579644e-01, 1.63788836e-07],\n",
    "     [7.36686859e-19, 5.51357055e-08, 1.02181124e-01, 4.68917176e+00, 5.32855352e-03]]\n",
    "    )\n",
    "assert_array_almost_equal(kernels_t, kernels_a)"
   ]
  },
  {
   "cell_type": "markdown",
   "metadata": {},
   "source": [
    "## Kernel density estimate\n",
    "\n",
    "- Sum up the Gaussian kernels from `get_kernels()` and normalize by the total area. See lesson notebook, docstring, and test cases for details."
   ]
  },
  {
   "cell_type": "code",
   "execution_count": null,
   "metadata": {
    "collapsed": true,
    "deletable": false,
    "nbgrader": {
     "checksum": "5c067fbc154ee4aec3dd293378f45d6c",
     "grade": false,
     "grade_id": "normalize_kernels_answer",
     "locked": false,
     "solution": true
    }
   },
   "outputs": [],
   "source": [
    "def normalize_kernels(support, kernels):\n",
    "    '''\n",
    "    Sums up the individual kernels and normalizes by total area.\n",
    "\n",
    "    Parameters\n",
    "    ----------\n",
    "    support: A 1-d numpy array.\n",
    "             Input data points for the probability density function.\n",
    "    kernels: A 2-d numpy array.\n",
    "             Kernels generated from \"get_kernels()\"\n",
    "             \n",
    "    Returns\n",
    "    -------\n",
    "    A 1-d numpy array\n",
    "    '''\n",
    "    \n",
    "    # YOUR CODE HERE\n",
    "    \n",
    "    return density"
   ]
  },
  {
   "cell_type": "code",
   "execution_count": null,
   "metadata": {
    "collapsed": false,
    "deletable": false,
    "nbgrader": {
     "checksum": "f631bc7f54700e516b48cd6446ad22a3",
     "grade": true,
     "grade_id": "normalize_kernels_test",
     "locked": true,
     "points": 4,
     "solution": false
    }
   },
   "outputs": [],
   "source": [
    "# We use the same kernels_t and support_t from the previous test for get_kernels\n",
    "density_t = normalize_kernels(support=support_t, kernels=kernels_t)\n",
    "density_a = np.array(\n",
    "    [1.797059e-11, 1.156834e-03, 1.888331e+00, 2.109355e+00, 2.314336e-03]\n",
    "    )\n",
    "assert_array_almost_equal(density_t, density_a)"
   ]
  },
  {
   "cell_type": "markdown",
   "metadata": {},
   "source": [
    "## Plot KDE (scipy version)\n",
    "\n",
    "- Use `get_kernels()` and `normalize_kernels()` to plot a KDE and a histogram in the same figure.\n",
    "\n",
    "![](./images/kde_scipy.png)"
   ]
  },
  {
   "cell_type": "code",
   "execution_count": null,
   "metadata": {
    "collapsed": false,
    "deletable": false,
    "nbgrader": {
     "checksum": "4c6dcc27e33ebcd033ca3372752c516f",
     "grade": false,
     "grade_id": "plot_scipy_kde_answer",
     "locked": false,
     "solution": true
    }
   },
   "outputs": [],
   "source": [
    "def plot_scipy_kde(df, support, column='AirTime', bins=50):\n",
    "    '''\n",
    "    Plots a KDE (using scipy functions) over a histogram.\n",
    "    \n",
    "    Parameters\n",
    "    ----------\n",
    "    df: A pandas.DataFrame\n",
    "    support: A 1-d numpy array.\n",
    "             Input data points for the probability density function.\n",
    "    \n",
    "    Returns\n",
    "    -------\n",
    "    A matplotlib.axes.Axes instance.\n",
    "    '''\n",
    "    \n",
    "    # YOUR CODE HERE\n",
    "    \n",
    "    return ax"
   ]
  },
  {
   "cell_type": "code",
   "execution_count": null,
   "metadata": {
    "collapsed": false,
    "deletable": false,
    "nbgrader": {
     "checksum": "36dd100a6dbb18bd4a3418853d369922",
     "grade": false,
     "grade_id": "plot_scipy_kernels_run",
     "locked": true,
     "solution": false
    }
   },
   "outputs": [],
   "source": [
    "support = np.linspace(20, 90, 100)\n",
    "kde_scipy = plot_scipy_kde(df=local, support=support)"
   ]
  },
  {
   "cell_type": "code",
   "execution_count": null,
   "metadata": {
    "collapsed": false,
    "deletable": false,
    "nbgrader": {
     "checksum": "b1f3b65785e2ac8e4387bb760e595b66",
     "grade": true,
     "grade_id": "plot_scipy_kernels_test",
     "locked": true,
     "points": 7,
     "solution": false
    }
   },
   "outputs": [],
   "source": [
    "kde_scipy_t = plot_scipy_kde(df=local, support=support, bins=10)\n",
    "assert_is_instance(kde_scipy_t, mpl.axes.Axes)\n",
    "\n",
    "# test histogram\n",
    "patches = kde_scipy_t.patches\n",
    "assert_equal(len(patches), 10)\n",
    "\n",
    "bins_a = [25.,  31.,  37.,  43.,  49.,  55.,  61.,  67.,  73.,  79.,  85.]\n",
    "freq_a = [0.05453103,  0.07852469,  0.0242911,   0.00604799,  0.00148721,\n",
    "          0.00069403,  0.00039659,  0.00039659,  0.,          0.00029744]\n",
    "\n",
    "for i in range(len(patches)):\n",
    "    assert_equal(patches[i].get_x(), bins_a[i])\n",
    "    assert_almost_equal(patches[i].get_height(), freq_a[i])\n",
    "\n",
    "# test kde\n",
    "lines = kde_scipy_t.lines\n",
    "assert_equal(len(kde_scipy_t.lines), 1)\n",
    "kdex, kdey = kde_scipy_t.lines[0].get_xydata().T\n",
    "assert_almost_equal(np.trapz(kdey, kdex), 1.0, 4)\n",
    "\n",
    "# check label texts\n",
    "assert_is_not(len(kde_scipy_t.title.get_text()), 0,\n",
    "    msg=\"Your plot doesn't have a title.\")\n",
    "assert_is_not(kde_scipy_t.yaxis.get_label_text(), '',\n",
    "    msg=\"Change the y-axis label to something more descriptive.\")"
   ]
  },
  {
   "cell_type": "markdown",
   "metadata": {},
   "source": [
    "## Plot KDE (sklearn version)\n",
    "\n",
    "- Plot a KDE using the bandwidth calculated with Silverman's rule of thumb and [sklearn.neighbors.KernelDensity](http://scikit-learn.org/stable/modules/generated/sklearn.neighbors.KernelDensity.html). See lesson notebook, docstring, samplot plot, and test cases for details.\n",
    "\n",
    "![](./images/kde_sklearn.png)"
   ]
  },
  {
   "cell_type": "code",
   "execution_count": null,
   "metadata": {
    "collapsed": true,
    "deletable": false,
    "nbgrader": {
     "checksum": "9e3aaac470b48a7dd52487617286917d",
     "grade": false,
     "grade_id": "plot_sklearn_kde_answer",
     "locked": false,
     "solution": true
    }
   },
   "outputs": [],
   "source": [
    "def plot_sklearn_kde(df, support, column='AirTime', bins=50):\n",
    "    '''\n",
    "    Plots a KDE and a histogram using sklearn.KernelDensity.\n",
    "    Uses Gaussian kernels.\n",
    "    The optimal bandwidth is calculated according to Silverman's rule of thumb.\n",
    "    \n",
    "    Parameters\n",
    "    ----------\n",
    "    df: A pandas.DataFrame\n",
    "    support: A 1-d numpy array.\n",
    "             Input data points for the probability density function.\n",
    "    \n",
    "    Returns\n",
    "    -------\n",
    "    ax: A matplotlib.axes.Axes instance.\n",
    "    kde: A sklearn.neighbors.kde.KernelDensity instance.\n",
    "    '''\n",
    "    \n",
    "    # YOUR CODE HERE\n",
    "    \n",
    "    return ax, kde"
   ]
  },
  {
   "cell_type": "code",
   "execution_count": null,
   "metadata": {
    "collapsed": false,
    "deletable": false,
    "nbgrader": {
     "checksum": "0abd34e96365ec62ca5cc64e13510b9e",
     "grade": false,
     "grade_id": "plot_sklearn_kde_run1",
     "locked": true,
     "solution": false
    }
   },
   "outputs": [],
   "source": [
    "ax_kde_sklearn, kde_sklearn = plot_sklearn_kde(df=local, support=support)"
   ]
  },
  {
   "cell_type": "code",
   "execution_count": null,
   "metadata": {
    "collapsed": false,
    "deletable": false,
    "nbgrader": {
     "checksum": "b244fa4b6d4ef0e436632de79f657b22",
     "grade": true,
     "grade_id": "plot_sklearn_kde_test",
     "locked": true,
     "points": 7,
     "solution": false
    }
   },
   "outputs": [],
   "source": [
    "ax_kde_sklearn_t, kde_sklearn_t = plot_sklearn_kde(df=local, support=support, bins=10)\n",
    "assert_is_instance(ax_kde_sklearn_t, mpl.axes.Axes)\n",
    "assert_is_instance(kde_sklearn_t, KernelDensity)\n",
    "\n",
    "# test histogram\n",
    "patches = ax_kde_sklearn_t.patches\n",
    "assert_equal(len(patches), 10)\n",
    "\n",
    "bins_a = [25.,  31.,  37.,  43.,  49.,  55.,  61.,  67.,  73.,  79.,  85.]\n",
    "freq_a = [0.05453103,  0.07852469,  0.0242911,   0.00604799,  0.00148721,\n",
    "          0.00069403,  0.00039659,  0.00039659,  0.,          0.00029744]\n",
    "\n",
    "for i in range(len(patches)):\n",
    "    assert_equal(patches[i].get_x(), bins_a[i])\n",
    "    assert_almost_equal(patches[i].get_height(), freq_a[i])\n",
    "\n",
    "# test kde\n",
    "lines = ax_kde_sklearn_t.lines\n",
    "assert_equal(len(ax_kde_sklearn_t.lines), 1)\n",
    "kdex, kdey = ax_kde_sklearn_t.lines[0].get_xydata().T\n",
    "assert_almost_equal(np.trapz(kdey, kdex), 1.0, 4)\n",
    "\n",
    "# check label texts\n",
    "assert_is_not(len(ax_kde_sklearn_t.title.get_text()), 0,\n",
    "    msg=\"Your plot doesn't have a title.\")\n",
    "assert_is_not(ax_kde_sklearn_t.yaxis.get_label_text(), '',\n",
    "    msg=\"Change the y-axis label to something more descriptive.\")"
   ]
  }
 ],
 "metadata": {
  "kernelspec": {
   "display_name": "Python 3",
   "language": "python",
   "name": "python3"
  },
  "language_info": {
   "codemirror_mode": {
    "name": "ipython",
    "version": 3
   },
   "file_extension": ".py",
   "mimetype": "text/x-python",
   "name": "python",
   "nbconvert_exporter": "python",
   "pygments_lexer": "ipython3",
   "version": "3.5.2"
  }
 },
 "nbformat": 4,
 "nbformat_minor": 0
}
