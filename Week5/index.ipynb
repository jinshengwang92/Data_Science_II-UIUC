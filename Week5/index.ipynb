{
 "cells": [
  {
   "cell_type": "markdown",
   "metadata": {},
   "source": [
    "\n",
    "<DIV ALIGN=CENTER>\n",
    "\n",
    "# Advanced Data Science\n",
    "## University of Illinois\n",
    "### Professor: Robert J. Brunner  \n",
    "### Spring 2017\n",
    "\n",
    "</DIV>  \n",
    "-----\n",
    "-----"
   ]
  },
  {
   "cell_type": "markdown",
   "metadata": {},
   "source": [
    "## Week 5: Unsupervised Learning\n",
    "\n",
    "### Lecture 1: [Dimension Reduction][l1]\n",
    "\n",
    "Learn about dimension reduction, and in particular Principal Component\n",
    "Analysis (PCA) in this Notebook.\n",
    "\n",
    "### Lecture 2: [Clustering][l2]\n",
    "\n",
    "Learn about clustering techniques such as k-Means and DBSCAN in this\n",
    "Notebook.\n",
    "\n",
    "### Lecture 3: [Density Estimation][l3]\n",
    "\n",
    "Learn about density estimation including kernel density estimation in\n",
    "this Notebook.\n",
    "\n",
    "-----\n",
    "\n",
    "[l1]: ../notebooks/intro2dr.ipynb\n",
    "[l2]: ../notebooks/intro2cluster.ipynb\n",
    "[l3]: ../notebooks/intro2de.ipynb"
   ]
  },
  {
   "cell_type": "code",
   "execution_count": 1,
   "metadata": {
    "collapsed": false
   },
   "outputs": [
    {
     "data": {
      "text/markdown": [
       "# Week 5 Overview #\n",
       "\n",
       "## Introduction to Unsupervised Learning ##\n",
       "\n",
       "This week you will learn about unsupervised learning, where knowledge is\n",
       "extracted from data with no or little a prior assumptions. The most\n",
       "important unsupervised learning techniques that we will explore this\n",
       "week include dimensional reduction, cluster finding, and density\n",
       "estimation. We will use the scikit learn library to apply each of these\n",
       "techniques to real data, to reduce the dimensionality of a data set\n",
       "prior to apply an additional algorithm, to identify groups or clusters\n",
       "within a data set, and to functionally approximate a binned or\n",
       "discrete data set, respectively.\n",
       "\n",
       "### Objectives ###\n",
       "\n",
       "##### By the end of this lesson, you should be able to: ######\n",
       "\n",
       "- Understand the basic concepts of dimension reduction and be able to apply PCA\n",
       "- Understand the basic principles of cluster detection and be able to apply k-means and DBSCAN\n",
       "- Understand density estimation and be able to apply KDE\n",
       "\n",
       "### Activities and Assignments ###\n",
       "\n",
       "| Activities and Assignments               | Time Estimate | Deadline*                |                 Points |\n",
       "| :--------------------------------------- | ------------- | ------------------------ | ---------------------: |\n",
       "| **[Week 5 Introduction Video][wv]**      | 10 Minutes    | Tuesday                  |                     20 |\n",
       "| **[Week 5 Lesson 1: Introduction to dimension reduction](lesson1.md)** | 2 Hours       | Thursday                 |                     20 |\n",
       "| **[Week 5 Lesson 2: Introduction to clustering](lesson2.md)** | 2 Hours       | Thursday                 |                     20 |\n",
       "| **[Week 5 Lesson 3: Introduction to density estimation](lesson3.md)** | 2 Hours       | Thursday                 |                     20 |\n",
       "| **[Week 5 Quiz][wq]**                    | 45 Minutes    | Friday                   |                     70 |\n",
       "| **Week 5 Assignment Submission**         | 4 Hours       | *The following* Monday   | 80 Instructor, 40 Peer |\n",
       "| **Week 5 Completion of Peer Review**     | 2 Hours       | *The following* Saturday |                     30 |\n",
       "\n",
       "*Please note that unless otherwise noted, the due time is 6pm Central time!*\n",
       "\n",
       "----------\n",
       "[wv]: https://mediaspace.illinois.edu/media/\n",
       "[wq]: https://learn.illinois.edu/mod/quiz/\n"
      ],
      "text/plain": [
       "<IPython.core.display.Markdown object>"
      ]
     },
     "execution_count": 1,
     "metadata": {},
     "output_type": "execute_result"
    }
   ],
   "source": [
    "from IPython.display import Markdown\n",
    "\n",
    "Markdown(filename='README.md')"
   ]
  }
 ],
 "metadata": {
  "kernelspec": {
   "display_name": "Python 3",
   "language": "python",
   "name": "python3"
  },
  "language_info": {
   "codemirror_mode": {
    "name": "ipython",
    "version": 3
   },
   "file_extension": ".py",
   "mimetype": "text/x-python",
   "name": "python",
   "nbconvert_exporter": "python",
   "pygments_lexer": "ipython3",
   "version": "3.5.2"
  }
 },
 "nbformat": 4,
 "nbformat_minor": 0
}
