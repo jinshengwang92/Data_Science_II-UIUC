{
 "cells": [
  {
   "cell_type": "markdown",
   "metadata": {},
   "source": [
    "\n",
    "<DIV ALIGN=CENTER>\n",
    "\n",
    "# Advanced Data Science\n",
    "## University of Illinois\n",
    "### Professor: Robert J. Brunner  \n",
    "### Spring 2016\n",
    "\n",
    "</DIV>  \n",
    "-----\n",
    "-----"
   ]
  },
  {
   "cell_type": "markdown",
   "metadata": {},
   "source": [
    "## Week 6: Machine Learning\n",
    "\n",
    "### Lecture 1: [Recommender Systems][l1]\n",
    "\n",
    "Learn how recommender systems are built by using a simple example built\n",
    "using Pandas and Numpy in this Notebook.\n",
    "\n",
    "### Lecture 2: [Anomaly Detection][l2]\n",
    "\n",
    "Learn about anomalies and detecting them in this Notebook.\n",
    "\n",
    "### Lecture 3: [Practical Concepts][l3]\n",
    "\n",
    "Learn about several practical concepts in machine learning including\n",
    "feature selection, pipelines, scaling, and validation/learning curves in\n",
    "this Notebook.\n",
    "\n",
    "-----\n",
    "\n",
    "[l1]: ../notebooks/intro2rs.ipynb\n",
    "[l2]: ../notebooks/intro2ad.ipynb\n",
    "[l3]: ../notebooks/intro2pc.ipynb"
   ]
  },
  {
   "cell_type": "code",
   "execution_count": 1,
   "metadata": {
    "collapsed": false
   },
   "outputs": [
    {
     "data": {
      "text/markdown": [
       "# Week 6 Overview #\n",
       "\n",
       "## Machine Learning ##\n",
       "\n",
       "This week you will build on previous lessons to learn about two specific\n",
       "machine learning topics: recommender systems and outlier detection, as\n",
       "well as a number of practical concepts that can improve both the\n",
       "efficacy and performance of a machine learning technique. Recommender\n",
       "systems are ubiquitous and are used to provide recommendations to a user\n",
       "based on previously collected data either from other users, the current\n",
       "user, or both. Anomaly detection is a rich field that focuses on\n",
       "detecting data that do not follow previously established rules or\n",
       "expectations. Finally, we will introduce a number of concepts that can be\n",
       "used to improve either how well an algorithm works or its execution\n",
       "efficiency (or both).\n",
       "\n",
       "### Objectives ###\n",
       "\n",
       "##### By the end of this lesson, you should be able to: ######\n",
       "\n",
       "- Understand the basic concepts of a recommendation system and how they\n",
       "  are used.\n",
       "- Understand the basic principles of anomaly detection and the different\n",
       "  areas in which this technique is applied.\n",
       "- Understand how to apply practical concepts such as feature scaling,\n",
       "  feature selection, cross-validation, and grid search to improve the\n",
       "  performance of a machine learning technique.\n",
       "\n",
       "### Activities and Assignments ###\n",
       "\n",
       "| Activities and Assignments               | Time Estimate | Deadline*                |                 Points |\n",
       "| :--------------------------------------- | ------------- | ------------------------ | ---------------------: |\n",
       "| **[Week 6 Introduction Video][wv]**      | 10 Minutes    | Tuesday                  |                     N/A |\n",
       "| **[Week 6 Lesson 1: Introduction to recommender systems](lesson1.md)** | 2 Hours       | Thursday                 |                     20 |\n",
       "| **[Week 6 Lesson 2: Introduction to anomaly detection](lesson2.md)** | 2 Hours       | Thursday                 |                     20 |\n",
       "| **[Week 6 Lesson 3: Practical Concepts](lesson3.md)** | 2 Hours       | Thursday                 |                     20 |\n",
       "| **[Week 6 Quiz][wq]**                    | 45 Minutes    | Friday                   |                     70 |\n",
       "| **Week 6 Assignment Submission**         | 4 Hours       | *The following* Monday   | 125 Instructor, 10 Peer |\n",
       "| **Week 6 Completion of Peer Review**     | 2 Hours       | *The following* Saturday |                     15 |\n",
       "\n",
       "*Please note that unless otherwise noted, the due time is 6pm Central time!*\n",
       "\n",
       "----------\n",
       "[wv]: https://mediaspace.illinois.edu/media/\n",
       "[wq]: https://learn.illinois.edu/mod/quiz/\n"
      ],
      "text/plain": [
       "<IPython.core.display.Markdown object>"
      ]
     },
     "execution_count": 1,
     "metadata": {},
     "output_type": "execute_result"
    }
   ],
   "source": [
    "from IPython.display import Markdown\n",
    "\n",
    "Markdown(filename='README.md')"
   ]
  }
 ],
 "metadata": {
  "kernelspec": {
   "display_name": "Python 3",
   "language": "python",
   "name": "python3"
  },
  "language_info": {
   "codemirror_mode": {
    "name": "ipython",
    "version": 3
   },
   "file_extension": ".py",
   "mimetype": "text/x-python",
   "name": "python",
   "nbconvert_exporter": "python",
   "pygments_lexer": "ipython3",
   "version": "3.5.2"
  }
 },
 "nbformat": 4,
 "nbformat_minor": 0
}
