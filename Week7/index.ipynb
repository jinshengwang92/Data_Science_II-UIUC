{
 "cells": [
  {
   "cell_type": "markdown",
   "metadata": {},
   "source": [
    "\n",
    "<DIV ALIGN=CENTER>\n",
    "\n",
    "# Advanced Data Science\n",
    "## University of Illinois\n",
    "### Professor: Robert J. Brunner  \n",
    "### Spring 2017\n",
    "\n",
    "</DIV>  \n",
    "-----\n",
    "-----"
   ]
  },
  {
   "cell_type": "markdown",
   "metadata": {},
   "source": [
    "## Week 7: Introduction to Text Analysis\n",
    "\n",
    "### Lecture 1: [Basic Concepts][l1]\n",
    "\n",
    "Learn how to convert a text document into a machine computable form by using bag of words.\n",
    "\n",
    "### Lecture 2: [Text Classification][l2]\n",
    "\n",
    "Learn how to classify text documents, including for sentiment analysis. \n",
    "\n",
    "### Lecture 3: [Text Mining][l3]\n",
    "\n",
    "Learn about text mining using dimensional reduction and clustering.\n",
    "\n",
    "-----\n",
    "\n",
    "[l1]: ../notebooks/intro2ta.ipynb\n",
    "[l2]: ../notebooks/intro2tc.ipynb\n",
    "[l3]: ../notebooks/intro2tm.ipynb"
   ]
  },
  {
   "cell_type": "code",
   "execution_count": 1,
   "metadata": {
    "collapsed": false
   },
   "outputs": [
    {
     "data": {
      "text/markdown": [
       "# Week 7 Overview #\n",
       "\n",
       "## Introduction to Text Analysis ##\n",
       "\n",
       "This week you will start applying your new machine learning skills to real world problems. This week we start this process by learning about text analysis. First, we need to review the process by which textual data is converted into numerical data that can be processed by a computer. Along with this are a number of new concepts that focus on manipulating these data to generate improved machine learning predictions. Finally, we will apply machine learning algorithms including classification, dimensional reduction, and clustering to text data.\n",
       "\n",
       "### Objectives ###\n",
       "\n",
       "##### By the end of this lesson, you should be able to: ######\n",
       "\n",
       "- Understand the basic concepts of tokenizing a text document including word counts, bag of words, stop words, TF-IDF, stemming, and n-grams.\n",
       "- Understand the basic principles of text classification, including for sentiment analysis.\n",
       "- Understand how to apply advanced text mining approaches such as dimensional reduction, clustering, and parameter grid search by using Python.\n",
       "\n",
       "### Activities and Assignments ###\n",
       "\n",
       "| Activities and Assignments               | Time Estimate | Deadline*                |                  Points |\n",
       "| :--------------------------------------- | ------------- | ------------------------ | ----------------------: |\n",
       "| **[Week 7 Introduction Video][wv]**      | 10 Minutes    | Tuesday                  |                     N/A |\n",
       "| **[Week 7 Lesson 1: Introduction to Text Analysis](lesson1.md)** | 2 Hours       | Thursday                 |                      20 |\n",
       "| **[Week 7 Lesson 2: Introduction to Text Classification](lesson2.md)** | 2 Hours       | Thursday                 |                      20 |\n",
       "| **[Week 7 Lesson 3: Introduction to Text Mining](lesson3.md)** | 2 Hours       | Thursday                 |                      20 |\n",
       "| **[Week 7 Quiz][wq]**                    | 45 Minutes    | Friday                   |                      70 |\n",
       "| **Week 7 Assignment Submission**         | 3 Hours       | *The following* Monday   | 125 Instructor, 10 Peer |\n",
       "| **Week 7 Completion of Peer Review**     | 2 Hours       | *The following* Saturday |                      15 |\n",
       "\n",
       "*Please note that unless otherwise noted, the due time is 6pm Central time!*\n",
       "\n",
       "----------\n",
       "[wv]: https://mediaspace.illinois.edu/media/\n",
       "[wq]: https://learn.illinois.edu/mod/quiz/\n"
      ],
      "text/plain": [
       "<IPython.core.display.Markdown object>"
      ]
     },
     "execution_count": 1,
     "metadata": {},
     "output_type": "execute_result"
    }
   ],
   "source": [
    "from IPython.display import Markdown\n",
    "\n",
    "Markdown(filename='README.md')"
   ]
  }
 ],
 "metadata": {
  "kernelspec": {
   "display_name": "Python 3",
   "language": "python",
   "name": "python3"
  },
  "language_info": {
   "codemirror_mode": {
    "name": "ipython",
    "version": 3
   },
   "file_extension": ".py",
   "mimetype": "text/x-python",
   "name": "python",
   "nbconvert_exporter": "python",
   "pygments_lexer": "ipython3",
   "version": "3.5.2"
  }
 },
 "nbformat": 4,
 "nbformat_minor": 0
}
