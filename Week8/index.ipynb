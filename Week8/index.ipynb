{
 "cells": [
  {
   "cell_type": "markdown",
   "metadata": {},
   "source": [
    "\n",
    "<DIV ALIGN=CENTER>\n",
    "\n",
    "# Advanced Data Science\n",
    "## University of Illinois\n",
    "### Professor: Robert J. Brunner  \n",
    "### Spring 2017\n",
    "\n",
    "</DIV>  \n",
    "-----\n",
    "-----"
   ]
  },
  {
   "cell_type": "markdown",
   "metadata": {},
   "source": [
    "## Week 8: Introduction to Social Media\n",
    "\n",
    "### Lecture 1: [Email][l1]\n",
    "\n",
    "Learn how to process email messages.\n",
    "\n",
    "### Lecture 2: [Twitter][l2]\n",
    "\n",
    "Learn how to access twitter via the twitter API, and to process tweets and twitter specific information.\n",
    "\n",
    "### Lecture 3: [Web][l3]\n",
    "\n",
    "Learn about accessing web data by using web scraping techniques.\n",
    "\n",
    "-----\n",
    "\n",
    "[l1]: ../notebooks/intro2sme.ipynb\n",
    "[l2]: ../notebooks/intro2smt.ipynb\n",
    "[l3]: ../notebooks/intro2smw.ipynb"
   ]
  },
  {
   "cell_type": "code",
   "execution_count": 1,
   "metadata": {
    "collapsed": false
   },
   "outputs": [
    {
     "data": {
      "text/markdown": [
       "# Week 8 Overview #\n",
       "\n",
       "## Introduction to Social Media ##\n",
       "\n",
       "This week we will introduce social media, which is a form of data that is constructed by users and either distributed to others or publicly released. Popular examples of this type of data include emails, tweets, and web pages. These types of data can be accessed either via build-in Python libraries, public APIs, or simple web scraping. Specifically, this week you will learn how to parse and classify emails, how to authenticate to twitter to enable searching the twitter data stream, and how to obtain, parse, and process web-accessible data. \n",
       "\n",
       "### Objectives ###\n",
       "\n",
       "##### By the end of this lesson, you should be able to: ######\n",
       "\n",
       "- Understand how to parse and classify email data\n",
       "- Understand how to use OAUTH to authenticate an application\n",
       "- Understand how to perform sentiment analysis on a large text corpus\n",
       "- Understand how to parse and process web-accessible data\n",
       "\n",
       "### Activities and Assignments ###\n",
       "\n",
       "| Activities and Assignments               | Time Estimate | Deadline*                |                  Points |\n",
       "| :--------------------------------------- | ------------- | ------------------------ | ----------------------: |\n",
       "| **[Week 8 Introduction Video][wv]**      | 10 Minutes    | Tuesday                  |                     N/A |\n",
       "| **[Week 8 Lesson 1: Introduction to Social Media: Email](lesson1.md)** | 2 Hours       | Thursday                 |                      20 |\n",
       "| **[Week 8 Lesson 2: Introduction to Social Media: Twitter](lesson2.md)** | 2 Hours       | Thursday                 |                      20 |\n",
       "| **[Week 8 Lesson 3: Introduction to Social Media: Web](lesson3.md)** | 2 Hours       | Thursday                 |                      20 |\n",
       "| **[Week 8 Quiz][wq]**                    | 45 Minutes    | Friday                   |                      70 |\n",
       "| **Week 8 Assignment Submission**         | 4 Hours       | *The following* Monday   | 125 Instructor, 10 Peer |\n",
       "| **Week 8 Completion of Peer Review**     | 2 Hours       | *The following* Saturday |                      15 |\n",
       "\n",
       "*Please note that unless otherwise noted, the due time is 6pm Central time!*\n",
       "\n",
       "----------\n",
       "[wv]: https://mediaspace.illinois.edu/media/\n",
       "[wq]: https://learn.illinois.edu/mod/quiz/\n"
      ],
      "text/plain": [
       "<IPython.core.display.Markdown object>"
      ]
     },
     "execution_count": 1,
     "metadata": {},
     "output_type": "execute_result"
    }
   ],
   "source": [
    "from IPython.display import Markdown\n",
    "\n",
    "Markdown(filename='README.md')"
   ]
  }
 ],
 "metadata": {
  "kernelspec": {
   "display_name": "Python 3",
   "language": "python",
   "name": "python3"
  },
  "language_info": {
   "codemirror_mode": {
    "name": "ipython",
    "version": 3
   },
   "file_extension": ".py",
   "mimetype": "text/x-python",
   "name": "python",
   "nbconvert_exporter": "python",
   "pygments_lexer": "ipython3",
   "version": "3.5.2"
  }
 },
 "nbformat": 4,
 "nbformat_minor": 0
}
