{
 "cells": [
  {
   "cell_type": "markdown",
   "metadata": {},
   "source": [
    "\n",
    "<DIV ALIGN=CENTER>\n",
    "\n",
    "# Advanced Data Science\n",
    "## University of Illinois\n",
    "### Professor: Robert J. Brunner  \n",
    "### Spring 2017\n",
    "\n",
    "</DIV>  \n",
    "-----\n",
    "-----"
   ]
  },
  {
   "cell_type": "markdown",
   "metadata": {},
   "source": [
    "## Week 9: Introduction to Natural Language Processing\n",
    "\n",
    "### Lecture 1: [Basic Concepts][l1]\n",
    "\n",
    "Learn how to perform chunking, part of speech tagging, and named entity representation.\n",
    "\n",
    "### Lecture 2: [Topic Modeling][l2]\n",
    "\n",
    "Learn how to perform topic modeling.\n",
    "\n",
    "### Lecture 3: [Semantic Analysis][l3]\n",
    "\n",
    "Learn about modeling the semantic content of documents.\n",
    "\n",
    "-----\n",
    "\n",
    "[l1]: ../notebooks/intro2nlp-bc.ipynb\n",
    "[l2]: ../notebooks/intro2nlp-tm.ipynb\n",
    "[l3]: ../notebooks/intro2nlp-sa.ipynb"
   ]
  },
  {
   "cell_type": "code",
   "execution_count": 1,
   "metadata": {
    "collapsed": false
   },
   "outputs": [
    {
     "data": {
      "text/markdown": [
       "# Week 9 Overview #\n",
       "\n",
       "## Natural Language Processing ##\n",
       "\n",
       "This week we will delve more deeply into natural language processing (NLP). First, we will move beyond simple word tokenization to look at other methods for parsing text documents. This will lead into the concepts of chunking and tagging, which will enable us to label the part of speech for the words in a document. In addition, we can identify named entities, such as a person, location, or organization within a text document. Next, we introduce the concept of topic modeling, which is an unsupervised learning approach to quantifying the topics, or concepts, that make up different documents within a corpus. Finally, we will learn about  semantic analysis and how the word vector space model that is used by the _word2vec_ algorithm enables meaning to be extracted from text documents.\n",
       "\n",
       "### Objectives ###\n",
       "\n",
       "##### By the end of this lesson, you should be able to: ######\n",
       "\n",
       "- Understand the basic concepts of part of speech tagging and named entity recognition\n",
       "- Understand the basic concepts of topic modeling\n",
       "- Understand the basic concepts of semantic analysis\n",
       "- Be able to leverage these concepts within a Python application.\n",
       "\n",
       "### Activities and Assignments ###\n",
       "\n",
       "**Note: Week 9 is broken up by the University's Spring Break. As a result, the assignment for this week will be due after the break (3/27). Likewise, the peer assessment will be performed the week following Spring Break (e.g., peer assignments will be distributed on 3/28).**\n",
       "\n",
       "| Activities and Assignments               | Time Estimate | Deadline*                |                  Points |\n",
       "| :--------------------------------------- | ------------- | ------------------------ | ----------------------: |\n",
       "| **[Week 9 Introduction Video][wv]**      | 10 Minutes    | Tuesday                  |                     N/A |\n",
       "| **[Week 9 Lesson 1: Introduction to NLP: Basic Concepts](lesson1.md)** | 2 Hours       | Thursday                 |                      20 |\n",
       "| **[Week 9 Lesson 2: Introduction to NLP: Topic Modeling](lesson2.md)** | 2 Hours       | Thursday                 |                      20 |\n",
       "| **[Week 9 Lesson 3: Introduction to NLP: Semantic Analysis](lesson3.md)** | 2 Hours       | Thursday                 |                      20 |\n",
       "| **[Week 9 Quiz][wq]**                    | 30 Minutes    | Friday                   |                      70 |\n",
       "| **Week 9 Assignment Submission**         | 4 Hours       | *The following* Monday   | 125 Instructor, 10 Peer |\n",
       "| **Week 9 Completion of Peer Review**     | 2 Hours       | *The following* Saturday |                      15 |\n",
       "\n",
       "*Please note that unless otherwise noted, the due time is 6pm Central time!*\n",
       "\n",
       "----------\n",
       "[wv]: https://mediaspace.illinois.edu/media/\n",
       "[wq]: https://learn.illinois.edu/mod/quiz/\n"
      ],
      "text/plain": [
       "<IPython.core.display.Markdown object>"
      ]
     },
     "execution_count": 1,
     "metadata": {},
     "output_type": "execute_result"
    }
   ],
   "source": [
    "from IPython.display import Markdown\n",
    "\n",
    "Markdown(filename='README.md')"
   ]
  }
 ],
 "metadata": {
  "kernelspec": {
   "display_name": "Python 3",
   "language": "python",
   "name": "python3"
  },
  "language_info": {
   "codemirror_mode": {
    "name": "ipython",
    "version": 3
   },
   "file_extension": ".py",
   "mimetype": "text/x-python",
   "name": "python",
   "nbconvert_exporter": "python",
   "pygments_lexer": "ipython3",
   "version": "3.5.2"
  }
 },
 "nbformat": 4,
 "nbformat_minor": 0
}
