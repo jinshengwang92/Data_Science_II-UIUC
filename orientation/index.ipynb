{
 "cells": [
  {
   "cell_type": "markdown",
   "metadata": {},
   "source": [
    "\n",
    "<DIV ALIGN=CENTER>\n",
    "\n",
    "# Advanced Data Science\n",
    "## University of Illinois\n",
    "### Professor: Robert J. Brunner  \n",
    "### Spring 2017\n",
    "\n",
    "</DIV>  \n",
    "-----\n",
    "-----"
   ]
  },
  {
   "cell_type": "markdown",
   "metadata": {},
   "source": [
    "## Orientation Week\n",
    "\n",
    "### Topic 1: [Introduction to IPython Notebook][t1]\n",
    "\n",
    "This IPython Notebook will give you experiene in working with the course JupyterHub server.\n",
    "\n",
    "-----\n",
    "\n",
    "[t1]: ../notebooks/intro2ipy.ipynb"
   ]
  },
  {
   "cell_type": "code",
   "execution_count": 2,
   "metadata": {
    "collapsed": false
   },
   "outputs": [
    {
     "data": {
      "text/markdown": [
       "# Mandatory Orientation Module#\n",
       "\n",
       "In this module, you will become familiar with the course, your instructor, your classmates, and our learning environment.\n",
       "\n",
       "## Time Estimate ##\n",
       "\n",
       "This orientation module should take approximately 2-3 hours of dedicated time to complete.\n",
       "\n",
       "## Objectives##\n",
       "\n",
       "The goal of the orientation module is to familiarize you with the course structure and the online learning environment. The orientation also helps you obtain the technical skills required for the course.\n",
       "\n",
       "After this module, you should be able to:\n",
       "\n",
       "- Recall important information about this course.\n",
       "- Update your Moodle profile.\n",
       "- Use the technologies required in this course.\n",
       "\n",
       "## Instructional Activities ##\n",
       "\n",
       "Below is a list of the activities and assignments you must complete in this orientation module. Click on the name of each activity for more detailed instructions. Please do these activities before starting with the normal class material. To facilitate late enrollment, these items will not be formally due until the relevant day of the second week of the course.\n",
       "\n",
       "| Activity                                 | Time Estimate | Deadline                 | Points |\n",
       "| ---------------------------------------- | ------------- | ------------------------ | ------ |\n",
       "| [Course Overview Video][OV]              | 15 Minutes    | *The following* Saturday | NA     |\n",
       "| [Course Information and Resources (Syllabus)](syllabus.md) | 1 Hour        | *The following* Saturday | NA     |\n",
       "| [Orientation Quiz][OQ]                   | 45 minutes    | *The following* Saturday | 70     |\n",
       "| [Pre-Class Activity: Introduce Yourself](Pre-Class_Activity.md) | 60 Minutes    | *The following* Saturday | 60     |\n",
       "\n",
       "In this course, we will be using a JupyterHub server that is running on the CS department's cloud computing system. To access this system, you must be on the University network. If you wish to work off campus, you must first [VPN](https://techservices.illinois.edu/services/virtual-private-networking-vpn) into campus. To learn how to connect to this server, and how to work with the course material, you should logon to the course [JupyterHub server][cs], and locate, run, and explore the [Introduction to IPython](../notebooks/intro2ipy.ipynb) notebook to become familiar with using notebooks on the course JupyterHub server. \n",
       "\n",
       "To logon on to the server, you will need to authenticate via Shibboleth. Next, you will click on the `My Server` button. This will give you a Jupyter Server interface, which should be familiar to you from the previous INFO490 course. Note that we include read only copies of the data and course material and writeable versions so you can experiment and learn.\n",
       "\n",
       "## Tips for Success ##\n",
       "\n",
       "To do well in this course, remember the following:\n",
       "\n",
       "- Log in frequently to manage your messages on a near-daily basis. If you let them pile up for 3 to 4 days, you might be overwhelmed. You should start working on new weekly content right away, on Monday of each week.\n",
       "\n",
       "- Stay on top of the course work. Falling behind will make it harder to catch up, and even harder to understand new concepts that build on previous lessons.\n",
       "\n",
       "- Consider using a source code repository to archive all of your work so that you have an automatic backup copy of all your assignments. This will also be useful in the unlikely event that our server goes down and we are unable to access course submissions. In this situation, you are still required to keep current on all your tasks and must be prepared to submit completed materials as soon as submission capability is restored.\n",
       "\n",
       "- When possible, provide tips and suggestions to your peers in this class. As a learning community, we can help each other learn and grow. One way of doing this is by helping to address the questions that your peers pose. By engaging with each other, we'll all learn better.\n",
       "\n",
       "-----\n",
       "[OV]: https://mediaspace.illinois.edu/media/Orientation+Week/1_dwpmxrqi/38493712\n",
       "[OQ]: https://learn.illinois.edu/mod/quiz/view.php?id=1325056\n",
       "\n",
       "[cs]: https://info490rb.studentspace.cs.illinois.edu\n"
      ],
      "text/plain": [
       "<IPython.core.display.Markdown object>"
      ]
     },
     "execution_count": 2,
     "metadata": {},
     "output_type": "execute_result"
    }
   ],
   "source": [
    "from IPython.display import Markdown\n",
    "\n",
    "Markdown(filename='README.md')"
   ]
  }
 ],
 "metadata": {
  "kernelspec": {
   "display_name": "Python 3",
   "language": "python",
   "name": "python3"
  },
  "language_info": {
   "codemirror_mode": {
    "name": "ipython",
    "version": 3
   },
   "file_extension": ".py",
   "mimetype": "text/x-python",
   "name": "python",
   "nbconvert_exporter": "python",
   "pygments_lexer": "ipython3",
   "version": "3.5.2"
  }
 },
 "nbformat": 4,
 "nbformat_minor": 0
}
